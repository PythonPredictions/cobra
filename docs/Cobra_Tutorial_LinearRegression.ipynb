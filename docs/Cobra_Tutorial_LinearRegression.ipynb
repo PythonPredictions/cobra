{
 "cells": [
  {
   "cell_type": "code",
   "execution_count": 52,
   "metadata": {},
   "outputs": [
    {
     "name": "stdout",
     "output_type": "stream",
     "text": [
      "The autoreload extension is already loaded. To reload it, use:\n",
      "  %reload_ext autoreload\n"
     ]
    }
   ],
   "source": [
    "# Optional: import local development version of Cobra:\n",
    "import sys\n",
    "import os\n",
    "sys.path.append(r\"C:\\Users\\hendrik.dewinter\\PycharmProjects\\cobra\")\n",
    "%load_ext autoreload\n",
    "%autoreload 2"
   ]
  },
  {
   "cell_type": "markdown",
   "metadata": {},
   "source": [
    "# Tutorial for Linear Regression"
   ]
  },
  {
   "cell_type": "markdown",
   "metadata": {},
   "source": [
    "This section we will walk you through all the required steps to build a predictive linear regression model using **Cobra**. All classes and functions used here are well-documented. In case you want more information on a class or function, run the next cell:"
   ]
  },
  {
   "cell_type": "code",
   "execution_count": 53,
   "metadata": {},
   "outputs": [],
   "source": [
    "#help(function_or_class_you_want_info_from)"
   ]
  },
  {
   "cell_type": "markdown",
   "metadata": {},
   "source": [
    "Building a good model involves three steps\n",
    "\n",
    "1. **Preprocessing**: properly prepare the predictors (a synonym for “feature” or variable that we use throughout this tutorial) for modelling.\n",
    "\n",
    "2. **Feature Selection**: automatically select a subset of predictors which contribute most to the target variable or output in which you are interested.\n",
    "\n",
    "3. **Model Evaluation**: once a model has been build, a detailed evaluation can be performed by computing all sorts of evaluation metrics.\n",
    "\n",
    "\n",
    "\n",
    "Let's dive in!!!\n",
    "***"
   ]
  },
  {
   "cell_type": "markdown",
   "metadata": {},
   "source": [
    "## Miles Per Gallon Prediction\n",
    "- GOAL : Predict the distance, measured in miles, that a car can travel per gallon of fuel\n",
    "- BASETABLE : seaborn dataset MPG"
   ]
  },
  {
   "cell_type": "markdown",
   "metadata": {},
   "source": [
    "import the necessary libraries"
   ]
  },
  {
   "cell_type": "code",
   "execution_count": 54,
   "metadata": {},
   "outputs": [],
   "source": [
    "import json\n",
    "import pandas as pd\n",
    "import numpy as np\n",
    "\n",
    "from pandas.api.types import is_datetime64_any_dtype\n",
    "\n",
    "pd.set_option('display.max_columns', 50)\n",
    "pd.set_option(\"display.max_rows\", 50)\n",
    "from cobra.preprocessing import PreProcessor\n",
    "from cobra.evaluation import generate_pig_tables, plot_incidence\n",
    "from cobra.evaluation import evaluator"
   ]
  },
  {
   "cell_type": "code",
   "execution_count": 55,
   "metadata": {},
   "outputs": [
    {
     "data": {
      "text/html": [
       "<div>\n",
       "<style scoped>\n",
       "    .dataframe tbody tr th:only-of-type {\n",
       "        vertical-align: middle;\n",
       "    }\n",
       "\n",
       "    .dataframe tbody tr th {\n",
       "        vertical-align: top;\n",
       "    }\n",
       "\n",
       "    .dataframe thead th {\n",
       "        text-align: right;\n",
       "    }\n",
       "</style>\n",
       "<table border=\"1\" class=\"dataframe\">\n",
       "  <thead>\n",
       "    <tr style=\"text-align: right;\">\n",
       "      <th></th>\n",
       "      <th>mpg</th>\n",
       "      <th>cylinders</th>\n",
       "      <th>displacement</th>\n",
       "      <th>horsepower</th>\n",
       "      <th>weight</th>\n",
       "      <th>acceleration</th>\n",
       "      <th>model_year</th>\n",
       "      <th>origin</th>\n",
       "      <th>name</th>\n",
       "    </tr>\n",
       "  </thead>\n",
       "  <tbody>\n",
       "    <tr>\n",
       "      <th>0</th>\n",
       "      <td>18.0</td>\n",
       "      <td>8</td>\n",
       "      <td>307.0</td>\n",
       "      <td>130.0</td>\n",
       "      <td>3504</td>\n",
       "      <td>12.0</td>\n",
       "      <td>70</td>\n",
       "      <td>usa</td>\n",
       "      <td>chevrolet chevelle malibu</td>\n",
       "    </tr>\n",
       "    <tr>\n",
       "      <th>1</th>\n",
       "      <td>15.0</td>\n",
       "      <td>8</td>\n",
       "      <td>350.0</td>\n",
       "      <td>165.0</td>\n",
       "      <td>3693</td>\n",
       "      <td>11.5</td>\n",
       "      <td>70</td>\n",
       "      <td>usa</td>\n",
       "      <td>buick skylark 320</td>\n",
       "    </tr>\n",
       "    <tr>\n",
       "      <th>2</th>\n",
       "      <td>18.0</td>\n",
       "      <td>8</td>\n",
       "      <td>318.0</td>\n",
       "      <td>150.0</td>\n",
       "      <td>3436</td>\n",
       "      <td>11.0</td>\n",
       "      <td>70</td>\n",
       "      <td>usa</td>\n",
       "      <td>plymouth satellite</td>\n",
       "    </tr>\n",
       "    <tr>\n",
       "      <th>3</th>\n",
       "      <td>16.0</td>\n",
       "      <td>8</td>\n",
       "      <td>304.0</td>\n",
       "      <td>150.0</td>\n",
       "      <td>3433</td>\n",
       "      <td>12.0</td>\n",
       "      <td>70</td>\n",
       "      <td>usa</td>\n",
       "      <td>amc rebel sst</td>\n",
       "    </tr>\n",
       "    <tr>\n",
       "      <th>4</th>\n",
       "      <td>17.0</td>\n",
       "      <td>8</td>\n",
       "      <td>302.0</td>\n",
       "      <td>140.0</td>\n",
       "      <td>3449</td>\n",
       "      <td>10.5</td>\n",
       "      <td>70</td>\n",
       "      <td>usa</td>\n",
       "      <td>ford torino</td>\n",
       "    </tr>\n",
       "  </tbody>\n",
       "</table>\n",
       "</div>"
      ],
      "text/plain": [
       "    mpg  cylinders  displacement  horsepower  weight  acceleration  \\\n",
       "0  18.0          8         307.0       130.0    3504          12.0   \n",
       "1  15.0          8         350.0       165.0    3693          11.5   \n",
       "2  18.0          8         318.0       150.0    3436          11.0   \n",
       "3  16.0          8         304.0       150.0    3433          12.0   \n",
       "4  17.0          8         302.0       140.0    3449          10.5   \n",
       "\n",
       "   model_year origin                       name  \n",
       "0          70    usa  chevrolet chevelle malibu  \n",
       "1          70    usa          buick skylark 320  \n",
       "2          70    usa         plymouth satellite  \n",
       "3          70    usa              amc rebel sst  \n",
       "4          70    usa                ford torino  "
      ]
     },
     "execution_count": 55,
     "metadata": {},
     "output_type": "execute_result"
    }
   ],
   "source": [
    "import seaborn as sns\n",
    "df=sns.load_dataset('mpg')\n",
    "df.head()"
   ]
  },
  {
   "cell_type": "markdown",
   "metadata": {},
   "source": [
    "In the example below, we assume the data for model building is available in a pandas DataFrame. This DataFrame should contain a an ID column, a target column (e.g. “**mpg**”) and a number of candidate predictors (features) to build a model with.\n",
    "\n",
    "***\n"
   ]
  },
  {
   "cell_type": "code",
   "execution_count": 56,
   "metadata": {},
   "outputs": [
    {
     "data": {
      "text/plain": [
       "mpg             float64\n",
       "cylinders         int64\n",
       "displacement    float64\n",
       "horsepower      float64\n",
       "weight            int64\n",
       "acceleration    float64\n",
       "model_year        int64\n",
       "origin           object\n",
       "name             object\n",
       "dtype: object"
      ]
     },
     "execution_count": 56,
     "metadata": {},
     "output_type": "execute_result"
    }
   ],
   "source": [
    "df.dtypes"
   ]
  },
  {
   "cell_type": "markdown",
   "metadata": {},
   "source": [
    "it is required to set all category vars to object dtype\n"
   ]
  },
  {
   "cell_type": "code",
   "execution_count": 57,
   "metadata": {},
   "outputs": [],
   "source": [
    "df.loc[:, df.dtypes == 'category'] =\\\n",
    "    df.select_dtypes(['category'])\\\n",
    "    .apply(lambda x: x.astype('object'))"
   ]
  },
  {
   "cell_type": "markdown",
   "metadata": {},
   "source": [
    "## Data preprocessing"
   ]
  },
  {
   "cell_type": "markdown",
   "metadata": {},
   "source": [
    "#### The first part focusses on preparing the predictors for modelling by:\n",
    "\n",
    "1. Defining the ID column, the target, discrete and contineous variables\n",
    "\n",
    "2. Splitting the dataset into training, selection and validation datasets.\n",
    "\n",
    "3. Binning continuous variables into discrete intervals\n",
    "\n",
    "4. Replacing missing values of both categorical and continuous variables (which are now binned) with an additional “Missing” bin/category\n",
    "\n",
    "5. Regrouping categories in new category “other”\n",
    "\n",
    "6. Replacing bins/categories with their corresponding incidence rate per category/bin."
   ]
  },
  {
   "cell_type": "markdown",
   "metadata": {},
   "source": [
    "In this toy dataset, the index will serve as ID,"
   ]
  },
  {
   "cell_type": "code",
   "execution_count": 58,
   "metadata": {},
   "outputs": [],
   "source": [
    "df[\"id\"] = df.index + 1\n",
    "id_col = \"id\""
   ]
  },
  {
   "cell_type": "markdown",
   "metadata": {},
   "source": [
    "and MPG is the target,\n"
   ]
  },
  {
   "cell_type": "code",
   "execution_count": 59,
   "metadata": {},
   "outputs": [
    {
     "data": {
      "text/plain": [
       "count    398.000000\n",
       "mean      23.514573\n",
       "std        7.815984\n",
       "min        9.000000\n",
       "25%       17.500000\n",
       "50%       23.000000\n",
       "75%       29.000000\n",
       "max       46.600000\n",
       "Name: mpg, dtype: float64"
      ]
     },
     "execution_count": 59,
     "metadata": {},
     "output_type": "execute_result"
    }
   ],
   "source": [
    "target_col = \"mpg\"\n",
    "df[target_col].describe()"
   ]
  },
  {
   "cell_type": "markdown",
   "metadata": {},
   "source": [
    "Finding out which variables are categorical (\"discrete\") and which are continous:\n",
    "\n",
    "\n",
    " => discrete are definitely those that contain strings:"
   ]
  },
  {
   "cell_type": "code",
   "execution_count": 60,
   "metadata": {},
   "outputs": [
    {
     "name": "stdout",
     "output_type": "stream",
     "text": [
      "['origin', 'name']\n",
      "\n",
      "origin\n",
      "usa       249\n",
      "japan      79\n",
      "europe     70\n",
      "Name: origin, dtype: int64\n",
      "\n",
      "name\n",
      "ford pinto                6\n",
      "amc matador               5\n",
      "toyota corolla            5\n",
      "ford maverick             5\n",
      "peugeot 504               4\n",
      "                         ..\n",
      "dodge colt hardtop        1\n",
      "fiat 131                  1\n",
      "chrysler lebaron salon    1\n",
      "plymouth custom suburb    1\n",
      "ford ranger               1\n",
      "Name: name, Length: 305, dtype: int64\n",
      "\n"
     ]
    }
   ],
   "source": [
    "col_dtypes = df.dtypes\n",
    "discrete_vars = [col for col in col_dtypes[col_dtypes==object].index.tolist() if col not in [id_col, target_col]] \n",
    "print(discrete_vars)\n",
    "print()\n",
    "for col in discrete_vars:\n",
    "    print(col)\n",
    "    print(df[col].value_counts())\n",
    "    print()"
   ]
  },
  {
   "cell_type": "markdown",
   "metadata": {},
   "source": [
    "Next, we also check for numerical columns that only contain a few different values, thus to be interpreted as discrete, categorical variables\n"
   ]
  },
  {
   "cell_type": "code",
   "execution_count": 61,
   "metadata": {},
   "outputs": [
    {
     "name": "stdout",
     "output_type": "stream",
     "text": [
      "cylinders\n",
      "4    204\n",
      "8    103\n",
      "6     84\n",
      "3      4\n",
      "5      3\n",
      "Name: cylinders, dtype: int64\n",
      "\n"
     ]
    }
   ],
   "source": [
    "for col in df.columns:\n",
    "    if col not in discrete_vars and col not in [id_col, target_col]: # if we didn't mark it as discrete already because it was string typed, or also excluding it if it is the target:\n",
    "        val_counts = df[col].value_counts()\n",
    "        if len(val_counts) > 1 and len(val_counts) <= 10: # The column contains less than 10 different values. \n",
    "            print(col)\n",
    "            print(val_counts)\n",
    "            print()"
   ]
  },
  {
   "cell_type": "markdown",
   "metadata": {},
   "source": [
    "By taking a look at the printed variables, it is clear that we have to include those in the list of discrete variables. This can be done as follows:"
   ]
  },
  {
   "cell_type": "code",
   "execution_count": 62,
   "metadata": {},
   "outputs": [
    {
     "data": {
      "text/plain": [
       "['origin', 'name', 'cylinders']"
      ]
     },
     "execution_count": 62,
     "metadata": {},
     "output_type": "execute_result"
    }
   ],
   "source": [
    "discrete_vars.extend([\"cylinders\"])\n",
    "discrete_vars"
   ]
  },
  {
   "cell_type": "markdown",
   "metadata": {},
   "source": [
    "The remaining variables can be labelled continous predictors, without including the target variable.\n"
   ]
  },
  {
   "cell_type": "code",
   "execution_count": 63,
   "metadata": {},
   "outputs": [],
   "source": [
    "continuous_vars = list(set(df.columns)\n",
    "                       - set(discrete_vars) \n",
    "                       - set([id_col, target_col]))\n",
    "                       "
   ]
  },
  {
   "cell_type": "markdown",
   "metadata": {},
   "source": [
    "Now, we can prepare **Cobra's Preprocessor**"
   ]
  },
  {
   "cell_type": "code",
   "execution_count": 64,
   "metadata": {},
   "outputs": [
    {
     "name": "stderr",
     "output_type": "stream",
     "text": [
      "The target encoder's additive smoothing weight is set to 0. This disables smoothing and may make the encoding prone to overfitting.\n"
     ]
    },
    {
     "name": "stdout",
     "output_type": "stream",
     "text": [
      "Help on method from_params in module cobra.preprocessing.preprocessor:\n",
      "\n",
      "from_params(model_type: str = 'classification', n_bins: int = 10, strategy: str = 'quantile', closed: str = 'right', auto_adapt_bins: bool = False, starting_precision: int = 0, label_format: str = '{} - {}', change_endpoint_format: bool = False, regroup: bool = True, regroup_name: str = 'Other', keep_missing: bool = True, category_size_threshold: int = 5, p_value_threshold: float = 0.001, scale_contingency_table: bool = True, forced_categories: dict = {}, weight: float = 0.0, imputation_strategy: str = 'mean') method of builtins.type instance\n",
      "    Constructor to instantiate PreProcessor from all the parameters\n",
      "    that can be set in all its required (attribute) classes\n",
      "    along with good default values.\n",
      "    \n",
      "    Parameters\n",
      "    ----------\n",
      "    model_type : str\n",
      "        Model type (``classification`` or ``regression``).\n",
      "    n_bins : int, optional\n",
      "        Number of bins to produce. Raises ValueError if ``n_bins < 2``.\n",
      "    strategy : str, optional\n",
      "        Binning strategy. Currently only ``uniform`` and ``quantile``\n",
      "        e.g. equifrequency is supported.\n",
      "    closed : str, optional\n",
      "        Whether to close the bins (intervals) from the left or right.\n",
      "    auto_adapt_bins : bool, optional\n",
      "        Reduces the number of bins (starting from n_bins) as a function of\n",
      "        the number of missings.\n",
      "    starting_precision : int, optional\n",
      "        Initial precision for the bin edges to start from,\n",
      "        can also be negative. Given a list of bin edges, the class will\n",
      "        automatically choose the minimal precision required to have proper\n",
      "        bins e.g. ``[5.5555, 5.5744, ...]`` will be rounded\n",
      "        to ``[5.56, 5.57, ...]``. In case of a negative number, an attempt\n",
      "        will be made to round up the numbers of the bin edges\n",
      "        e.g. ``5.55 -> 10``, ``146 -> 100``, ...\n",
      "    label_format : str, optional\n",
      "        Format string to display the bin labels\n",
      "        e.g. ``min - max``, ``(min, max]``, ...\n",
      "    change_endpoint_format : bool, optional\n",
      "        Whether or not to change the format of the lower and upper bins\n",
      "        into ``< x`` and ``> y`` resp.\n",
      "    regroup : bool\n",
      "        Whether or not to regroup categories.\n",
      "    regroup_name : str\n",
      "        New name of the non-significant regrouped variables.\n",
      "    keep_missing : bool\n",
      "        Whether or not to keep missing as a separate category.\n",
      "    category_size_threshold : int\n",
      "        All categories with a size (corrected for incidence if applicable)\n",
      "        in the training set above this threshold are kept as a separate category,\n",
      "        if statistical significance w.r.t. target is detected. Remaining\n",
      "        categories are converted into ``Other`` (or else, cf. regroup_name).\n",
      "    p_value_threshold : float\n",
      "        Significance threshold for regrouping.\n",
      "    forced_categories : dict\n",
      "        Map to prevent certain categories from being grouped into ``Other``\n",
      "        for each column - dict of the form ``{col:[forced vars]}``.\n",
      "    scale_contingency_table : bool\n",
      "        Whether contingency table should be scaled before chi^2.\n",
      "    weight : float, optional\n",
      "        Smoothing parameters (non-negative). The higher the value of the\n",
      "        parameter, the bigger the contribution of the overall mean.\n",
      "        When set to zero, there is no smoothing (e.g. the pure target incidence is used).\n",
      "    imputation_strategy : str, optional\n",
      "        In case there is a particular column which contains new categories,\n",
      "        the encoding will lead to NULL values which should be imputed.\n",
      "        Valid strategies are to replace with the global mean of the train\n",
      "        set or the min (resp. max) incidence of the categories of that\n",
      "        particular variable.\n",
      "    \n",
      "    Returns\n",
      "    -------\n",
      "    PreProcessor\n",
      "        class encapsulating CategoricalDataProcessor,\n",
      "        KBinsDiscretizer, and TargetEncoder instances\n",
      "\n"
     ]
    }
   ],
   "source": [
    "preprocessor = PreProcessor.from_params(\n",
    "    model_type=\"regression\"\n",
    ")\n",
    "\n",
    "# These are the options though:\n",
    "help(PreProcessor.from_params)"
   ]
  },
  {
   "cell_type": "markdown",
   "metadata": {},
   "source": [
    "split data into train-selection-validation set:\n"
   ]
  },
  {
   "cell_type": "code",
   "execution_count": 65,
   "metadata": {},
   "outputs": [],
   "source": [
    "from cobra.preprocessing import PreProcessor\n",
    "basetable = preprocessor.train_selection_validation_split(\n",
    "                data=df,\n",
    "                train_prop=0.6,\n",
    "                selection_prop=0.2,\n",
    "                validation_prop=0.2)"
   ]
  },
  {
   "cell_type": "markdown",
   "metadata": {},
   "source": [
    "And fit the preprocessor pipeline:\n"
   ]
  },
  {
   "cell_type": "code",
   "execution_count": 66,
   "metadata": {},
   "outputs": [
    {
     "data": {
      "application/vnd.jupyter.widget-view+json": {
       "model_id": "12ea98963cc948c88ceea3e81d3da7d0",
       "version_major": 2,
       "version_minor": 0
      },
      "text/plain": [
       "Computing discretization bins...:   0%|          | 0/5 [00:00<?, ?it/s]"
      ]
     },
     "metadata": {},
     "output_type": "display_data"
    },
    {
     "data": {
      "application/vnd.jupyter.widget-view+json": {
       "model_id": "1f245a39be7b4c5896eddd0f263aebb8",
       "version_major": 2,
       "version_minor": 0
      },
      "text/plain": [
       "Discretizing columns...:   0%|          | 0/5 [00:00<?, ?it/s]"
      ]
     },
     "metadata": {},
     "output_type": "display_data"
    },
    {
     "data": {
      "application/vnd.jupyter.widget-view+json": {
       "model_id": "361b0a9c72fa4712a2f8f7b0da8fbf8e",
       "version_major": 2,
       "version_minor": 0
      },
      "text/plain": [
       "Fitting category regrouping...:   0%|          | 0/3 [00:00<?, ?it/s]"
      ]
     },
     "metadata": {},
     "output_type": "display_data"
    },
    {
     "data": {
      "application/vnd.jupyter.widget-view+json": {
       "model_id": "6393fb24611a4c588fb0b71f42693ff3",
       "version_major": 2,
       "version_minor": 0
      },
      "text/plain": [
       "Fitting target encoding...:   0%|          | 0/8 [00:00<?, ?it/s]"
      ]
     },
     "metadata": {},
     "output_type": "display_data"
    }
   ],
   "source": [
    "# Fit the preprocessor pipeline:\n",
    "preprocessor.fit(basetable[basetable[\"split\"] == \"train\"],\n",
    "                 continuous_vars=continuous_vars,\n",
    "                 discrete_vars=discrete_vars,\n",
    "                 target_column_name=target_col)"
   ]
  },
  {
   "cell_type": "markdown",
   "metadata": {},
   "source": [
    "This pipeline can now be performed on the basetable!!\n"
   ]
  },
  {
   "cell_type": "code",
   "execution_count": 67,
   "metadata": {},
   "outputs": [
    {
     "data": {
      "application/vnd.jupyter.widget-view+json": {
       "model_id": "c27a8f2528084a8a84732cab9173a9b9",
       "version_major": 2,
       "version_minor": 0
      },
      "text/plain": [
       "Discretizing columns...:   0%|          | 0/5 [00:00<?, ?it/s]"
      ]
     },
     "metadata": {},
     "output_type": "display_data"
    },
    {
     "data": {
      "application/vnd.jupyter.widget-view+json": {
       "model_id": "64a6f6cc0a4042b48f13ba3c01afb4f9",
       "version_major": 2,
       "version_minor": 0
      },
      "text/plain": [
       "Applying target encoding...:   0%|          | 0/8 [00:00<?, ?it/s]"
      ]
     },
     "metadata": {},
     "output_type": "display_data"
    },
    {
     "data": {
      "text/html": [
       "<div>\n",
       "<style scoped>\n",
       "    .dataframe tbody tr th:only-of-type {\n",
       "        vertical-align: middle;\n",
       "    }\n",
       "\n",
       "    .dataframe tbody tr th {\n",
       "        vertical-align: top;\n",
       "    }\n",
       "\n",
       "    .dataframe thead th {\n",
       "        text-align: right;\n",
       "    }\n",
       "</style>\n",
       "<table border=\"1\" class=\"dataframe\">\n",
       "  <thead>\n",
       "    <tr style=\"text-align: right;\">\n",
       "      <th></th>\n",
       "      <th>mpg</th>\n",
       "      <th>cylinders</th>\n",
       "      <th>displacement</th>\n",
       "      <th>horsepower</th>\n",
       "      <th>weight</th>\n",
       "      <th>acceleration</th>\n",
       "      <th>model_year</th>\n",
       "      <th>origin</th>\n",
       "      <th>name</th>\n",
       "      <th>id</th>\n",
       "      <th>split</th>\n",
       "      <th>model_year_bin</th>\n",
       "      <th>horsepower_bin</th>\n",
       "      <th>displacement_bin</th>\n",
       "      <th>acceleration_bin</th>\n",
       "      <th>weight_bin</th>\n",
       "      <th>origin_processed</th>\n",
       "      <th>name_processed</th>\n",
       "      <th>cylinders_processed</th>\n",
       "      <th>origin_enc</th>\n",
       "      <th>name_enc</th>\n",
       "      <th>cylinders_enc</th>\n",
       "      <th>model_year_enc</th>\n",
       "      <th>horsepower_enc</th>\n",
       "      <th>displacement_enc</th>\n",
       "      <th>acceleration_enc</th>\n",
       "      <th>weight_enc</th>\n",
       "    </tr>\n",
       "  </thead>\n",
       "  <tbody>\n",
       "    <tr>\n",
       "      <th>0</th>\n",
       "      <td>18.0</td>\n",
       "      <td>8</td>\n",
       "      <td>307.0</td>\n",
       "      <td>130.0</td>\n",
       "      <td>3504</td>\n",
       "      <td>12.0</td>\n",
       "      <td>70</td>\n",
       "      <td>usa</td>\n",
       "      <td>chevrolet chevelle malibu</td>\n",
       "      <td>1</td>\n",
       "      <td>train</td>\n",
       "      <td>70.0 - 71.0</td>\n",
       "      <td>110.0 - 132.0</td>\n",
       "      <td>302.0 - 350.0</td>\n",
       "      <td>8.0 - 12.2</td>\n",
       "      <td>3369.0 - 3731.0</td>\n",
       "      <td>usa</td>\n",
       "      <td>chevrolet chevelle malibu</td>\n",
       "      <td>8</td>\n",
       "      <td>20.591275</td>\n",
       "      <td>17.50000</td>\n",
       "      <td>14.983333</td>\n",
       "      <td>19.235294</td>\n",
       "      <td>19.557143</td>\n",
       "      <td>15.445833</td>\n",
       "      <td>15.508</td>\n",
       "      <td>18.208333</td>\n",
       "    </tr>\n",
       "    <tr>\n",
       "      <th>1</th>\n",
       "      <td>15.0</td>\n",
       "      <td>8</td>\n",
       "      <td>350.0</td>\n",
       "      <td>165.0</td>\n",
       "      <td>3693</td>\n",
       "      <td>11.5</td>\n",
       "      <td>70</td>\n",
       "      <td>usa</td>\n",
       "      <td>buick skylark 320</td>\n",
       "      <td>2</td>\n",
       "      <td>train</td>\n",
       "      <td>70.0 - 71.0</td>\n",
       "      <td>151.0 - 225.0</td>\n",
       "      <td>302.0 - 350.0</td>\n",
       "      <td>8.0 - 12.2</td>\n",
       "      <td>3369.0 - 3731.0</td>\n",
       "      <td>usa</td>\n",
       "      <td>buick skylark 320</td>\n",
       "      <td>8</td>\n",
       "      <td>20.591275</td>\n",
       "      <td>15.00000</td>\n",
       "      <td>14.983333</td>\n",
       "      <td>19.235294</td>\n",
       "      <td>13.758333</td>\n",
       "      <td>15.445833</td>\n",
       "      <td>15.508</td>\n",
       "      <td>18.208333</td>\n",
       "    </tr>\n",
       "    <tr>\n",
       "      <th>2</th>\n",
       "      <td>18.0</td>\n",
       "      <td>8</td>\n",
       "      <td>318.0</td>\n",
       "      <td>150.0</td>\n",
       "      <td>3436</td>\n",
       "      <td>11.0</td>\n",
       "      <td>70</td>\n",
       "      <td>usa</td>\n",
       "      <td>plymouth satellite</td>\n",
       "      <td>3</td>\n",
       "      <td>train</td>\n",
       "      <td>70.0 - 71.0</td>\n",
       "      <td>132.0 - 151.0</td>\n",
       "      <td>302.0 - 350.0</td>\n",
       "      <td>8.0 - 12.2</td>\n",
       "      <td>3369.0 - 3731.0</td>\n",
       "      <td>usa</td>\n",
       "      <td>plymouth satellite</td>\n",
       "      <td>8</td>\n",
       "      <td>20.591275</td>\n",
       "      <td>18.00000</td>\n",
       "      <td>14.983333</td>\n",
       "      <td>19.235294</td>\n",
       "      <td>15.325000</td>\n",
       "      <td>15.445833</td>\n",
       "      <td>15.508</td>\n",
       "      <td>18.208333</td>\n",
       "    </tr>\n",
       "    <tr>\n",
       "      <th>3</th>\n",
       "      <td>16.0</td>\n",
       "      <td>8</td>\n",
       "      <td>304.0</td>\n",
       "      <td>150.0</td>\n",
       "      <td>3433</td>\n",
       "      <td>12.0</td>\n",
       "      <td>70</td>\n",
       "      <td>usa</td>\n",
       "      <td>amc rebel sst</td>\n",
       "      <td>4</td>\n",
       "      <td>validation</td>\n",
       "      <td>70.0 - 71.0</td>\n",
       "      <td>132.0 - 151.0</td>\n",
       "      <td>302.0 - 350.0</td>\n",
       "      <td>8.0 - 12.2</td>\n",
       "      <td>3369.0 - 3731.0</td>\n",
       "      <td>usa</td>\n",
       "      <td>amc rebel sst</td>\n",
       "      <td>8</td>\n",
       "      <td>20.591275</td>\n",
       "      <td>23.83375</td>\n",
       "      <td>14.983333</td>\n",
       "      <td>19.235294</td>\n",
       "      <td>15.325000</td>\n",
       "      <td>15.445833</td>\n",
       "      <td>15.508</td>\n",
       "      <td>18.208333</td>\n",
       "    </tr>\n",
       "    <tr>\n",
       "      <th>4</th>\n",
       "      <td>17.0</td>\n",
       "      <td>8</td>\n",
       "      <td>302.0</td>\n",
       "      <td>140.0</td>\n",
       "      <td>3449</td>\n",
       "      <td>10.5</td>\n",
       "      <td>70</td>\n",
       "      <td>usa</td>\n",
       "      <td>ford torino</td>\n",
       "      <td>5</td>\n",
       "      <td>selection</td>\n",
       "      <td>70.0 - 71.0</td>\n",
       "      <td>132.0 - 151.0</td>\n",
       "      <td>232.0 - 302.0</td>\n",
       "      <td>8.0 - 12.2</td>\n",
       "      <td>3369.0 - 3731.0</td>\n",
       "      <td>usa</td>\n",
       "      <td>ford torino</td>\n",
       "      <td>8</td>\n",
       "      <td>20.591275</td>\n",
       "      <td>23.83375</td>\n",
       "      <td>14.983333</td>\n",
       "      <td>19.235294</td>\n",
       "      <td>15.325000</td>\n",
       "      <td>18.021739</td>\n",
       "      <td>15.508</td>\n",
       "      <td>18.208333</td>\n",
       "    </tr>\n",
       "  </tbody>\n",
       "</table>\n",
       "</div>"
      ],
      "text/plain": [
       "    mpg  cylinders  displacement  horsepower  weight  acceleration  \\\n",
       "0  18.0          8         307.0       130.0    3504          12.0   \n",
       "1  15.0          8         350.0       165.0    3693          11.5   \n",
       "2  18.0          8         318.0       150.0    3436          11.0   \n",
       "3  16.0          8         304.0       150.0    3433          12.0   \n",
       "4  17.0          8         302.0       140.0    3449          10.5   \n",
       "\n",
       "   model_year origin                       name  id       split  \\\n",
       "0          70    usa  chevrolet chevelle malibu   1       train   \n",
       "1          70    usa          buick skylark 320   2       train   \n",
       "2          70    usa         plymouth satellite   3       train   \n",
       "3          70    usa              amc rebel sst   4  validation   \n",
       "4          70    usa                ford torino   5   selection   \n",
       "\n",
       "  model_year_bin horsepower_bin displacement_bin acceleration_bin  \\\n",
       "0    70.0 - 71.0  110.0 - 132.0    302.0 - 350.0       8.0 - 12.2   \n",
       "1    70.0 - 71.0  151.0 - 225.0    302.0 - 350.0       8.0 - 12.2   \n",
       "2    70.0 - 71.0  132.0 - 151.0    302.0 - 350.0       8.0 - 12.2   \n",
       "3    70.0 - 71.0  132.0 - 151.0    302.0 - 350.0       8.0 - 12.2   \n",
       "4    70.0 - 71.0  132.0 - 151.0    232.0 - 302.0       8.0 - 12.2   \n",
       "\n",
       "        weight_bin origin_processed             name_processed  \\\n",
       "0  3369.0 - 3731.0              usa  chevrolet chevelle malibu   \n",
       "1  3369.0 - 3731.0              usa          buick skylark 320   \n",
       "2  3369.0 - 3731.0              usa         plymouth satellite   \n",
       "3  3369.0 - 3731.0              usa              amc rebel sst   \n",
       "4  3369.0 - 3731.0              usa                ford torino   \n",
       "\n",
       "  cylinders_processed  origin_enc  name_enc  cylinders_enc  model_year_enc  \\\n",
       "0                   8   20.591275  17.50000      14.983333       19.235294   \n",
       "1                   8   20.591275  15.00000      14.983333       19.235294   \n",
       "2                   8   20.591275  18.00000      14.983333       19.235294   \n",
       "3                   8   20.591275  23.83375      14.983333       19.235294   \n",
       "4                   8   20.591275  23.83375      14.983333       19.235294   \n",
       "\n",
       "   horsepower_enc  displacement_enc  acceleration_enc  weight_enc  \n",
       "0       19.557143         15.445833            15.508   18.208333  \n",
       "1       13.758333         15.445833            15.508   18.208333  \n",
       "2       15.325000         15.445833            15.508   18.208333  \n",
       "3       15.325000         15.445833            15.508   18.208333  \n",
       "4       15.325000         18.021739            15.508   18.208333  "
      ]
     },
     "execution_count": 67,
     "metadata": {},
     "output_type": "execute_result"
    }
   ],
   "source": [
    "basetable = preprocessor.transform(basetable,\n",
    "                                   continuous_vars=continuous_vars,\n",
    "                                   discrete_vars=discrete_vars)\n",
    "\n",
    "\n",
    "basetable.head()"
   ]
  },
  {
   "cell_type": "markdown",
   "metadata": {},
   "source": [
    "## Feature selection"
   ]
  },
  {
   "cell_type": "markdown",
   "metadata": {},
   "source": [
    "Once the predictors are properly prepared, we can start building a predictive model, which boils down to selecting the right predictors from the dataset to train a model on.\n",
    "As a dataset typically contains many predictors, **we first perform a univariate preselection** to rule out any predictor with little to no predictive power. Later, using the list of preselected features, we build a multiple regression model using **forward feature selection** to choose the right set of predictors."
   ]
  },
  {
   "cell_type": "markdown",
   "metadata": {},
   "source": [
    "In previous steps, these were the predictors, as preprocessed so far:"
   ]
  },
  {
   "cell_type": "code",
   "execution_count": 68,
   "metadata": {},
   "outputs": [
    {
     "data": {
      "text/plain": [
       "['acceleration_bin',\n",
       " 'cylinders_processed',\n",
       " 'displacement_bin',\n",
       " 'horsepower_bin',\n",
       " 'model_year_bin',\n",
       " 'name_processed',\n",
       " 'origin_processed',\n",
       " 'weight_bin']"
      ]
     },
     "execution_count": 68,
     "metadata": {},
     "output_type": "execute_result"
    }
   ],
   "source": [
    "preprocessed_predictors = [\n",
    "    col for col in basetable.columns\n",
    "    if col.endswith(\"_bin\") or col.endswith(\"_processed\")\n",
    "]\n",
    "sorted(preprocessed_predictors)"
   ]
  },
  {
   "cell_type": "markdown",
   "metadata": {},
   "source": [
    "But for feature selection, we use the target encoded version of each of these."
   ]
  },
  {
   "cell_type": "code",
   "execution_count": 69,
   "metadata": {},
   "outputs": [
    {
     "data": {
      "text/plain": [
       "['acceleration_enc',\n",
       " 'cylinders_enc',\n",
       " 'displacement_enc',\n",
       " 'horsepower_enc',\n",
       " 'model_year_enc',\n",
       " 'name_enc',\n",
       " 'origin_enc',\n",
       " 'weight_enc']"
      ]
     },
     "execution_count": 69,
     "metadata": {},
     "output_type": "execute_result"
    }
   ],
   "source": [
    "preprocessed_predictors = [col for col in basetable.columns.tolist()\n",
    "                           if '_enc' in col]\n",
    "sorted(preprocessed_predictors)"
   ]
  },
  {
   "cell_type": "markdown",
   "metadata": {},
   "source": [
    "A univariate selection on the preprocessed predictors can be conducted. The thresholds for retaining a feature can be changed by the user, for instance both at 10 for now.\n"
   ]
  },
  {
   "cell_type": "code",
   "execution_count": 70,
   "metadata": {},
   "outputs": [
    {
     "data": {
      "text/html": [
       "<div>\n",
       "<style scoped>\n",
       "    .dataframe tbody tr th:only-of-type {\n",
       "        vertical-align: middle;\n",
       "    }\n",
       "\n",
       "    .dataframe tbody tr th {\n",
       "        vertical-align: top;\n",
       "    }\n",
       "\n",
       "    .dataframe thead th {\n",
       "        text-align: right;\n",
       "    }\n",
       "</style>\n",
       "<table border=\"1\" class=\"dataframe\">\n",
       "  <thead>\n",
       "    <tr style=\"text-align: right;\">\n",
       "      <th></th>\n",
       "      <th>predictor</th>\n",
       "      <th>RMSE train</th>\n",
       "      <th>RMSE selection</th>\n",
       "      <th>preselection</th>\n",
       "    </tr>\n",
       "  </thead>\n",
       "  <tbody>\n",
       "    <tr>\n",
       "      <th>0</th>\n",
       "      <td>weight</td>\n",
       "      <td>4.165636</td>\n",
       "      <td>4.091908</td>\n",
       "      <td>True</td>\n",
       "    </tr>\n",
       "    <tr>\n",
       "      <th>1</th>\n",
       "      <td>displacement</td>\n",
       "      <td>4.360021</td>\n",
       "      <td>4.276909</td>\n",
       "      <td>True</td>\n",
       "    </tr>\n",
       "    <tr>\n",
       "      <th>2</th>\n",
       "      <td>cylinders</td>\n",
       "      <td>4.630086</td>\n",
       "      <td>4.894663</td>\n",
       "      <td>True</td>\n",
       "    </tr>\n",
       "    <tr>\n",
       "      <th>3</th>\n",
       "      <td>horsepower</td>\n",
       "      <td>4.406553</td>\n",
       "      <td>4.956710</td>\n",
       "      <td>True</td>\n",
       "    </tr>\n",
       "    <tr>\n",
       "      <th>4</th>\n",
       "      <td>model_year</td>\n",
       "      <td>5.917587</td>\n",
       "      <td>6.294349</td>\n",
       "      <td>True</td>\n",
       "    </tr>\n",
       "    <tr>\n",
       "      <th>5</th>\n",
       "      <td>origin</td>\n",
       "      <td>6.578710</td>\n",
       "      <td>6.664076</td>\n",
       "      <td>True</td>\n",
       "    </tr>\n",
       "    <tr>\n",
       "      <th>6</th>\n",
       "      <td>name</td>\n",
       "      <td>1.280373</td>\n",
       "      <td>7.429626</td>\n",
       "      <td>True</td>\n",
       "    </tr>\n",
       "    <tr>\n",
       "      <th>7</th>\n",
       "      <td>acceleration</td>\n",
       "      <td>6.909279</td>\n",
       "      <td>7.632203</td>\n",
       "      <td>True</td>\n",
       "    </tr>\n",
       "  </tbody>\n",
       "</table>\n",
       "</div>"
      ],
      "text/plain": [
       "      predictor  RMSE train  RMSE selection  preselection\n",
       "0        weight    4.165636        4.091908          True\n",
       "1  displacement    4.360021        4.276909          True\n",
       "2     cylinders    4.630086        4.894663          True\n",
       "3    horsepower    4.406553        4.956710          True\n",
       "4    model_year    5.917587        6.294349          True\n",
       "5        origin    6.578710        6.664076          True\n",
       "6          name    1.280373        7.429626          True\n",
       "7  acceleration    6.909279        7.632203          True"
      ]
     },
     "execution_count": 70,
     "metadata": {},
     "output_type": "execute_result"
    }
   ],
   "source": [
    "from cobra.model_building import univariate_selection\n",
    "\n",
    "\n",
    "df_rmse = univariate_selection.compute_univariate_preselection(\n",
    "    target_enc_train_data=basetable[basetable[\"split\"] == \"train\"],\n",
    "    target_enc_selection_data=basetable[basetable[\"split\"] == \"selection\"],\n",
    "    predictors=preprocessed_predictors,\n",
    "    target_column=target_col,\n",
    "    model_type=\"regression\",\n",
    "    preselect_rmse_threshold = 10, #RMSE maximum for selection\n",
    "    preselect_overtrain_threshold = 10) #difference between RMSE on train and selection set\n",
    "df_rmse\n",
    "\n",
    "#As the square root of a variance, RMSE can be interpreted as the standard deviation of \n",
    "# the unexplained variance, and has the useful property of being in the same units as the response variable. \n",
    "#Lower values of RMSE indicate better fit."
   ]
  },
  {
   "cell_type": "code",
   "execution_count": 71,
   "metadata": {},
   "outputs": [
    {
     "data": {
      "image/png": "[encoded data removed]",
      "text/plain": [
       "<Figure size 864x576 with 1 Axes>"
      ]
     },
     "metadata": {},
     "output_type": "display_data"
    }
   ],
   "source": [
    "# TODO: this does not work yet for regression\n",
    "from cobra.evaluation import plot_univariate_predictor_quality\n",
    "\n",
    "# Plot df_rmse to get a horizontal barplot:\n",
    "plot_univariate_predictor_quality(df_rmse)"
   ]
  },
  {
   "cell_type": "markdown",
   "metadata": {},
   "source": [
    "Next, we compute correlations between the preprocessed predictors and plot it using a correlation matrix:\n"
   ]
  },
  {
   "cell_type": "code",
   "execution_count": 72,
   "metadata": {},
   "outputs": [
    {
     "name": "stdout",
     "output_type": "stream",
     "text": [
      "                origin      name  cylinders  model_year  horsepower  \\\n",
      "origin        1.000000  0.546835   0.572771    0.183962    0.481406   \n",
      "name          0.546835  1.000000   0.809813    0.630115    0.820650   \n",
      "cylinders     0.572771  0.809813   1.000000    0.430675    0.830014   \n",
      "model_year    0.183962  0.630115   0.430675    1.000000    0.424169   \n",
      "horsepower    0.481406  0.820650   0.830014    0.424169    1.000000   \n",
      "displacement  0.665415  0.832378   0.908653    0.378712    0.869803   \n",
      "acceleration  0.242806  0.468041   0.558839    0.285982    0.630786   \n",
      "weight        0.631066  0.847656   0.879737    0.353530    0.877309   \n",
      "\n",
      "              displacement  acceleration    weight  \n",
      "origin            0.665415      0.242806  0.631066  \n",
      "name              0.832378      0.468041  0.847656  \n",
      "cylinders         0.908653      0.558839  0.879737  \n",
      "model_year        0.378712      0.285982  0.353530  \n",
      "horsepower        0.869803      0.630786  0.877309  \n",
      "displacement      1.000000      0.530417  0.939289  \n",
      "acceleration      0.530417      1.000000  0.479246  \n",
      "weight            0.939289      0.479246  1.000000  \n"
     ]
    },
    {
     "data": {
      "image/png": "[encoded data removed]",
      "text/plain": [
       "<Figure size 864x576 with 2 Axes>"
      ]
     },
     "metadata": {
      "needs_background": "light"
     },
     "output_type": "display_data"
    }
   ],
   "source": [
    "from cobra.evaluation import plot_correlation_matrix\n",
    "\n",
    "# compute correlations between preprocessed predictors:\n",
    "df_corr = (univariate_selection\n",
    "           .compute_correlations(basetable[basetable[\"split\"] == \"train\"],\n",
    "                                 preprocessed_predictors))\n",
    "print(df_corr)\n",
    "\n",
    "# plot correlation matrix\n",
    "plot_correlation_matrix(df_corr)"
   ]
  },
  {
   "cell_type": "markdown",
   "metadata": {},
   "source": [
    "To get a list of the selected predictors after the univariate selection, run the following call:\n"
   ]
  },
  {
   "cell_type": "code",
   "execution_count": 73,
   "metadata": {},
   "outputs": [
    {
     "data": {
      "text/plain": [
       "['weight_enc',\n",
       " 'displacement_enc',\n",
       " 'cylinders_enc',\n",
       " 'horsepower_enc',\n",
       " 'model_year_enc',\n",
       " 'origin_enc',\n",
       " 'name_enc',\n",
       " 'acceleration_enc']"
      ]
     },
     "execution_count": 73,
     "metadata": {},
     "output_type": "execute_result"
    }
   ],
   "source": [
    "preselected_predictors = (univariate_selection\n",
    "                          .get_preselected_predictors(df_rmse))\n",
    "preselected_predictors"
   ]
  },
  {
   "cell_type": "markdown",
   "metadata": {},
   "source": [
    "After an initial preselection on the predictors, we can start building the model itself using forward feature selection to choose the right set of predictors. Since we use target encoding on all our predictors, we will only consider models with positive coefficients (no sign flip should occur) as this makes the model more interpretable."
   ]
  },
  {
   "cell_type": "markdown",
   "metadata": {},
   "source": [
    "## Modeling"
   ]
  },
  {
   "cell_type": "markdown",
   "metadata": {},
   "source": [
    "Based on the performance curves (AUC per model with a particular number of predictors in case of logistic regression), a final model can then be chosen and the variables importance can be plotted:\n",
    "Note: variable importance is based on correlation of the predictor with the model scores (and not the true labels!)."
   ]
  },
  {
   "cell_type": "code",
   "execution_count": 85,
   "metadata": {},
   "outputs": [
    {
     "data": {
      "application/vnd.jupyter.widget-view+json": {
       "model_id": "3580586ecd4e4bbfb2b5d1e629047b70",
       "version_major": 2,
       "version_minor": 0
      },
      "text/plain": [
       "Sequentially adding best predictor...:   0%|          | 0/8 [00:00<?, ?it/s]"
      ]
     },
     "metadata": {},
     "output_type": "display_data"
    },
    {
     "data": {
      "text/html": [
       "<div>\n",
       "<style scoped>\n",
       "    .dataframe tbody tr th:only-of-type {\n",
       "        vertical-align: middle;\n",
       "    }\n",
       "\n",
       "    .dataframe tbody tr th {\n",
       "        vertical-align: top;\n",
       "    }\n",
       "\n",
       "    .dataframe thead th {\n",
       "        text-align: right;\n",
       "    }\n",
       "</style>\n",
       "<table border=\"1\" class=\"dataframe\">\n",
       "  <thead>\n",
       "    <tr style=\"text-align: right;\">\n",
       "      <th></th>\n",
       "      <th>predictors</th>\n",
       "      <th>last_added_predictor</th>\n",
       "      <th>train_performance</th>\n",
       "      <th>selection_performance</th>\n",
       "      <th>validation_performance</th>\n",
       "      <th>model_type</th>\n",
       "    </tr>\n",
       "  </thead>\n",
       "  <tbody>\n",
       "    <tr>\n",
       "      <th>0</th>\n",
       "      <td>[name_enc]</td>\n",
       "      <td>name_enc</td>\n",
       "      <td>1.280373</td>\n",
       "      <td>7.429626</td>\n",
       "      <td>6.833512</td>\n",
       "      <td>regression</td>\n",
       "    </tr>\n",
       "    <tr>\n",
       "      <th>1</th>\n",
       "      <td>[name_enc, model_year_enc]</td>\n",
       "      <td>model_year_enc</td>\n",
       "      <td>1.240908</td>\n",
       "      <td>7.189859</td>\n",
       "      <td>6.638183</td>\n",
       "      <td>regression</td>\n",
       "    </tr>\n",
       "    <tr>\n",
       "      <th>2</th>\n",
       "      <td>[name_enc, model_year_enc, weight_enc]</td>\n",
       "      <td>weight_enc</td>\n",
       "      <td>1.200362</td>\n",
       "      <td>6.588047</td>\n",
       "      <td>6.047175</td>\n",
       "      <td>regression</td>\n",
       "    </tr>\n",
       "    <tr>\n",
       "      <th>3</th>\n",
       "      <td>[name_enc, model_year_enc, weight_enc, horsepo...</td>\n",
       "      <td>horsepower_enc</td>\n",
       "      <td>1.192404</td>\n",
       "      <td>6.546783</td>\n",
       "      <td>5.974150</td>\n",
       "      <td>regression</td>\n",
       "    </tr>\n",
       "    <tr>\n",
       "      <th>4</th>\n",
       "      <td>[name_enc, model_year_enc, horsepower_enc, wei...</td>\n",
       "      <td>cylinders_enc</td>\n",
       "      <td>1.189153</td>\n",
       "      <td>6.561392</td>\n",
       "      <td>5.974802</td>\n",
       "      <td>regression</td>\n",
       "    </tr>\n",
       "    <tr>\n",
       "      <th>5</th>\n",
       "      <td>[name_enc, model_year_enc, horsepower_enc, wei...</td>\n",
       "      <td>acceleration_enc</td>\n",
       "      <td>1.187192</td>\n",
       "      <td>6.551046</td>\n",
       "      <td>5.965723</td>\n",
       "      <td>regression</td>\n",
       "    </tr>\n",
       "    <tr>\n",
       "      <th>6</th>\n",
       "      <td>[name_enc, model_year_enc, horsepower_enc, wei...</td>\n",
       "      <td>origin_enc</td>\n",
       "      <td>1.187033</td>\n",
       "      <td>6.546768</td>\n",
       "      <td>5.957807</td>\n",
       "      <td>regression</td>\n",
       "    </tr>\n",
       "    <tr>\n",
       "      <th>7</th>\n",
       "      <td>[name_enc, model_year_enc, origin_enc, horsepo...</td>\n",
       "      <td>displacement_enc</td>\n",
       "      <td>1.186974</td>\n",
       "      <td>6.547338</td>\n",
       "      <td>5.955585</td>\n",
       "      <td>regression</td>\n",
       "    </tr>\n",
       "  </tbody>\n",
       "</table>\n",
       "</div>"
      ],
      "text/plain": [
       "                                          predictors last_added_predictor  \\\n",
       "0                                         [name_enc]             name_enc   \n",
       "1                         [name_enc, model_year_enc]       model_year_enc   \n",
       "2             [name_enc, model_year_enc, weight_enc]           weight_enc   \n",
       "3  [name_enc, model_year_enc, weight_enc, horsepo...       horsepower_enc   \n",
       "4  [name_enc, model_year_enc, horsepower_enc, wei...        cylinders_enc   \n",
       "5  [name_enc, model_year_enc, horsepower_enc, wei...     acceleration_enc   \n",
       "6  [name_enc, model_year_enc, horsepower_enc, wei...           origin_enc   \n",
       "7  [name_enc, model_year_enc, origin_enc, horsepo...     displacement_enc   \n",
       "\n",
       "   train_performance  selection_performance  validation_performance  \\\n",
       "0           1.280373               7.429626                6.833512   \n",
       "1           1.240908               7.189859                6.638183   \n",
       "2           1.200362               6.588047                6.047175   \n",
       "3           1.192404               6.546783                5.974150   \n",
       "4           1.189153               6.561392                5.974802   \n",
       "5           1.187192               6.551046                5.965723   \n",
       "6           1.187033               6.546768                5.957807   \n",
       "7           1.186974               6.547338                5.955585   \n",
       "\n",
       "   model_type  \n",
       "0  regression  \n",
       "1  regression  \n",
       "2  regression  \n",
       "3  regression  \n",
       "4  regression  \n",
       "5  regression  \n",
       "6  regression  \n",
       "7  regression  "
      ]
     },
     "execution_count": 85,
     "metadata": {},
     "output_type": "execute_result"
    }
   ],
   "source": [
    "from cobra.model_building import ForwardFeatureSelection\n",
    "\n",
    "forward_selection = ForwardFeatureSelection(model_type=\"regression\",\n",
    "                                            #model_name=\"linear-regression\",\n",
    "                                            max_predictors=30,\n",
    "                                            pos_only=True)\n",
    "\n",
    "# fit the forward feature selection on the train data\n",
    "# has optional parameters to force and/or exclude certain predictors (see docs)\n",
    "forward_selection.fit(basetable[basetable[\"split\"] == \"train\"],\n",
    "                      target_column_name = target_col,\n",
    "                      predictors = preselected_predictors)\n",
    "                      #forced_predictors: list = [],\n",
    "                      #excluded_predictors: list = [])\n",
    "\n",
    "# compute model performance\n",
    "performances = (forward_selection\n",
    "                .compute_model_performances(basetable, target_column_name = target_col))\n",
    "performances"
   ]
  },
  {
   "cell_type": "markdown",
   "metadata": {},
   "source": [
    "As can be seen, we have completed 7 steps till no further improvement can be observed"
   ]
  },
  {
   "cell_type": "code",
   "execution_count": 76,
   "metadata": {},
   "outputs": [
    {
     "name": "stderr",
     "output_type": "stream",
     "text": [
      "C:\\Users\\hendrik.dewinter\\PycharmProjects\\cobra\\cobra\\evaluation\\plotting_utils.py:137: RuntimeWarning: divide by zero encountered in double_scalars\n",
      "  ax.set_yticks(np.arange(0, max_metric*1.02, np.floor(max_metric/10)))\n"
     ]
    },
    {
     "ename": "ValueError",
     "evalue": "Maximum allowed size exceeded",
     "output_type": "error",
     "traceback": [
      "\u001b[1;31m---------------------------------------------------------------------------\u001b[0m",
      "\u001b[1;31mValueError\u001b[0m                                Traceback (most recent call last)",
      "\u001b[1;32m<ipython-input-76-c9a6d474bc6d>\u001b[0m in \u001b[0;36m<module>\u001b[1;34m\u001b[0m\n\u001b[0;32m      2\u001b[0m \u001b[1;33m\u001b[0m\u001b[0m\n\u001b[0;32m      3\u001b[0m \u001b[1;31m# plot performance curves\u001b[0m\u001b[1;33m\u001b[0m\u001b[1;33m\u001b[0m\u001b[1;33m\u001b[0m\u001b[0m\n\u001b[1;32m----> 4\u001b[1;33m \u001b[0mplot_performance_curves\u001b[0m\u001b[1;33m(\u001b[0m\u001b[0mperformances\u001b[0m\u001b[1;33m)\u001b[0m\u001b[1;33m\u001b[0m\u001b[1;33m\u001b[0m\u001b[0m\n\u001b[0m",
      "\u001b[1;32m~\\PycharmProjects\\cobra\\cobra\\evaluation\\plotting_utils.py\u001b[0m in \u001b[0;36mplot_performance_curves\u001b[1;34m(model_performance, dim, path, colors)\u001b[0m\n\u001b[0;32m    135\u001b[0m             \u001b[0max\u001b[0m\u001b[1;33m.\u001b[0m\u001b[0mset_yticks\u001b[0m\u001b[1;33m(\u001b[0m\u001b[0mnp\u001b[0m\u001b[1;33m.\u001b[0m\u001b[0marange\u001b[0m\u001b[1;33m(\u001b[0m\u001b[1;36m0.5\u001b[0m\u001b[1;33m,\u001b[0m \u001b[0mmax_metric\u001b[0m \u001b[1;33m+\u001b[0m \u001b[1;36m0.02\u001b[0m\u001b[1;33m,\u001b[0m \u001b[1;36m0.05\u001b[0m\u001b[1;33m)\u001b[0m\u001b[1;33m)\u001b[0m\u001b[1;33m\u001b[0m\u001b[1;33m\u001b[0m\u001b[0m\n\u001b[0;32m    136\u001b[0m         \u001b[1;32melif\u001b[0m \u001b[0mmodel_type\u001b[0m \u001b[1;33m==\u001b[0m \u001b[1;34m\"regression\"\u001b[0m\u001b[1;33m:\u001b[0m\u001b[1;33m\u001b[0m\u001b[1;33m\u001b[0m\u001b[0m\n\u001b[1;32m--> 137\u001b[1;33m             \u001b[0max\u001b[0m\u001b[1;33m.\u001b[0m\u001b[0mset_yticks\u001b[0m\u001b[1;33m(\u001b[0m\u001b[0mnp\u001b[0m\u001b[1;33m.\u001b[0m\u001b[0marange\u001b[0m\u001b[1;33m(\u001b[0m\u001b[1;36m0\u001b[0m\u001b[1;33m,\u001b[0m \u001b[0mmax_metric\u001b[0m\u001b[1;33m*\u001b[0m\u001b[1;36m1.02\u001b[0m\u001b[1;33m,\u001b[0m \u001b[0mnp\u001b[0m\u001b[1;33m.\u001b[0m\u001b[0mfloor\u001b[0m\u001b[1;33m(\u001b[0m\u001b[0mmax_metric\u001b[0m\u001b[1;33m/\u001b[0m\u001b[1;36m10\u001b[0m\u001b[1;33m)\u001b[0m\u001b[1;33m)\u001b[0m\u001b[1;33m)\u001b[0m\u001b[1;33m\u001b[0m\u001b[1;33m\u001b[0m\u001b[0m\n\u001b[0m\u001b[0;32m    138\u001b[0m \u001b[1;33m\u001b[0m\u001b[0m\n\u001b[0;32m    139\u001b[0m         \u001b[1;31m# Make pretty\u001b[0m\u001b[1;33m\u001b[0m\u001b[1;33m\u001b[0m\u001b[1;33m\u001b[0m\u001b[0m\n",
      "\u001b[1;31mValueError\u001b[0m: Maximum allowed size exceeded"
     ]
    },
    {
     "data": {
      "image/png": "[encoded data removed]",
      "text/plain": [
       "<Figure size 864x576 with 1 Axes>"
      ]
     },
     "metadata": {},
     "output_type": "display_data"
    }
   ],
   "source": [
    "from cobra.evaluation import plot_performance_curves\n",
    "\n",
    "# plot performance curves\n",
    "plot_performance_curves(performances)"
   ]
  },
  {
   "cell_type": "markdown",
   "metadata": {},
   "source": [
    "Based on the performance curves (AUC per model with a particular number of predictors in case of logistic regression), a final model can then be chosen and the variables importance can be plotted:\n"
   ]
  },
  {
   "cell_type": "code",
   "execution_count": 77,
   "metadata": {},
   "outputs": [
    {
     "data": {
      "image/png": "[encoded data removed]",
      "text/plain": [
       "<Figure size 864x576 with 1 Axes>"
      ]
     },
     "metadata": {},
     "output_type": "display_data"
    }
   ],
   "source": [
    "model = forward_selection.get_model_from_step(7)\n",
    "final_predictors = model.predictors\n",
    "final_predictors\n",
    "from cobra.evaluation import plot_variable_importance\n",
    "variable_importance = model.compute_variable_importance(\n",
    "    basetable[basetable[\"split\"] == \"selection\"])\n",
    "plot_variable_importance(variable_importance)"
   ]
  },
  {
   "cell_type": "markdown",
   "metadata": {},
   "source": [
    "Finally, we can again export the model to a dictionary to store it as JSON"
   ]
  },
  {
   "cell_type": "code",
   "execution_count": 78,
   "metadata": {},
   "outputs": [
    {
     "ename": "FileNotFoundError",
     "evalue": "[Errno 2] No such file or directory: 'output\\\\model.json'",
     "output_type": "error",
     "traceback": [
      "\u001b[1;31m---------------------------------------------------------------------------\u001b[0m",
      "\u001b[1;31mFileNotFoundError\u001b[0m                         Traceback (most recent call last)",
      "\u001b[1;32m<ipython-input-78-e4abc201cabf>\u001b[0m in \u001b[0;36m<module>\u001b[1;34m\u001b[0m\n\u001b[0;32m      2\u001b[0m \u001b[1;33m\u001b[0m\u001b[0m\n\u001b[0;32m      3\u001b[0m \u001b[0mmodel_path\u001b[0m \u001b[1;33m=\u001b[0m \u001b[0mos\u001b[0m\u001b[1;33m.\u001b[0m\u001b[0mpath\u001b[0m\u001b[1;33m.\u001b[0m\u001b[0mjoin\u001b[0m\u001b[1;33m(\u001b[0m\u001b[1;34m\"output\"\u001b[0m\u001b[1;33m,\u001b[0m \u001b[1;34m\"model.json\"\u001b[0m\u001b[1;33m)\u001b[0m\u001b[1;33m\u001b[0m\u001b[1;33m\u001b[0m\u001b[0m\n\u001b[1;32m----> 4\u001b[1;33m \u001b[1;32mwith\u001b[0m \u001b[0mopen\u001b[0m\u001b[1;33m(\u001b[0m\u001b[0mmodel_path\u001b[0m\u001b[1;33m,\u001b[0m \u001b[1;34m\"w\"\u001b[0m\u001b[1;33m)\u001b[0m \u001b[1;32mas\u001b[0m \u001b[0mfile\u001b[0m\u001b[1;33m:\u001b[0m\u001b[1;33m\u001b[0m\u001b[1;33m\u001b[0m\u001b[0m\n\u001b[0m\u001b[0;32m      5\u001b[0m     \u001b[0mjson\u001b[0m\u001b[1;33m.\u001b[0m\u001b[0mdump\u001b[0m\u001b[1;33m(\u001b[0m\u001b[0mmodel_dict\u001b[0m\u001b[1;33m,\u001b[0m \u001b[0mfile\u001b[0m\u001b[1;33m)\u001b[0m\u001b[1;33m\u001b[0m\u001b[1;33m\u001b[0m\u001b[0m\n\u001b[0;32m      6\u001b[0m \u001b[1;33m\u001b[0m\u001b[0m\n",
      "\u001b[1;31mFileNotFoundError\u001b[0m: [Errno 2] No such file or directory: 'output\\\\model.json'"
     ]
    }
   ],
   "source": [
    "model_dict = model.serialize()\n",
    "\n",
    "model_path = os.path.join(\"output\", \"model.json\")\n",
    "with open(model_path, \"w\") as file:\n",
    "    json.dump(model_dict, file)\n",
    "\n",
    "# To reload the model again from a JSON file, run the following snippet:\n",
    "# from cobra.model_building import LinearRegressionModel\n",
    "# with open(model_path, \"r\") as file:\n",
    "#     model_dict = json.load(file)\n",
    "# model = LinearRegressionModel()\n",
    "# model.deserialize(model_dict)"
   ]
  },
  {
   "cell_type": "markdown",
   "metadata": {},
   "source": [
    "## Evaluation"
   ]
  },
  {
   "cell_type": "markdown",
   "metadata": {},
   "source": [
    "Now that we have build and selected a final model, it is time to evaluate its predictions on the test set against various evaluation metrics. The used evaluation metrics are:\n",
    "1. Coefficient of Determination: R2\n",
    "2. Mean Absolute Error: MAE\n",
    "3. Mean Squared Error: MSE\n",
    "4. Root Mean Squared Error: RMSE\n",
    "\n",
    "Furthermore, plotting makes the evaluation of a linear regression model a lot easier. We will use a **prediction plot**, which presents predictions from the model against actual values and a **Q-Q plot** from the standardized prediction residuals."
   ]
  },
  {
   "cell_type": "code",
   "execution_count": 79,
   "metadata": {},
   "outputs": [],
   "source": [
    "from cobra.evaluation import RegressionEvaluator\n",
    "# get numpy array of True target labels and predicted scores:\n",
    "y_true = basetable[basetable[\"split\"] == \"selection\"][target_col].values\n",
    "y_pred = model.score_model(basetable[basetable[\"split\"] == \"selection\"])"
   ]
  },
  {
   "cell_type": "code",
   "execution_count": 80,
   "metadata": {},
   "outputs": [],
   "source": [
    "evaluator = RegressionEvaluator()\n",
    "evaluator.fit(y_true, y_pred)"
   ]
  },
  {
   "cell_type": "code",
   "execution_count": 81,
   "metadata": {},
   "outputs": [
    {
     "data": {
      "text/plain": [
       "R2       0.363109\n",
       "MAE      4.927506\n",
       "MSE     42.867631\n",
       "RMSE     6.547338\n",
       "dtype: float64"
      ]
     },
     "execution_count": 81,
     "metadata": {},
     "output_type": "execute_result"
    }
   ],
   "source": [
    "evaluator.compute_scalar_metrics(y_true, y_pred)"
   ]
  },
  {
   "cell_type": "code",
   "execution_count": 82,
   "metadata": {},
   "outputs": [
    {
     "data": {
      "text/plain": [
       "quantiles    [-2.23653945714085, -1.9545779044793146, -1.77...\n",
       "residuals    [-1.890723531717944, -1.874030710025782, -1.64...\n",
       "dtype: object"
      ]
     },
     "execution_count": 82,
     "metadata": {},
     "output_type": "execute_result"
    }
   ],
   "source": [
    "evaluator.compute_qq_residuals(y_true, y_pred)"
   ]
  },
  {
   "cell_type": "code",
   "execution_count": 83,
   "metadata": {},
   "outputs": [
    {
     "data": {
      "image/png": "[encoded data removed]",
      "text/plain": [
       "<Figure size 864x576 with 1 Axes>"
      ]
     },
     "metadata": {},
     "output_type": "display_data"
    }
   ],
   "source": [
    "evaluator.plot_predictions(y_true=y_true, y_pred=y_pred)"
   ]
  },
  {
   "cell_type": "code",
   "execution_count": 86,
   "metadata": {},
   "outputs": [
    {
     "ename": "ValueError",
     "evalue": "Illegal format string \"o--.\"; two marker symbols",
     "output_type": "error",
     "traceback": [
      "\u001b[1;31m---------------------------------------------------------------------------\u001b[0m",
      "\u001b[1;31mValueError\u001b[0m                                Traceback (most recent call last)",
      "\u001b[1;32m<ipython-input-86-192645fc7130>\u001b[0m in \u001b[0;36m<module>\u001b[1;34m\u001b[0m\n\u001b[0;32m      1\u001b[0m \u001b[1;31m# does not work yet!\u001b[0m\u001b[1;33m\u001b[0m\u001b[1;33m\u001b[0m\u001b[1;33m\u001b[0m\u001b[0m\n\u001b[1;32m----> 2\u001b[1;33m \u001b[0mevaluator\u001b[0m\u001b[1;33m.\u001b[0m\u001b[0mplot_qq\u001b[0m\u001b[1;33m(\u001b[0m\u001b[1;33m)\u001b[0m\u001b[1;33m\u001b[0m\u001b[1;33m\u001b[0m\u001b[0m\n\u001b[0m",
      "\u001b[1;32m~\\PycharmProjects\\cobra\\cobra\\evaluation\\evaluator.py\u001b[0m in \u001b[0;36mplot_qq\u001b[1;34m(self, path, dim)\u001b[0m\n\u001b[0;32m    683\u001b[0m             \u001b[0my\u001b[0m \u001b[1;33m=\u001b[0m \u001b[0mself\u001b[0m\u001b[1;33m.\u001b[0m\u001b[0mqq\u001b[0m\u001b[1;33m[\u001b[0m\u001b[1;34m\"residuals\"\u001b[0m\u001b[1;33m]\u001b[0m\u001b[1;33m\u001b[0m\u001b[1;33m\u001b[0m\u001b[0m\n\u001b[0;32m    684\u001b[0m \u001b[1;33m\u001b[0m\u001b[0m\n\u001b[1;32m--> 685\u001b[1;33m             \u001b[0max\u001b[0m\u001b[1;33m.\u001b[0m\u001b[0mplot\u001b[0m\u001b[1;33m(\u001b[0m\u001b[0mx\u001b[0m\u001b[1;33m,\u001b[0m \u001b[0my\u001b[0m\u001b[1;33m,\u001b[0m \u001b[1;34m\"o--.\"\u001b[0m\u001b[1;33m,\u001b[0m \u001b[0mcolor\u001b[0m\u001b[1;33m=\u001b[0m\u001b[1;34m\"cornflowerblue\"\u001b[0m\u001b[1;33m,\u001b[0m \u001b[0mlinewidth\u001b[0m\u001b[1;33m=\u001b[0m\u001b[1;36m3\u001b[0m\u001b[1;33m)\u001b[0m\u001b[1;33m\u001b[0m\u001b[1;33m\u001b[0m\u001b[0m\n\u001b[0m\u001b[0;32m    686\u001b[0m             \u001b[0max\u001b[0m\u001b[1;33m.\u001b[0m\u001b[0mplot\u001b[0m\u001b[1;33m(\u001b[0m\u001b[0mx\u001b[0m\u001b[1;33m,\u001b[0m \u001b[0mx\u001b[0m\u001b[1;33m,\u001b[0m \u001b[1;34m\"r--.\"\u001b[0m\u001b[1;33m,\u001b[0m \u001b[0mcolor\u001b[0m\u001b[1;33m=\u001b[0m\u001b[1;34m\"cornflowerblue\"\u001b[0m\u001b[1;33m,\u001b[0m \u001b[0mlinewidth\u001b[0m\u001b[1;33m=\u001b[0m\u001b[1;36m3\u001b[0m\u001b[1;33m)\u001b[0m\u001b[1;33m\u001b[0m\u001b[1;33m\u001b[0m\u001b[0m\n\u001b[0;32m    687\u001b[0m \u001b[1;33m\u001b[0m\u001b[0m\n",
      "\u001b[1;32m~\\Anaconda3\\lib\\site-packages\\matplotlib\\axes\\_axes.py\u001b[0m in \u001b[0;36mplot\u001b[1;34m(self, scalex, scaley, data, *args, **kwargs)\u001b[0m\n\u001b[0;32m   1741\u001b[0m         \"\"\"\n\u001b[0;32m   1742\u001b[0m         \u001b[0mkwargs\u001b[0m \u001b[1;33m=\u001b[0m \u001b[0mcbook\u001b[0m\u001b[1;33m.\u001b[0m\u001b[0mnormalize_kwargs\u001b[0m\u001b[1;33m(\u001b[0m\u001b[0mkwargs\u001b[0m\u001b[1;33m,\u001b[0m \u001b[0mmlines\u001b[0m\u001b[1;33m.\u001b[0m\u001b[0mLine2D\u001b[0m\u001b[1;33m)\u001b[0m\u001b[1;33m\u001b[0m\u001b[1;33m\u001b[0m\u001b[0m\n\u001b[1;32m-> 1743\u001b[1;33m         \u001b[0mlines\u001b[0m \u001b[1;33m=\u001b[0m \u001b[1;33m[\u001b[0m\u001b[1;33m*\u001b[0m\u001b[0mself\u001b[0m\u001b[1;33m.\u001b[0m\u001b[0m_get_lines\u001b[0m\u001b[1;33m(\u001b[0m\u001b[1;33m*\u001b[0m\u001b[0margs\u001b[0m\u001b[1;33m,\u001b[0m \u001b[0mdata\u001b[0m\u001b[1;33m=\u001b[0m\u001b[0mdata\u001b[0m\u001b[1;33m,\u001b[0m \u001b[1;33m**\u001b[0m\u001b[0mkwargs\u001b[0m\u001b[1;33m)\u001b[0m\u001b[1;33m]\u001b[0m\u001b[1;33m\u001b[0m\u001b[1;33m\u001b[0m\u001b[0m\n\u001b[0m\u001b[0;32m   1744\u001b[0m         \u001b[1;32mfor\u001b[0m \u001b[0mline\u001b[0m \u001b[1;32min\u001b[0m \u001b[0mlines\u001b[0m\u001b[1;33m:\u001b[0m\u001b[1;33m\u001b[0m\u001b[1;33m\u001b[0m\u001b[0m\n\u001b[0;32m   1745\u001b[0m             \u001b[0mself\u001b[0m\u001b[1;33m.\u001b[0m\u001b[0madd_line\u001b[0m\u001b[1;33m(\u001b[0m\u001b[0mline\u001b[0m\u001b[1;33m)\u001b[0m\u001b[1;33m\u001b[0m\u001b[1;33m\u001b[0m\u001b[0m\n",
      "\u001b[1;32m~\\Anaconda3\\lib\\site-packages\\matplotlib\\axes\\_base.py\u001b[0m in \u001b[0;36m__call__\u001b[1;34m(self, data, *args, **kwargs)\u001b[0m\n\u001b[0;32m    271\u001b[0m                 \u001b[0mthis\u001b[0m \u001b[1;33m+=\u001b[0m \u001b[0margs\u001b[0m\u001b[1;33m[\u001b[0m\u001b[1;36m0\u001b[0m\u001b[1;33m]\u001b[0m\u001b[1;33m,\u001b[0m\u001b[1;33m\u001b[0m\u001b[1;33m\u001b[0m\u001b[0m\n\u001b[0;32m    272\u001b[0m                 \u001b[0margs\u001b[0m \u001b[1;33m=\u001b[0m \u001b[0margs\u001b[0m\u001b[1;33m[\u001b[0m\u001b[1;36m1\u001b[0m\u001b[1;33m:\u001b[0m\u001b[1;33m]\u001b[0m\u001b[1;33m\u001b[0m\u001b[1;33m\u001b[0m\u001b[0m\n\u001b[1;32m--> 273\u001b[1;33m             \u001b[1;32myield\u001b[0m \u001b[1;32mfrom\u001b[0m \u001b[0mself\u001b[0m\u001b[1;33m.\u001b[0m\u001b[0m_plot_args\u001b[0m\u001b[1;33m(\u001b[0m\u001b[0mthis\u001b[0m\u001b[1;33m,\u001b[0m \u001b[0mkwargs\u001b[0m\u001b[1;33m)\u001b[0m\u001b[1;33m\u001b[0m\u001b[1;33m\u001b[0m\u001b[0m\n\u001b[0m\u001b[0;32m    274\u001b[0m \u001b[1;33m\u001b[0m\u001b[0m\n\u001b[0;32m    275\u001b[0m     \u001b[1;32mdef\u001b[0m \u001b[0mget_next_color\u001b[0m\u001b[1;33m(\u001b[0m\u001b[0mself\u001b[0m\u001b[1;33m)\u001b[0m\u001b[1;33m:\u001b[0m\u001b[1;33m\u001b[0m\u001b[1;33m\u001b[0m\u001b[0m\n",
      "\u001b[1;32m~\\Anaconda3\\lib\\site-packages\\matplotlib\\axes\\_base.py\u001b[0m in \u001b[0;36m_plot_args\u001b[1;34m(self, tup, kwargs)\u001b[0m\n\u001b[0;32m    367\u001b[0m     \u001b[1;32mdef\u001b[0m \u001b[0m_plot_args\u001b[0m\u001b[1;33m(\u001b[0m\u001b[0mself\u001b[0m\u001b[1;33m,\u001b[0m \u001b[0mtup\u001b[0m\u001b[1;33m,\u001b[0m \u001b[0mkwargs\u001b[0m\u001b[1;33m)\u001b[0m\u001b[1;33m:\u001b[0m\u001b[1;33m\u001b[0m\u001b[1;33m\u001b[0m\u001b[0m\n\u001b[0;32m    368\u001b[0m         \u001b[1;32mif\u001b[0m \u001b[0mlen\u001b[0m\u001b[1;33m(\u001b[0m\u001b[0mtup\u001b[0m\u001b[1;33m)\u001b[0m \u001b[1;33m>\u001b[0m \u001b[1;36m1\u001b[0m \u001b[1;32mand\u001b[0m \u001b[0misinstance\u001b[0m\u001b[1;33m(\u001b[0m\u001b[0mtup\u001b[0m\u001b[1;33m[\u001b[0m\u001b[1;33m-\u001b[0m\u001b[1;36m1\u001b[0m\u001b[1;33m]\u001b[0m\u001b[1;33m,\u001b[0m \u001b[0mstr\u001b[0m\u001b[1;33m)\u001b[0m\u001b[1;33m:\u001b[0m\u001b[1;33m\u001b[0m\u001b[1;33m\u001b[0m\u001b[0m\n\u001b[1;32m--> 369\u001b[1;33m             \u001b[0mlinestyle\u001b[0m\u001b[1;33m,\u001b[0m \u001b[0mmarker\u001b[0m\u001b[1;33m,\u001b[0m \u001b[0mcolor\u001b[0m \u001b[1;33m=\u001b[0m \u001b[0m_process_plot_format\u001b[0m\u001b[1;33m(\u001b[0m\u001b[0mtup\u001b[0m\u001b[1;33m[\u001b[0m\u001b[1;33m-\u001b[0m\u001b[1;36m1\u001b[0m\u001b[1;33m]\u001b[0m\u001b[1;33m)\u001b[0m\u001b[1;33m\u001b[0m\u001b[1;33m\u001b[0m\u001b[0m\n\u001b[0m\u001b[0;32m    370\u001b[0m             \u001b[0mtup\u001b[0m \u001b[1;33m=\u001b[0m \u001b[0mtup\u001b[0m\u001b[1;33m[\u001b[0m\u001b[1;33m:\u001b[0m\u001b[1;33m-\u001b[0m\u001b[1;36m1\u001b[0m\u001b[1;33m]\u001b[0m\u001b[1;33m\u001b[0m\u001b[1;33m\u001b[0m\u001b[0m\n\u001b[0;32m    371\u001b[0m         \u001b[1;32melif\u001b[0m \u001b[0mlen\u001b[0m\u001b[1;33m(\u001b[0m\u001b[0mtup\u001b[0m\u001b[1;33m)\u001b[0m \u001b[1;33m==\u001b[0m \u001b[1;36m3\u001b[0m\u001b[1;33m:\u001b[0m\u001b[1;33m\u001b[0m\u001b[1;33m\u001b[0m\u001b[0m\n",
      "\u001b[1;32m~\\Anaconda3\\lib\\site-packages\\matplotlib\\axes\\_base.py\u001b[0m in \u001b[0;36m_process_plot_format\u001b[1;34m(fmt)\u001b[0m\n\u001b[0;32m    144\u001b[0m         \u001b[1;32melif\u001b[0m \u001b[0mc\u001b[0m \u001b[1;32min\u001b[0m \u001b[0mmlines\u001b[0m\u001b[1;33m.\u001b[0m\u001b[0mlineMarkers\u001b[0m\u001b[1;33m:\u001b[0m\u001b[1;33m\u001b[0m\u001b[1;33m\u001b[0m\u001b[0m\n\u001b[0;32m    145\u001b[0m             \u001b[1;32mif\u001b[0m \u001b[0mmarker\u001b[0m \u001b[1;32mis\u001b[0m \u001b[1;32mnot\u001b[0m \u001b[1;32mNone\u001b[0m\u001b[1;33m:\u001b[0m\u001b[1;33m\u001b[0m\u001b[1;33m\u001b[0m\u001b[0m\n\u001b[1;32m--> 146\u001b[1;33m                 raise ValueError(\n\u001b[0m\u001b[0;32m    147\u001b[0m                     'Illegal format string \"%s\"; two marker symbols' % fmt)\n\u001b[0;32m    148\u001b[0m             \u001b[0mmarker\u001b[0m \u001b[1;33m=\u001b[0m \u001b[0mc\u001b[0m\u001b[1;33m\u001b[0m\u001b[1;33m\u001b[0m\u001b[0m\n",
      "\u001b[1;31mValueError\u001b[0m: Illegal format string \"o--.\"; two marker symbols"
     ]
    },
    {
     "data": {
      "image/png": "[encoded data removed]",
      "text/plain": [
       "<Figure size 864x576 with 1 Axes>"
      ]
     },
     "metadata": {},
     "output_type": "display_data"
    }
   ],
   "source": [
    "# does not work yet!\n",
    "evaluator.plot_qq()"
   ]
  },
  {
   "cell_type": "code",
   "execution_count": null,
   "metadata": {},
   "outputs": [],
   "source": []
  }
 ],
 "metadata": {
  "kernelspec": {
   "display_name": "Python 3",
   "language": "python",
   "name": "python3"
  },
  "language_info": {
   "codemirror_mode": {
    "name": "ipython",
    "version": 3
   },
   "file_extension": ".py",
   "mimetype": "text/x-python",
   "name": "python",
   "nbconvert_exporter": "python",
   "pygments_lexer": "ipython3",
   "version": "3.8.8"
  }
 },
 "nbformat": 4,
 "nbformat_minor": 4
}
