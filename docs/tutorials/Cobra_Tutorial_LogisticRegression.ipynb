{
 "cells": [
  {
   "cell_type": "markdown",
   "metadata": {},
   "source": [
    "# Tutorial for Logistic Regression"
   ]
  },
  {
   "cell_type": "markdown",
   "metadata": {},
   "source": [
    "Cobra requires the usual Python packages for data science:\n",
    "- numpy (>=1.19.4)\n",
    "- pandas (>=1.1.5)\n",
    "- scipy (>=1.5.4)\n",
    "- scikit-learn (>=0.23.1)\n",
    "- matplotlib (>=3.3.3)\n",
    "- seaborn (>=0.11.0)\n",
    "\n",
    "These packages, along with their versions are listed in requirements.txt and can be installed using pip.\n",
    "\n",
    "\n",
    "Note: if you want to install cobra with e.g. pip, you don't have to install all of these requirements as these are automatically installed with cobra itself."
   ]
  },
  {
   "cell_type": "code",
   "execution_count": null,
   "metadata": {},
   "outputs": [],
   "source": [
    "pip install -r requirements.txt"
   ]
  },
  {
   "cell_type": "markdown",
   "metadata": {},
   "source": [
    "The easiest way to install cobra is using pip:"
   ]
  },
  {
   "cell_type": "code",
   "execution_count": null,
   "metadata": {},
   "outputs": [],
   "source": [
    "pip install -U pythonpredictions-cobra"
   ]
  },
  {
   "cell_type": "markdown",
   "metadata": {},
   "source": [
    "*****"
   ]
  },
  {
   "cell_type": "markdown",
   "metadata": {},
   "source": [
    "This section we will walk you through all the required steps to build a predictive logistic regression model using **Cobra**. All classes and functions used here are well-documented. In case you want more information on a class or function, run the next cell:"
   ]
  },
  {
   "cell_type": "code",
   "execution_count": null,
   "metadata": {},
   "outputs": [],
   "source": [
    "help(function_or_class_you_want_info_from)"
   ]
  },
  {
   "cell_type": "markdown",
   "metadata": {},
   "source": [
    "Building a good model involves three steps\n",
    "\n",
    "1. **Preprocessing**: properly prepare the predictors (a synonym for “feature” or variable that we use throughout this tutorial) for modelling.\n",
    "\n",
    "2. **Feature Selection**: automatically select a subset of predictors which contribute most to the target variable or output in which you are interested.\n",
    "\n",
    "3. **Model Evaluation**: once a model has been build, a detailed evaluation can be performed by computing all sorts of evaluation metrics.\n",
    "\n",
    "\n",
    "\n",
    "Let's dive in!!!\n",
    "***"
   ]
  },
  {
   "cell_type": "markdown",
   "metadata": {},
   "source": [
    "## Survival Prediction using Titanic data\n",
    "- GOAL : Predict if individuals survives in titanic sinking\n",
    "- BASETABLE : seaborn dataset Titanic"
   ]
  },
  {
   "cell_type": "markdown",
   "metadata": {},
   "source": [
    "import the necessary libraries"
   ]
  },
  {
   "cell_type": "code",
   "execution_count": 2,
   "metadata": {},
   "outputs": [],
   "source": [
    "import json\n",
    "import pandas as pd\n",
    "import numpy as np\n",
    "\n",
    "from pandas.api.types import is_datetime64_any_dtype\n",
    "\n",
    "pd.set_option('display.max_columns', 50)\n",
    "pd.set_option(\"display.max_rows\", 50)\n",
    "from cobra.preprocessing import PreProcessor\n",
    "from cobra.evaluation import generate_pig_tables, plot_incidence\n",
    "from cobra.evaluation import evaluator"
   ]
  },
  {
   "cell_type": "code",
   "execution_count": 3,
   "metadata": {},
   "outputs": [
    {
     "data": {
      "text/html": [
       "<div>\n",
       "<style scoped>\n",
       "    .dataframe tbody tr th:only-of-type {\n",
       "        vertical-align: middle;\n",
       "    }\n",
       "\n",
       "    .dataframe tbody tr th {\n",
       "        vertical-align: top;\n",
       "    }\n",
       "\n",
       "    .dataframe thead th {\n",
       "        text-align: right;\n",
       "    }\n",
       "</style>\n",
       "<table border=\"1\" class=\"dataframe\">\n",
       "  <thead>\n",
       "    <tr style=\"text-align: right;\">\n",
       "      <th></th>\n",
       "      <th>survived</th>\n",
       "      <th>pclass</th>\n",
       "      <th>sex</th>\n",
       "      <th>age</th>\n",
       "      <th>sibsp</th>\n",
       "      <th>parch</th>\n",
       "      <th>fare</th>\n",
       "      <th>embarked</th>\n",
       "      <th>class</th>\n",
       "      <th>who</th>\n",
       "      <th>adult_male</th>\n",
       "      <th>deck</th>\n",
       "      <th>embark_town</th>\n",
       "      <th>alive</th>\n",
       "      <th>alone</th>\n",
       "    </tr>\n",
       "  </thead>\n",
       "  <tbody>\n",
       "    <tr>\n",
       "      <th>0</th>\n",
       "      <td>0</td>\n",
       "      <td>3</td>\n",
       "      <td>male</td>\n",
       "      <td>22.0</td>\n",
       "      <td>1</td>\n",
       "      <td>0</td>\n",
       "      <td>7.2500</td>\n",
       "      <td>S</td>\n",
       "      <td>Third</td>\n",
       "      <td>man</td>\n",
       "      <td>True</td>\n",
       "      <td>NaN</td>\n",
       "      <td>Southampton</td>\n",
       "      <td>no</td>\n",
       "      <td>False</td>\n",
       "    </tr>\n",
       "    <tr>\n",
       "      <th>1</th>\n",
       "      <td>1</td>\n",
       "      <td>1</td>\n",
       "      <td>female</td>\n",
       "      <td>38.0</td>\n",
       "      <td>1</td>\n",
       "      <td>0</td>\n",
       "      <td>71.2833</td>\n",
       "      <td>C</td>\n",
       "      <td>First</td>\n",
       "      <td>woman</td>\n",
       "      <td>False</td>\n",
       "      <td>C</td>\n",
       "      <td>Cherbourg</td>\n",
       "      <td>yes</td>\n",
       "      <td>False</td>\n",
       "    </tr>\n",
       "    <tr>\n",
       "      <th>2</th>\n",
       "      <td>1</td>\n",
       "      <td>3</td>\n",
       "      <td>female</td>\n",
       "      <td>26.0</td>\n",
       "      <td>0</td>\n",
       "      <td>0</td>\n",
       "      <td>7.9250</td>\n",
       "      <td>S</td>\n",
       "      <td>Third</td>\n",
       "      <td>woman</td>\n",
       "      <td>False</td>\n",
       "      <td>NaN</td>\n",
       "      <td>Southampton</td>\n",
       "      <td>yes</td>\n",
       "      <td>True</td>\n",
       "    </tr>\n",
       "    <tr>\n",
       "      <th>3</th>\n",
       "      <td>1</td>\n",
       "      <td>1</td>\n",
       "      <td>female</td>\n",
       "      <td>35.0</td>\n",
       "      <td>1</td>\n",
       "      <td>0</td>\n",
       "      <td>53.1000</td>\n",
       "      <td>S</td>\n",
       "      <td>First</td>\n",
       "      <td>woman</td>\n",
       "      <td>False</td>\n",
       "      <td>C</td>\n",
       "      <td>Southampton</td>\n",
       "      <td>yes</td>\n",
       "      <td>False</td>\n",
       "    </tr>\n",
       "    <tr>\n",
       "      <th>4</th>\n",
       "      <td>0</td>\n",
       "      <td>3</td>\n",
       "      <td>male</td>\n",
       "      <td>35.0</td>\n",
       "      <td>0</td>\n",
       "      <td>0</td>\n",
       "      <td>8.0500</td>\n",
       "      <td>S</td>\n",
       "      <td>Third</td>\n",
       "      <td>man</td>\n",
       "      <td>True</td>\n",
       "      <td>NaN</td>\n",
       "      <td>Southampton</td>\n",
       "      <td>no</td>\n",
       "      <td>True</td>\n",
       "    </tr>\n",
       "  </tbody>\n",
       "</table>\n",
       "</div>"
      ],
      "text/plain": [
       "   survived  pclass     sex   age  sibsp  parch     fare embarked  class  \\\n",
       "0         0       3    male  22.0      1      0   7.2500        S  Third   \n",
       "1         1       1  female  38.0      1      0  71.2833        C  First   \n",
       "2         1       3  female  26.0      0      0   7.9250        S  Third   \n",
       "3         1       1  female  35.0      1      0  53.1000        S  First   \n",
       "4         0       3    male  35.0      0      0   8.0500        S  Third   \n",
       "\n",
       "     who  adult_male deck  embark_town alive  alone  \n",
       "0    man        True  NaN  Southampton    no  False  \n",
       "1  woman       False    C    Cherbourg   yes  False  \n",
       "2  woman       False  NaN  Southampton   yes   True  \n",
       "3  woman       False    C  Southampton   yes  False  \n",
       "4    man        True  NaN  Southampton    no   True  "
      ]
     },
     "execution_count": 3,
     "metadata": {},
     "output_type": "execute_result"
    }
   ],
   "source": [
    "import seaborn as sns\n",
    "df=sns.load_dataset('titanic')\n",
    "df.head()"
   ]
  },
  {
   "cell_type": "markdown",
   "metadata": {},
   "source": [
    "In the example below, we assume the data for model building is available in a pandas DataFrame. This DataFrame should contain a an ID column, a target column (e.g. “**survived**”) and a number of candidate predictors (features) to build a model with.\n",
    "\n",
    "***\n"
   ]
  },
  {
   "cell_type": "code",
   "execution_count": 4,
   "metadata": {},
   "outputs": [
    {
     "data": {
      "text/plain": [
       "survived          int64\n",
       "pclass            int64\n",
       "sex              object\n",
       "age             float64\n",
       "sibsp             int64\n",
       "parch             int64\n",
       "fare            float64\n",
       "embarked         object\n",
       "class          category\n",
       "who              object\n",
       "adult_male         bool\n",
       "deck           category\n",
       "embark_town      object\n",
       "alive            object\n",
       "alone              bool\n",
       "dtype: object"
      ]
     },
     "execution_count": 4,
     "metadata": {},
     "output_type": "execute_result"
    }
   ],
   "source": [
    "df.dtypes"
   ]
  },
  {
   "cell_type": "markdown",
   "metadata": {},
   "source": [
    "it is required to set all category vars to object dtype\n"
   ]
  },
  {
   "cell_type": "code",
   "execution_count": 5,
   "metadata": {},
   "outputs": [],
   "source": [
    "df.loc[:, df.dtypes == 'category'] =\\\n",
    "    df.select_dtypes(['category'])\\\n",
    "    .apply(lambda x: x.astype('object'))"
   ]
  },
  {
   "cell_type": "markdown",
   "metadata": {},
   "source": [
    "## Data preprocessing"
   ]
  },
  {
   "cell_type": "markdown",
   "metadata": {},
   "source": [
    "#### The first part focusses on preparing the predictors for modelling by:\n",
    "\n",
    "1. Defining the ID column, the target, discrete and contineous variables\n",
    "\n",
    "2. Splitting the dataset into training, selection and validation datasets.\n",
    "\n",
    "3. Binning continuous variables into discrete intervals\n",
    "\n",
    "4. Replacing missing values of both categorical and continuous variables (which are now binned) with an additional “Missing” bin/category\n",
    "\n",
    "5. Regrouping categories in new category “other”\n",
    "\n",
    "6. Replacing bins/categories with their corresponding incidence rate per category/bin.\n",
    "\n",
    "*Disclaimer*: Cobra's Preprocesser is valid only if the original data does not contain extreme irregularities, such as outliers or very skewed distributions. This should always be checked beforehand by its user."
   ]
  },
  {
   "cell_type": "markdown",
   "metadata": {},
   "source": [
    "In this toy dataset, the index will serve as ID,"
   ]
  },
  {
   "cell_type": "code",
   "execution_count": 6,
   "metadata": {},
   "outputs": [],
   "source": [
    "df[\"id\"] = df.index + 1\n",
    "id_col = \"id\""
   ]
  },
  {
   "cell_type": "markdown",
   "metadata": {},
   "source": [
    "and survived is the target,\n"
   ]
  },
  {
   "cell_type": "code",
   "execution_count": 7,
   "metadata": {},
   "outputs": [],
   "source": [
    "target_col = \"survived\""
   ]
  },
  {
   "cell_type": "markdown",
   "metadata": {},
   "source": [
    "Now, we remove the columns 'who' and 'adult_male' since they are duplicate of 'sex', and also 'alive', which seems to be a duplicate of 'survived'\n"
   ]
  },
  {
   "cell_type": "code",
   "execution_count": 8,
   "metadata": {},
   "outputs": [],
   "source": [
    "del df['who']\n",
    "del df['adult_male']\n",
    "del df['alive']"
   ]
  },
  {
   "cell_type": "markdown",
   "metadata": {},
   "source": [
    "Finding out which variables are categorical (\"discrete\") and which are continous:\n",
    "\n",
    "\n",
    " => discrete are definitely those that contain strings:"
   ]
  },
  {
   "cell_type": "code",
   "execution_count": 9,
   "metadata": {},
   "outputs": [
    {
     "name": "stdout",
     "output_type": "stream",
     "text": [
      "['sex', 'embarked', 'class', 'deck', 'embark_town']\n",
      "\n",
      "sex\n",
      "male      577\n",
      "female    314\n",
      "Name: sex, dtype: int64\n",
      "\n",
      "embarked\n",
      "S    644\n",
      "C    168\n",
      "Q     77\n",
      "Name: embarked, dtype: int64\n",
      "\n",
      "class\n",
      "Third     491\n",
      "First     216\n",
      "Second    184\n",
      "Name: class, dtype: int64\n",
      "\n",
      "deck\n",
      "C    59\n",
      "B    47\n",
      "D    33\n",
      "E    32\n",
      "A    15\n",
      "F    13\n",
      "G     4\n",
      "Name: deck, dtype: int64\n",
      "\n",
      "embark_town\n",
      "Southampton    644\n",
      "Cherbourg      168\n",
      "Queenstown      77\n",
      "Name: embark_town, dtype: int64\n",
      "\n"
     ]
    }
   ],
   "source": [
    "col_dtypes = df.dtypes\n",
    "discrete_vars = [col for col in col_dtypes[col_dtypes==object].index.tolist() if col not in [id_col, target_col]] \n",
    "print(discrete_vars)\n",
    "print()\n",
    "for col in discrete_vars:\n",
    "    print(col)\n",
    "    print(df[col].value_counts())\n",
    "    print()"
   ]
  },
  {
   "cell_type": "markdown",
   "metadata": {},
   "source": [
    "Next, we also check for numerical columns that only contain a few different values, thus to be interpreted as discrete, categorical variables\n"
   ]
  },
  {
   "cell_type": "code",
   "execution_count": 10,
   "metadata": {},
   "outputs": [
    {
     "name": "stdout",
     "output_type": "stream",
     "text": [
      "pclass\n",
      "3    491\n",
      "1    216\n",
      "2    184\n",
      "Name: pclass, dtype: int64\n",
      "\n",
      "sibsp\n",
      "0    608\n",
      "1    209\n",
      "2     28\n",
      "4     18\n",
      "3     16\n",
      "8      7\n",
      "5      5\n",
      "Name: sibsp, dtype: int64\n",
      "\n",
      "parch\n",
      "0    678\n",
      "1    118\n",
      "2     80\n",
      "3      5\n",
      "5      5\n",
      "4      4\n",
      "6      1\n",
      "Name: parch, dtype: int64\n",
      "\n",
      "alone\n",
      "True     537\n",
      "False    354\n",
      "Name: alone, dtype: int64\n",
      "\n"
     ]
    }
   ],
   "source": [
    "for col in df.columns:\n",
    "    if col not in discrete_vars and col not in [id_col, target_col]: # if we didn't mark it as discrete already because it was string typed, or also excluding it if it is the target:\n",
    "        val_counts = df[col].value_counts()\n",
    "        if len(val_counts) > 1 and len(val_counts) <= 10: # The column contains less than 10 different values. \n",
    "            print(col)\n",
    "            print(val_counts)\n",
    "            print()"
   ]
  },
  {
   "cell_type": "markdown",
   "metadata": {},
   "source": [
    "By taking a look at the printed variables, it is clear that we have to include those in the list of discrete variables. This can be done as follows:"
   ]
  },
  {
   "cell_type": "code",
   "execution_count": 11,
   "metadata": {},
   "outputs": [
    {
     "data": {
      "text/plain": [
       "['sex',\n",
       " 'embarked',\n",
       " 'class',\n",
       " 'deck',\n",
       " 'embark_town',\n",
       " 'pclass',\n",
       " 'sibsp',\n",
       " 'parch',\n",
       " 'class',\n",
       " 'deck',\n",
       " 'alone']"
      ]
     },
     "execution_count": 11,
     "metadata": {},
     "output_type": "execute_result"
    }
   ],
   "source": [
    "discrete_vars.extend([\"pclass\",\"sibsp\",\"parch\",\"class\",\"deck\",\"alone\"])\n",
    "discrete_vars"
   ]
  },
  {
   "cell_type": "markdown",
   "metadata": {},
   "source": [
    "The remaining variables can be labelled continous predictors, without including the target variable.\n"
   ]
  },
  {
   "cell_type": "code",
   "execution_count": 12,
   "metadata": {},
   "outputs": [
    {
     "data": {
      "text/plain": [
       "['fare', 'age']"
      ]
     },
     "execution_count": 12,
     "metadata": {},
     "output_type": "execute_result"
    }
   ],
   "source": [
    "continuous_vars = list(set(df.columns)\n",
    "                       - set(discrete_vars) \n",
    "                       - set([id_col, target_col]))\n",
    "continuous_vars                       "
   ]
  },
  {
   "cell_type": "markdown",
   "metadata": {},
   "source": [
    "Now, we can prepare **Cobra's Preprocessor**"
   ]
  },
  {
   "cell_type": "code",
   "execution_count": 13,
   "metadata": {},
   "outputs": [
    {
     "name": "stderr",
     "output_type": "stream",
     "text": [
      "The target encoder's additive smoothing weight is set to 0. This disables smoothing and may make the encoding prone to overfitting.\n"
     ]
    },
    {
     "name": "stdout",
     "output_type": "stream",
     "text": [
      "Help on method from_params in module cobra.preprocessing.preprocessor:\n",
      "\n",
      "from_params(model_type: str = 'classification', n_bins: int = 10, strategy: str = 'quantile', closed: str = 'right', auto_adapt_bins: bool = False, starting_precision: int = 0, label_format: str = '{} - {}', change_endpoint_format: bool = False, regroup: bool = True, regroup_name: str = 'Other', keep_missing: bool = True, category_size_threshold: int = 5, p_value_threshold: float = 0.001, scale_contingency_table: bool = True, forced_categories: dict = {}, weight: float = 0.0, imputation_strategy: str = 'mean') method of builtins.type instance\n",
      "    Constructor to instantiate PreProcessor from all the parameters\n",
      "    that can be set in all its required (attribute) classes\n",
      "    along with good default values.\n",
      "    \n",
      "    Parameters\n",
      "    ----------\n",
      "    model_type : str\n",
      "        Model type (``classification`` or ``regression``).\n",
      "    n_bins : int, optional\n",
      "        Number of bins to produce. Raises ValueError if ``n_bins < 2``.\n",
      "    strategy : str, optional\n",
      "        Binning strategy. Currently only ``uniform`` and ``quantile``\n",
      "        e.g. equifrequency is supported.\n",
      "    closed : str, optional\n",
      "        Whether to close the bins (intervals) from the left or right.\n",
      "    auto_adapt_bins : bool, optional\n",
      "        Reduces the number of bins (starting from n_bins) as a function of\n",
      "        the number of missings.\n",
      "    starting_precision : int, optional\n",
      "        Initial precision for the bin edges to start from,\n",
      "        can also be negative. Given a list of bin edges, the class will\n",
      "        automatically choose the minimal precision required to have proper\n",
      "        bins e.g. ``[5.5555, 5.5744, ...]`` will be rounded\n",
      "        to ``[5.56, 5.57, ...]``. In case of a negative number, an attempt\n",
      "        will be made to round up the numbers of the bin edges\n",
      "        e.g. ``5.55 -> 10``, ``146 -> 100``, ...\n",
      "    label_format : str, optional\n",
      "        Format string to display the bin labels\n",
      "        e.g. ``min - max``, ``(min, max]``, ...\n",
      "    change_endpoint_format : bool, optional\n",
      "        Whether or not to change the format of the lower and upper bins\n",
      "        into ``< x`` and ``> y`` resp.\n",
      "    regroup : bool\n",
      "        Whether or not to regroup categories.\n",
      "    regroup_name : str\n",
      "        New name of the non-significant regrouped variables.\n",
      "    keep_missing : bool\n",
      "        Whether or not to keep missing as a separate category.\n",
      "    category_size_threshold : int\n",
      "        All categories with a size (corrected for incidence if applicable)\n",
      "        in the training set above this threshold are kept as a separate category,\n",
      "        if statistical significance w.r.t. target is detected. Remaining\n",
      "        categories are converted into ``Other`` (or else, cf. regroup_name).\n",
      "    p_value_threshold : float\n",
      "        Significance threshold for regrouping.\n",
      "    forced_categories : dict\n",
      "        Map to prevent certain categories from being grouped into ``Other``\n",
      "        for each column - dict of the form ``{col:[forced vars]}``.\n",
      "    scale_contingency_table : bool\n",
      "        Whether contingency table should be scaled before chi^2.\n",
      "    weight : float, optional\n",
      "        Smoothing parameters (non-negative). The higher the value of the\n",
      "        parameter, the bigger the contribution of the overall mean.\n",
      "        When set to zero, there is no smoothing (e.g. the pure target incidence is used).\n",
      "    imputation_strategy : str, optional\n",
      "        In case there is a particular column which contains new categories,\n",
      "        the encoding will lead to NULL values which should be imputed.\n",
      "        Valid strategies are to replace with the global mean of the train\n",
      "        set or the min (resp. max) incidence of the categories of that\n",
      "        particular variable.\n",
      "    \n",
      "    Returns\n",
      "    -------\n",
      "    PreProcessor\n",
      "        class encapsulating CategoricalDataProcessor,\n",
      "        KBinsDiscretizer, and TargetEncoder instances\n",
      "\n"
     ]
    }
   ],
   "source": [
    "# using all Cobra's default parameters for preprocessing for now:\n",
    "preprocessor = PreProcessor.from_params(\n",
    "    model_type=\"classification\")\n",
    "\n",
    "# These are the options though:\n",
    "help(PreProcessor.from_params)"
   ]
  },
  {
   "cell_type": "markdown",
   "metadata": {},
   "source": [
    "split data into train-selection-validation set:\n"
   ]
  },
  {
   "cell_type": "code",
   "execution_count": 14,
   "metadata": {},
   "outputs": [],
   "source": [
    "from cobra.preprocessing import PreProcessor\n",
    "basetable = preprocessor.train_selection_validation_split(\n",
    "                data=df,\n",
    "                train_prop=0.6,\n",
    "                selection_prop=0.2,\n",
    "                validation_prop=0.2)"
   ]
  },
  {
   "cell_type": "markdown",
   "metadata": {},
   "source": [
    "And fit the preprocessor pipeline:\n"
   ]
  },
  {
   "cell_type": "code",
   "execution_count": 15,
   "metadata": {},
   "outputs": [
    {
     "data": {
      "application/vnd.jupyter.widget-view+json": {
       "model_id": "ed853231a7eb4956be0e8a5f64cee747",
       "version_major": 2,
       "version_minor": 0
      },
      "text/plain": [
       "Computing discretization bins...:   0%|          | 0/2 [00:00<?, ?it/s]"
      ]
     },
     "metadata": {},
     "output_type": "display_data"
    },
    {
     "data": {
      "application/vnd.jupyter.widget-view+json": {
       "model_id": "0e76f62187fc4df99a1e57344e7ac7d9",
       "version_major": 2,
       "version_minor": 0
      },
      "text/plain": [
       "Discretizing columns...:   0%|          | 0/2 [00:00<?, ?it/s]"
      ]
     },
     "metadata": {},
     "output_type": "display_data"
    },
    {
     "data": {
      "application/vnd.jupyter.widget-view+json": {
       "model_id": "e2e7642fe3bb4070ba6ad83af72057e0",
       "version_major": 2,
       "version_minor": 0
      },
      "text/plain": [
       "Fitting category regrouping...:   0%|          | 0/11 [00:00<?, ?it/s]"
      ]
     },
     "metadata": {},
     "output_type": "display_data"
    },
    {
     "data": {
      "application/vnd.jupyter.widget-view+json": {
       "model_id": "ff641413c2d54565bac06b8265460cc0",
       "version_major": 2,
       "version_minor": 0
      },
      "text/plain": [
       "Fitting target encoding...:   0%|          | 0/13 [00:00<?, ?it/s]"
      ]
     },
     "metadata": {},
     "output_type": "display_data"
    }
   ],
   "source": [
    "preprocessor.fit(basetable[basetable[\"split\"] == \"train\"],\n",
    "                 continuous_vars=continuous_vars,\n",
    "                 discrete_vars=discrete_vars,\n",
    "                 target_column_name=target_col)"
   ]
  },
  {
   "cell_type": "markdown",
   "metadata": {},
   "source": [
    "This pipeline can now be performed on the basetable!!\n"
   ]
  },
  {
   "cell_type": "code",
   "execution_count": 16,
   "metadata": {},
   "outputs": [
    {
     "data": {
      "application/vnd.jupyter.widget-view+json": {
       "model_id": "a5e84db321284e848ac80e417db09077",
       "version_major": 2,
       "version_minor": 0
      },
      "text/plain": [
       "Discretizing columns...:   0%|          | 0/2 [00:00<?, ?it/s]"
      ]
     },
     "metadata": {},
     "output_type": "display_data"
    },
    {
     "data": {
      "application/vnd.jupyter.widget-view+json": {
       "model_id": "61a82d202a0947dea06a5e024332f576",
       "version_major": 2,
       "version_minor": 0
      },
      "text/plain": [
       "Applying target encoding...:   0%|          | 0/13 [00:00<?, ?it/s]"
      ]
     },
     "metadata": {},
     "output_type": "display_data"
    },
    {
     "data": {
      "text/html": [
       "<div>\n",
       "<style scoped>\n",
       "    .dataframe tbody tr th:only-of-type {\n",
       "        vertical-align: middle;\n",
       "    }\n",
       "\n",
       "    .dataframe tbody tr th {\n",
       "        vertical-align: top;\n",
       "    }\n",
       "\n",
       "    .dataframe thead th {\n",
       "        text-align: right;\n",
       "    }\n",
       "</style>\n",
       "<table border=\"1\" class=\"dataframe\">\n",
       "  <thead>\n",
       "    <tr style=\"text-align: right;\">\n",
       "      <th></th>\n",
       "      <th>survived</th>\n",
       "      <th>pclass</th>\n",
       "      <th>sex</th>\n",
       "      <th>age</th>\n",
       "      <th>sibsp</th>\n",
       "      <th>parch</th>\n",
       "      <th>fare</th>\n",
       "      <th>embarked</th>\n",
       "      <th>class</th>\n",
       "      <th>deck</th>\n",
       "      <th>embark_town</th>\n",
       "      <th>alone</th>\n",
       "      <th>id</th>\n",
       "      <th>split</th>\n",
       "      <th>fare_bin</th>\n",
       "      <th>age_bin</th>\n",
       "      <th>sex_processed</th>\n",
       "      <th>embarked_processed</th>\n",
       "      <th>class_processed</th>\n",
       "      <th>deck_processed</th>\n",
       "      <th>embark_town_processed</th>\n",
       "      <th>pclass_processed</th>\n",
       "      <th>sibsp_processed</th>\n",
       "      <th>parch_processed</th>\n",
       "      <th>alone_processed</th>\n",
       "      <th>sex_enc</th>\n",
       "      <th>embarked_enc</th>\n",
       "      <th>class_enc</th>\n",
       "      <th>deck_enc</th>\n",
       "      <th>embark_town_enc</th>\n",
       "      <th>pclass_enc</th>\n",
       "      <th>sibsp_enc</th>\n",
       "      <th>parch_enc</th>\n",
       "      <th>alone_enc</th>\n",
       "      <th>fare_enc</th>\n",
       "      <th>age_enc</th>\n",
       "    </tr>\n",
       "  </thead>\n",
       "  <tbody>\n",
       "    <tr>\n",
       "      <th>0</th>\n",
       "      <td>0</td>\n",
       "      <td>3</td>\n",
       "      <td>male</td>\n",
       "      <td>22.0</td>\n",
       "      <td>1</td>\n",
       "      <td>0</td>\n",
       "      <td>7.2500</td>\n",
       "      <td>S</td>\n",
       "      <td>Third</td>\n",
       "      <td>NaN</td>\n",
       "      <td>Southampton</td>\n",
       "      <td>False</td>\n",
       "      <td>1</td>\n",
       "      <td>train</td>\n",
       "      <td>0.0 - 7.7</td>\n",
       "      <td>19.0 - 22.0</td>\n",
       "      <td>male</td>\n",
       "      <td>Other</td>\n",
       "      <td>Third</td>\n",
       "      <td>Missing</td>\n",
       "      <td>Other</td>\n",
       "      <td>3</td>\n",
       "      <td>1</td>\n",
       "      <td>0</td>\n",
       "      <td>False</td>\n",
       "      <td>0.197640</td>\n",
       "      <td>0.385768</td>\n",
       "      <td>0.244828</td>\n",
       "      <td>0.304136</td>\n",
       "      <td>0.385768</td>\n",
       "      <td>0.244828</td>\n",
       "      <td>0.531915</td>\n",
       "      <td>0.345588</td>\n",
       "      <td>0.495495</td>\n",
       "      <td>0.169811</td>\n",
       "      <td>0.295455</td>\n",
       "    </tr>\n",
       "    <tr>\n",
       "      <th>1</th>\n",
       "      <td>1</td>\n",
       "      <td>1</td>\n",
       "      <td>female</td>\n",
       "      <td>38.0</td>\n",
       "      <td>1</td>\n",
       "      <td>0</td>\n",
       "      <td>71.2833</td>\n",
       "      <td>C</td>\n",
       "      <td>First</td>\n",
       "      <td>C</td>\n",
       "      <td>Cherbourg</td>\n",
       "      <td>False</td>\n",
       "      <td>2</td>\n",
       "      <td>train</td>\n",
       "      <td>43.3 - 79.5</td>\n",
       "      <td>36.0 - 41.0</td>\n",
       "      <td>female</td>\n",
       "      <td>Other</td>\n",
       "      <td>First</td>\n",
       "      <td>Other</td>\n",
       "      <td>Other</td>\n",
       "      <td>1</td>\n",
       "      <td>1</td>\n",
       "      <td>0</td>\n",
       "      <td>False</td>\n",
       "      <td>0.714286</td>\n",
       "      <td>0.385768</td>\n",
       "      <td>0.625000</td>\n",
       "      <td>0.592593</td>\n",
       "      <td>0.385768</td>\n",
       "      <td>0.625000</td>\n",
       "      <td>0.531915</td>\n",
       "      <td>0.345588</td>\n",
       "      <td>0.495495</td>\n",
       "      <td>0.547170</td>\n",
       "      <td>0.406250</td>\n",
       "    </tr>\n",
       "    <tr>\n",
       "      <th>2</th>\n",
       "      <td>1</td>\n",
       "      <td>3</td>\n",
       "      <td>female</td>\n",
       "      <td>26.0</td>\n",
       "      <td>0</td>\n",
       "      <td>0</td>\n",
       "      <td>7.9250</td>\n",
       "      <td>S</td>\n",
       "      <td>Third</td>\n",
       "      <td>NaN</td>\n",
       "      <td>Southampton</td>\n",
       "      <td>True</td>\n",
       "      <td>3</td>\n",
       "      <td>validation</td>\n",
       "      <td>7.9 - 8.1</td>\n",
       "      <td>25.0 - 28.0</td>\n",
       "      <td>female</td>\n",
       "      <td>Other</td>\n",
       "      <td>Third</td>\n",
       "      <td>Missing</td>\n",
       "      <td>Other</td>\n",
       "      <td>3</td>\n",
       "      <td>0</td>\n",
       "      <td>0</td>\n",
       "      <td>True</td>\n",
       "      <td>0.714286</td>\n",
       "      <td>0.385768</td>\n",
       "      <td>0.244828</td>\n",
       "      <td>0.304136</td>\n",
       "      <td>0.385768</td>\n",
       "      <td>0.244828</td>\n",
       "      <td>0.344729</td>\n",
       "      <td>0.345588</td>\n",
       "      <td>0.309904</td>\n",
       "      <td>0.228571</td>\n",
       "      <td>0.435897</td>\n",
       "    </tr>\n",
       "    <tr>\n",
       "      <th>3</th>\n",
       "      <td>1</td>\n",
       "      <td>1</td>\n",
       "      <td>female</td>\n",
       "      <td>35.0</td>\n",
       "      <td>1</td>\n",
       "      <td>0</td>\n",
       "      <td>53.1000</td>\n",
       "      <td>S</td>\n",
       "      <td>First</td>\n",
       "      <td>C</td>\n",
       "      <td>Southampton</td>\n",
       "      <td>False</td>\n",
       "      <td>4</td>\n",
       "      <td>train</td>\n",
       "      <td>43.3 - 79.5</td>\n",
       "      <td>32.0 - 36.0</td>\n",
       "      <td>female</td>\n",
       "      <td>Other</td>\n",
       "      <td>First</td>\n",
       "      <td>Other</td>\n",
       "      <td>Other</td>\n",
       "      <td>1</td>\n",
       "      <td>1</td>\n",
       "      <td>0</td>\n",
       "      <td>False</td>\n",
       "      <td>0.714286</td>\n",
       "      <td>0.385768</td>\n",
       "      <td>0.625000</td>\n",
       "      <td>0.592593</td>\n",
       "      <td>0.385768</td>\n",
       "      <td>0.625000</td>\n",
       "      <td>0.531915</td>\n",
       "      <td>0.345588</td>\n",
       "      <td>0.495495</td>\n",
       "      <td>0.547170</td>\n",
       "      <td>0.477273</td>\n",
       "    </tr>\n",
       "    <tr>\n",
       "      <th>4</th>\n",
       "      <td>0</td>\n",
       "      <td>3</td>\n",
       "      <td>male</td>\n",
       "      <td>35.0</td>\n",
       "      <td>0</td>\n",
       "      <td>0</td>\n",
       "      <td>8.0500</td>\n",
       "      <td>S</td>\n",
       "      <td>Third</td>\n",
       "      <td>NaN</td>\n",
       "      <td>Southampton</td>\n",
       "      <td>True</td>\n",
       "      <td>5</td>\n",
       "      <td>train</td>\n",
       "      <td>7.9 - 8.1</td>\n",
       "      <td>32.0 - 36.0</td>\n",
       "      <td>male</td>\n",
       "      <td>Other</td>\n",
       "      <td>Third</td>\n",
       "      <td>Missing</td>\n",
       "      <td>Other</td>\n",
       "      <td>3</td>\n",
       "      <td>0</td>\n",
       "      <td>0</td>\n",
       "      <td>True</td>\n",
       "      <td>0.197640</td>\n",
       "      <td>0.385768</td>\n",
       "      <td>0.244828</td>\n",
       "      <td>0.304136</td>\n",
       "      <td>0.385768</td>\n",
       "      <td>0.244828</td>\n",
       "      <td>0.344729</td>\n",
       "      <td>0.345588</td>\n",
       "      <td>0.309904</td>\n",
       "      <td>0.228571</td>\n",
       "      <td>0.477273</td>\n",
       "    </tr>\n",
       "  </tbody>\n",
       "</table>\n",
       "</div>"
      ],
      "text/plain": [
       "   survived  pclass     sex   age  sibsp  parch     fare embarked  class deck  \\\n",
       "0         0       3    male  22.0      1      0   7.2500        S  Third  NaN   \n",
       "1         1       1  female  38.0      1      0  71.2833        C  First    C   \n",
       "2         1       3  female  26.0      0      0   7.9250        S  Third  NaN   \n",
       "3         1       1  female  35.0      1      0  53.1000        S  First    C   \n",
       "4         0       3    male  35.0      0      0   8.0500        S  Third  NaN   \n",
       "\n",
       "   embark_town  alone  id       split     fare_bin      age_bin sex_processed  \\\n",
       "0  Southampton  False   1       train    0.0 - 7.7  19.0 - 22.0          male   \n",
       "1    Cherbourg  False   2       train  43.3 - 79.5  36.0 - 41.0        female   \n",
       "2  Southampton   True   3  validation    7.9 - 8.1  25.0 - 28.0        female   \n",
       "3  Southampton  False   4       train  43.3 - 79.5  32.0 - 36.0        female   \n",
       "4  Southampton   True   5       train    7.9 - 8.1  32.0 - 36.0          male   \n",
       "\n",
       "  embarked_processed class_processed deck_processed embark_town_processed  \\\n",
       "0              Other           Third        Missing                 Other   \n",
       "1              Other           First          Other                 Other   \n",
       "2              Other           Third        Missing                 Other   \n",
       "3              Other           First          Other                 Other   \n",
       "4              Other           Third        Missing                 Other   \n",
       "\n",
       "  pclass_processed  sibsp_processed  parch_processed alone_processed  \\\n",
       "0                3                1                0           False   \n",
       "1                1                1                0           False   \n",
       "2                3                0                0            True   \n",
       "3                1                1                0           False   \n",
       "4                3                0                0            True   \n",
       "\n",
       "    sex_enc  embarked_enc  class_enc  deck_enc  embark_town_enc  pclass_enc  \\\n",
       "0  0.197640      0.385768   0.244828  0.304136         0.385768    0.244828   \n",
       "1  0.714286      0.385768   0.625000  0.592593         0.385768    0.625000   \n",
       "2  0.714286      0.385768   0.244828  0.304136         0.385768    0.244828   \n",
       "3  0.714286      0.385768   0.625000  0.592593         0.385768    0.625000   \n",
       "4  0.197640      0.385768   0.244828  0.304136         0.385768    0.244828   \n",
       "\n",
       "   sibsp_enc  parch_enc  alone_enc  fare_enc   age_enc  \n",
       "0   0.531915   0.345588   0.495495  0.169811  0.295455  \n",
       "1   0.531915   0.345588   0.495495  0.547170  0.406250  \n",
       "2   0.344729   0.345588   0.309904  0.228571  0.435897  \n",
       "3   0.531915   0.345588   0.495495  0.547170  0.477273  \n",
       "4   0.344729   0.345588   0.309904  0.228571  0.477273  "
      ]
     },
     "execution_count": 16,
     "metadata": {},
     "output_type": "execute_result"
    }
   ],
   "source": [
    "basetable = preprocessor.transform(basetable,\n",
    "                                   continuous_vars=continuous_vars,\n",
    "                                   discrete_vars=discrete_vars)\n",
    "basetable.head()"
   ]
  },
  {
   "cell_type": "markdown",
   "metadata": {},
   "source": [
    "## Feature selection"
   ]
  },
  {
   "cell_type": "markdown",
   "metadata": {},
   "source": [
    "Once the predictors are properly prepared, we can start building a predictive model, which boils down to selecting the right predictors from the dataset to train a model on.\n",
    "As a dataset typically contains many predictors, **we first perform a univariate preselection** to rule out any predictor with little to no predictive power. Later, using the list of preselected features, we build a logistic regression model using **forward feature selection** to choose the right set of predictors."
   ]
  },
  {
   "cell_type": "markdown",
   "metadata": {},
   "source": [
    "In previous steps, these were the predictors, as preprocessed so far:"
   ]
  },
  {
   "cell_type": "code",
   "execution_count": 17,
   "metadata": {},
   "outputs": [
    {
     "data": {
      "text/plain": [
       "['age_bin',\n",
       " 'alone_processed',\n",
       " 'class_processed',\n",
       " 'deck_processed',\n",
       " 'embark_town_processed',\n",
       " 'embarked_processed',\n",
       " 'fare_bin',\n",
       " 'parch_processed',\n",
       " 'pclass_processed',\n",
       " 'sex_processed',\n",
       " 'sibsp_processed']"
      ]
     },
     "execution_count": 17,
     "metadata": {},
     "output_type": "execute_result"
    }
   ],
   "source": [
    "preprocessed_predictors = [\n",
    "    col for col in basetable.columns\n",
    "    if col.endswith(\"_bin\") or col.endswith(\"_processed\")]\n",
    "sorted(preprocessed_predictors)"
   ]
  },
  {
   "cell_type": "markdown",
   "metadata": {},
   "source": [
    "But for feature selection, we use the target encoded version of each of these."
   ]
  },
  {
   "cell_type": "code",
   "execution_count": 18,
   "metadata": {},
   "outputs": [],
   "source": [
    "preprocessed_predictors = [col for col in basetable.columns.tolist()\n",
    "                           if '_enc' in col]"
   ]
  },
  {
   "cell_type": "markdown",
   "metadata": {},
   "source": [
    "A univariate selection on the preprocessed predictors can be conducted. The thresholds for retaining a feature are now on default but can be changed by the user.\n"
   ]
  },
  {
   "cell_type": "code",
   "execution_count": 19,
   "metadata": {},
   "outputs": [
    {
     "data": {
      "image/png": "[encoded data removed]",
      "text/plain": [
       "<Figure size 864x576 with 1 Axes>"
      ]
     },
     "metadata": {},
     "output_type": "display_data"
    }
   ],
   "source": [
    "from cobra.model_building import univariate_selection\n",
    "\n",
    "df_auc = univariate_selection.compute_univariate_preselection(\n",
    "    target_enc_train_data=basetable[basetable[\"split\"] == \"train\"],\n",
    "    target_enc_selection_data=basetable[basetable[\"split\"] == \"selection\"],\n",
    "    predictors=preprocessed_predictors,\n",
    "    target_column=target_col,\n",
    "    preselect_auc_threshold=0.53,  # if auc_selection <= 0.53 exclude predictor\n",
    "    preselect_overtrain_threshold=0.05  # if (auc_train - auc_selection) >= 0.05 --> overfitting!\n",
    "    )\n",
    "from cobra.evaluation import plot_univariate_predictor_quality\n",
    "plot_univariate_predictor_quality(df_auc)"
   ]
  },
  {
   "cell_type": "markdown",
   "metadata": {},
   "source": [
    "Next, we compute correlations between the preprocessed predictors and plot it using a correlation matrix:\n"
   ]
  },
  {
   "cell_type": "code",
   "execution_count": 20,
   "metadata": {},
   "outputs": [
    {
     "data": {
      "image/png": "[encoded data removed]",
      "text/plain": [
       "<Figure size 864x576 with 2 Axes>"
      ]
     },
     "metadata": {
      "needs_background": "light"
     },
     "output_type": "display_data"
    }
   ],
   "source": [
    "from cobra.evaluation import plot_correlation_matrix\n",
    "df_corr = (univariate_selection\n",
    "           .compute_correlations(basetable[basetable[\"split\"] == \"train\"],\n",
    "                                 preprocessed_predictors))\n",
    "plot_correlation_matrix(df_corr)"
   ]
  },
  {
   "cell_type": "markdown",
   "metadata": {},
   "source": [
    "To get a list of the selected predictors after the univariate selection, run the following call:\n"
   ]
  },
  {
   "cell_type": "code",
   "execution_count": 21,
   "metadata": {},
   "outputs": [
    {
     "data": {
      "text/plain": [
       "['sex_enc',\n",
       " 'class_enc',\n",
       " 'pclass_enc',\n",
       " 'fare_enc',\n",
       " 'deck_enc',\n",
       " 'alone_enc',\n",
       " 'sibsp_enc',\n",
       " 'parch_enc']"
      ]
     },
     "execution_count": 21,
     "metadata": {},
     "output_type": "execute_result"
    }
   ],
   "source": [
    "preselected_predictors = (univariate_selection\n",
    "                          .get_preselected_predictors(df_auc))\n",
    "preselected_predictors"
   ]
  },
  {
   "cell_type": "markdown",
   "metadata": {},
   "source": [
    "After an initial preselection on the predictors, we can start building the model itself using forward feature selection to choose the right set of predictors. Since we use target encoding on all our predictors, we will only consider models with positive coefficients (no sign flip should occur) as this makes the model more interpretable."
   ]
  },
  {
   "cell_type": "markdown",
   "metadata": {},
   "source": [
    "## Modeling"
   ]
  },
  {
   "cell_type": "code",
   "execution_count": 22,
   "metadata": {},
   "outputs": [
    {
     "data": {
      "application/vnd.jupyter.widget-view+json": {
       "model_id": "5dce68626a7644878ecb2b8932df022c",
       "version_major": 2,
       "version_minor": 0
      },
      "text/plain": [
       "Sequentially adding best predictor...:   0%|          | 0/8 [00:00<?, ?it/s]"
      ]
     },
     "metadata": {},
     "output_type": "display_data"
    },
    {
     "data": {
      "text/html": [
       "<div>\n",
       "<style scoped>\n",
       "    .dataframe tbody tr th:only-of-type {\n",
       "        vertical-align: middle;\n",
       "    }\n",
       "\n",
       "    .dataframe tbody tr th {\n",
       "        vertical-align: top;\n",
       "    }\n",
       "\n",
       "    .dataframe thead th {\n",
       "        text-align: right;\n",
       "    }\n",
       "</style>\n",
       "<table border=\"1\" class=\"dataframe\">\n",
       "  <thead>\n",
       "    <tr style=\"text-align: right;\">\n",
       "      <th></th>\n",
       "      <th>predictors</th>\n",
       "      <th>last_added_predictor</th>\n",
       "      <th>train_performance</th>\n",
       "      <th>selection_performance</th>\n",
       "      <th>validation_performance</th>\n",
       "      <th>model_type</th>\n",
       "    </tr>\n",
       "  </thead>\n",
       "  <tbody>\n",
       "    <tr>\n",
       "      <th>0</th>\n",
       "      <td>[sex_enc]</td>\n",
       "      <td>sex_enc</td>\n",
       "      <td>0.752798</td>\n",
       "      <td>0.767690</td>\n",
       "      <td>0.808082</td>\n",
       "      <td>classification</td>\n",
       "    </tr>\n",
       "    <tr>\n",
       "      <th>1</th>\n",
       "      <td>[sex_enc, class_enc]</td>\n",
       "      <td>class_enc</td>\n",
       "      <td>0.823723</td>\n",
       "      <td>0.836556</td>\n",
       "      <td>0.854340</td>\n",
       "      <td>classification</td>\n",
       "    </tr>\n",
       "    <tr>\n",
       "      <th>2</th>\n",
       "      <td>[sex_enc, class_enc, sibsp_enc]</td>\n",
       "      <td>sibsp_enc</td>\n",
       "      <td>0.835182</td>\n",
       "      <td>0.840549</td>\n",
       "      <td>0.870387</td>\n",
       "      <td>classification</td>\n",
       "    </tr>\n",
       "    <tr>\n",
       "      <th>3</th>\n",
       "      <td>[class_enc, sex_enc, sibsp_enc, parch_enc]</td>\n",
       "      <td>parch_enc</td>\n",
       "      <td>0.837988</td>\n",
       "      <td>0.838798</td>\n",
       "      <td>0.878183</td>\n",
       "      <td>classification</td>\n",
       "    </tr>\n",
       "    <tr>\n",
       "      <th>4</th>\n",
       "      <td>[parch_enc, class_enc, sex_enc, sibsp_enc, dec...</td>\n",
       "      <td>deck_enc</td>\n",
       "      <td>0.838775</td>\n",
       "      <td>0.846154</td>\n",
       "      <td>0.878638</td>\n",
       "      <td>classification</td>\n",
       "    </tr>\n",
       "    <tr>\n",
       "      <th>5</th>\n",
       "      <td>[parch_enc, deck_enc, class_enc, sex_enc, sibs...</td>\n",
       "      <td>pclass_enc</td>\n",
       "      <td>0.838775</td>\n",
       "      <td>0.846154</td>\n",
       "      <td>0.878638</td>\n",
       "      <td>classification</td>\n",
       "    </tr>\n",
       "  </tbody>\n",
       "</table>\n",
       "</div>"
      ],
      "text/plain": [
       "                                          predictors last_added_predictor  \\\n",
       "0                                          [sex_enc]              sex_enc   \n",
       "1                               [sex_enc, class_enc]            class_enc   \n",
       "2                    [sex_enc, class_enc, sibsp_enc]            sibsp_enc   \n",
       "3         [class_enc, sex_enc, sibsp_enc, parch_enc]            parch_enc   \n",
       "4  [parch_enc, class_enc, sex_enc, sibsp_enc, dec...             deck_enc   \n",
       "5  [parch_enc, deck_enc, class_enc, sex_enc, sibs...           pclass_enc   \n",
       "\n",
       "   train_performance  selection_performance  validation_performance  \\\n",
       "0           0.752798               0.767690                0.808082   \n",
       "1           0.823723               0.836556                0.854340   \n",
       "2           0.835182               0.840549                0.870387   \n",
       "3           0.837988               0.838798                0.878183   \n",
       "4           0.838775               0.846154                0.878638   \n",
       "5           0.838775               0.846154                0.878638   \n",
       "\n",
       "       model_type  \n",
       "0  classification  \n",
       "1  classification  \n",
       "2  classification  \n",
       "3  classification  \n",
       "4  classification  \n",
       "5  classification  "
      ]
     },
     "execution_count": 22,
     "metadata": {},
     "output_type": "execute_result"
    }
   ],
   "source": [
    "from cobra.model_building import ForwardFeatureSelection\n",
    "\n",
    "forward_selection = ForwardFeatureSelection(model_type=\"classification\",\n",
    "                                            max_predictors=30,\n",
    "                                            pos_only=True)\n",
    "\n",
    "# fit the forward feature selection on the train data\n",
    "# has optional parameters to force and/or exclude certain predictors (see docs)\n",
    "forward_selection.fit(basetable[basetable[\"split\"] == \"train\"],\n",
    "                      target_column_name = target_col,\n",
    "                      predictors = preselected_predictors)\n",
    "                      #forced_predictors: list = [],\n",
    "                      #excluded_predictors: list = [])\n",
    "\n",
    "# compute model performance\n",
    "performances = (forward_selection\n",
    "                .compute_model_performances(basetable, target_column_name = target_col))\n",
    "performances"
   ]
  },
  {
   "cell_type": "markdown",
   "metadata": {},
   "source": [
    "As can be seen, we have completed 4 steps till no further improvement can be observed"
   ]
  },
  {
   "cell_type": "code",
   "execution_count": 23,
   "metadata": {},
   "outputs": [
    {
     "data": {
      "image/png": "[encoded data removed]",
      "text/plain": [
       "<Figure size 864x576 with 1 Axes>"
      ]
     },
     "metadata": {},
     "output_type": "display_data"
    }
   ],
   "source": [
    "from cobra.evaluation import plot_performance_curves\n",
    "\n",
    "# plot performance curves\n",
    "plot_performance_curves(performances)"
   ]
  },
  {
   "cell_type": "markdown",
   "metadata": {},
   "source": [
    "Based on the performance curves (AUC per model with a particular number of predictors in case of logistic regression), a final model can then be chosen and the variables importance can be plotted:\n"
   ]
  },
  {
   "cell_type": "code",
   "execution_count": 24,
   "metadata": {},
   "outputs": [
    {
     "name": "stdout",
     "output_type": "stream",
     "text": [
      "['parch_enc', 'deck_enc', 'class_enc', 'sex_enc', 'sibsp_enc', 'pclass_enc']\n"
     ]
    },
    {
     "data": {
      "image/png": "[encoded data removed]",
      "text/plain": [
       "<Figure size 864x576 with 1 Axes>"
      ]
     },
     "metadata": {},
     "output_type": "display_data"
    }
   ],
   "source": [
    "# look at the number of steps that were completed before stopping, fill that in between the brackets\n",
    "model = forward_selection.get_model_from_step(5)\n",
    "\n",
    "# Note that chosen model the following variables:\n",
    "final_predictors = model.predictors\n",
    "print(final_predictors)\n",
    "from cobra.evaluation import plot_variable_importance\n",
    "\n",
    "variable_importance = model.compute_variable_importance(\n",
    "    basetable[basetable[\"split\"] == \"selection\"]\n",
    ")\n",
    "plot_variable_importance(variable_importance)"
   ]
  },
  {
   "cell_type": "markdown",
   "metadata": {},
   "source": [
    "**Note**: variable importance is based on correlation of the predictor with the model scores (and not the true labels!)."
   ]
  },
  {
   "cell_type": "markdown",
   "metadata": {},
   "source": [
    "\n",
    "\n",
    "Finally, we can again export the model to a dictionary to store it as JSON"
   ]
  },
  {
   "cell_type": "code",
   "execution_count": null,
   "metadata": {},
   "outputs": [],
   "source": [
    "model_dict = model.serialize()\n",
    "\n",
    "model_path = os.path.join(\"output\", \"model.json\")\n",
    "with open(model_path, \"w\") as file:\n",
    "    json.dump(model_dict, file)\n",
    "\n",
    "# To reload the model again from a JSON file, run the following snippet:\n",
    "# from cobra.model_building import LinearRegressionModel\n",
    "# with open(model_path, \"r\") as file:\n",
    "#     model_dict = json.load(file)\n",
    "# model = LinearRegressionModel()\n",
    "# model.deserialize(model_dict)"
   ]
  },
  {
   "cell_type": "markdown",
   "metadata": {},
   "source": [
    "## Evaluation"
   ]
  },
  {
   "cell_type": "markdown",
   "metadata": {},
   "source": [
    "Now that we have build and selected a final model, it is time to evaluate its predictions on the test set against various evaluation metrics. The used evaluation metrics are:\n",
    "1. Accuracy\n",
    "2. AUC: Area Under Curve\n",
    "3. Precision\n",
    "4. Recall\n",
    "5. F1\n",
    "6. Matthews Correlation Coefficient\n",
    "7. Lift\n",
    "\n",
    "Furthermore, we can evaluate the classification performance using a confusion matrix.\n",
    "\n",
    "\n",
    "Also plotting makes the evaluation of a logistic regression model a lot easier. We will first use a **Receiver Operating Characteristic (ROC) curve**, which is a plot of the false positive rate (x-axis) versus the true positive rate (y-axis). Next, the **Cumulative Gains curve**, **Cumulative Lift curve** and **Cumulative Response curve** can be called."
   ]
  },
  {
   "cell_type": "code",
   "execution_count": 25,
   "metadata": {},
   "outputs": [],
   "source": [
    "from cobra.evaluation import ClassificationEvaluator\n",
    "\n",
    "# get numpy array of True target labels and predicted scores:\n",
    "y_true = basetable[basetable[\"split\"] == \"selection\"][target_col].values\n",
    "y_pred = model.score_model(basetable[basetable[\"split\"] == \"selection\"])"
   ]
  },
  {
   "cell_type": "code",
   "execution_count": 26,
   "metadata": {},
   "outputs": [],
   "source": [
    "evaluator = ClassificationEvaluator()\n",
    "evaluator.fit(y_true, y_pred)  # Automatically find the best cut-off probability"
   ]
  },
  {
   "cell_type": "code",
   "execution_count": 27,
   "metadata": {},
   "outputs": [
    {
     "data": {
      "text/plain": [
       "accuracy             0.792135\n",
       "AUC                  0.846154\n",
       "precision            0.687500\n",
       "recall               0.721311\n",
       "F1                   0.704000\n",
       "matthews_corrcoef    0.544341\n",
       "lift at 0.05         2.920000\n",
       "dtype: float64"
      ]
     },
     "execution_count": 27,
     "metadata": {},
     "output_type": "execute_result"
    }
   ],
   "source": [
    "evaluator.scalar_metrics"
   ]
  },
  {
   "cell_type": "code",
   "execution_count": 28,
   "metadata": {},
   "outputs": [
    {
     "data": {
      "image/png": "[encoded data removed]",
      "text/plain": [
       "<Figure size 864x576 with 2 Axes>"
      ]
     },
     "metadata": {
      "needs_background": "light"
     },
     "output_type": "display_data"
    }
   ],
   "source": [
    "evaluator.plot_confusion_matrix()"
   ]
  },
  {
   "cell_type": "code",
   "execution_count": 29,
   "metadata": {},
   "outputs": [
    {
     "data": {
      "image/png": "[encoded data removed]",
      "text/plain": [
       "<Figure size 864x576 with 1 Axes>"
      ]
     },
     "metadata": {},
     "output_type": "display_data"
    }
   ],
   "source": [
    "evaluator.plot_roc_curve()"
   ]
  },
  {
   "cell_type": "code",
   "execution_count": 30,
   "metadata": {},
   "outputs": [
    {
     "name": "stderr",
     "output_type": "stream",
     "text": [
      "C:\\Users\\hendrik.dewinter\\PycharmProjects\\cobra\\cobra\\evaluation\\evaluator.py:351: UserWarning: FixedFormatter should only be used together with FixedLocator\n",
      "  ax.set_yticklabels([\"{:3.0f}%\".format(x)\n",
      "C:\\Users\\hendrik.dewinter\\PycharmProjects\\cobra\\cobra\\evaluation\\evaluator.py:353: UserWarning: FixedFormatter should only be used together with FixedLocator\n",
      "  ax.set_xticklabels([\"{:3.0f}%\".format(x)\n"
     ]
    },
    {
     "data": {
      "image/png": "[encoded data removed]",
      "text/plain": [
       "<Figure size 864x576 with 1 Axes>"
      ]
     },
     "metadata": {},
     "output_type": "display_data"
    }
   ],
   "source": [
    "evaluator.plot_cumulative_gains()"
   ]
  },
  {
   "cell_type": "code",
   "execution_count": 31,
   "metadata": {},
   "outputs": [
    {
     "data": {
      "image/png": "[encoded data removed]",
      "text/plain": [
       "<Figure size 864x576 with 1 Axes>"
      ]
     },
     "metadata": {},
     "output_type": "display_data"
    }
   ],
   "source": [
    "evaluator.plot_lift_curve()"
   ]
  },
  {
   "cell_type": "code",
   "execution_count": 32,
   "metadata": {},
   "outputs": [
    {
     "data": {
      "image/png": "[encoded data removed]",
      "text/plain": [
       "<Figure size 864x576 with 1 Axes>"
      ]
     },
     "metadata": {},
     "output_type": "display_data"
    }
   ],
   "source": [
    "evaluator.plot_cumulative_response_curve()"
   ]
  },
  {
   "cell_type": "markdown",
   "metadata": {},
   "source": [
    "Additionally, we can also compute the output needed to plot the so-called Predictor Insights Graphs (PIGs in short). These are graphs that represents the insights of the relationship between a single predictor and the target. This is a graph where the predictor is binned into groups, and where we represent group size in bars and group (target) incidence in a colored line. We have the option to force order of predictor values."
   ]
  },
  {
   "cell_type": "code",
   "execution_count": 33,
   "metadata": {},
   "outputs": [
    {
     "data": {
      "text/html": [
       "<div>\n",
       "<style scoped>\n",
       "    .dataframe tbody tr th:only-of-type {\n",
       "        vertical-align: middle;\n",
       "    }\n",
       "\n",
       "    .dataframe tbody tr th {\n",
       "        vertical-align: top;\n",
       "    }\n",
       "\n",
       "    .dataframe thead th {\n",
       "        text-align: right;\n",
       "    }\n",
       "</style>\n",
       "<table border=\"1\" class=\"dataframe\">\n",
       "  <thead>\n",
       "    <tr style=\"text-align: right;\">\n",
       "      <th></th>\n",
       "      <th>variable</th>\n",
       "      <th>label</th>\n",
       "      <th>pop_size</th>\n",
       "      <th>global_avg_target</th>\n",
       "      <th>avg_target</th>\n",
       "    </tr>\n",
       "  </thead>\n",
       "  <tbody>\n",
       "    <tr>\n",
       "      <th>0</th>\n",
       "      <td>age</td>\n",
       "      <td>1.0 - 14.0</td>\n",
       "      <td>0.067416</td>\n",
       "      <td>0.342697</td>\n",
       "      <td>0.250000</td>\n",
       "    </tr>\n",
       "    <tr>\n",
       "      <th>1</th>\n",
       "      <td>age</td>\n",
       "      <td>14.0 - 19.0</td>\n",
       "      <td>0.089888</td>\n",
       "      <td>0.342697</td>\n",
       "      <td>0.562500</td>\n",
       "    </tr>\n",
       "    <tr>\n",
       "      <th>2</th>\n",
       "      <td>age</td>\n",
       "      <td>19.0 - 22.0</td>\n",
       "      <td>0.061798</td>\n",
       "      <td>0.342697</td>\n",
       "      <td>0.272727</td>\n",
       "    </tr>\n",
       "    <tr>\n",
       "      <th>3</th>\n",
       "      <td>age</td>\n",
       "      <td>22.0 - 25.0</td>\n",
       "      <td>0.078652</td>\n",
       "      <td>0.342697</td>\n",
       "      <td>0.214286</td>\n",
       "    </tr>\n",
       "    <tr>\n",
       "      <th>4</th>\n",
       "      <td>age</td>\n",
       "      <td>25.0 - 28.0</td>\n",
       "      <td>0.056180</td>\n",
       "      <td>0.342697</td>\n",
       "      <td>0.300000</td>\n",
       "    </tr>\n",
       "    <tr>\n",
       "      <th>...</th>\n",
       "      <td>...</td>\n",
       "      <td>...</td>\n",
       "      <td>...</td>\n",
       "      <td>...</td>\n",
       "      <td>...</td>\n",
       "    </tr>\n",
       "    <tr>\n",
       "      <th>2</th>\n",
       "      <td>sibsp</td>\n",
       "      <td>2</td>\n",
       "      <td>0.033708</td>\n",
       "      <td>0.342697</td>\n",
       "      <td>0.166667</td>\n",
       "    </tr>\n",
       "    <tr>\n",
       "      <th>3</th>\n",
       "      <td>sibsp</td>\n",
       "      <td>3</td>\n",
       "      <td>0.028090</td>\n",
       "      <td>0.342697</td>\n",
       "      <td>0.400000</td>\n",
       "    </tr>\n",
       "    <tr>\n",
       "      <th>4</th>\n",
       "      <td>sibsp</td>\n",
       "      <td>4</td>\n",
       "      <td>0.022472</td>\n",
       "      <td>0.342697</td>\n",
       "      <td>0.000000</td>\n",
       "    </tr>\n",
       "    <tr>\n",
       "      <th>5</th>\n",
       "      <td>sibsp</td>\n",
       "      <td>5</td>\n",
       "      <td>0.005618</td>\n",
       "      <td>0.342697</td>\n",
       "      <td>0.000000</td>\n",
       "    </tr>\n",
       "    <tr>\n",
       "      <th>6</th>\n",
       "      <td>sibsp</td>\n",
       "      <td>8</td>\n",
       "      <td>0.011236</td>\n",
       "      <td>0.342697</td>\n",
       "      <td>0.000000</td>\n",
       "    </tr>\n",
       "  </tbody>\n",
       "</table>\n",
       "<p>51 rows × 5 columns</p>\n",
       "</div>"
      ],
      "text/plain": [
       "   variable        label  pop_size  global_avg_target  avg_target\n",
       "0       age   1.0 - 14.0  0.067416           0.342697    0.250000\n",
       "1       age  14.0 - 19.0  0.089888           0.342697    0.562500\n",
       "2       age  19.0 - 22.0  0.061798           0.342697    0.272727\n",
       "3       age  22.0 - 25.0  0.078652           0.342697    0.214286\n",
       "4       age  25.0 - 28.0  0.056180           0.342697    0.300000\n",
       "..      ...          ...       ...                ...         ...\n",
       "2     sibsp            2  0.033708           0.342697    0.166667\n",
       "3     sibsp            3  0.028090           0.342697    0.400000\n",
       "4     sibsp            4  0.022472           0.342697    0.000000\n",
       "5     sibsp            5  0.005618           0.342697    0.000000\n",
       "6     sibsp            8  0.011236           0.342697    0.000000\n",
       "\n",
       "[51 rows x 5 columns]"
      ]
     },
     "execution_count": 33,
     "metadata": {},
     "output_type": "execute_result"
    }
   ],
   "source": [
    "from cobra.evaluation import generate_pig_tables\n",
    "predictor_list = [col for col in basetable.columns\n",
    "                  if col.endswith(\"_bin\") or col.endswith(\"_processed\")]\n",
    "pig_tables = generate_pig_tables(basetable[basetable[\"split\"] == \"selection\"],\n",
    "                                 id_column_name=id_col,\n",
    "                                 target_column_name=target_col,\n",
    "                                 preprocessed_predictors=predictor_list)\n",
    "pig_tables"
   ]
  },
  {
   "cell_type": "code",
   "execution_count": null,
   "metadata": {},
   "outputs": [],
   "source": [
    "from cobra.evaluation import plot_incidence\n",
    "for predictor in list(pig_tables.variable.unique()):\n",
    "    print(predictor)\n",
    "    try:\n",
    "        if predictor + \"_bin\" in basetable.columns:\n",
    "            column_order = list(basetable[predictor + \"_bin\"].unique().sort_values())\n",
    "        else:\n",
    "            column_order = None #sorted(list(basetable[predictor].unique())) # e.g. just binary variable\n",
    "        plot_incidence(pig_tables,\n",
    "                       variable=predictor,\n",
    "                       model_type=\"classification\",\n",
    "                       column_order=column_order)\n",
    "    except ValueError as ve:\n",
    "        print(f\"Can't plot PIG for {predictor}. Error was: {ve}\")\n",
    "    except TypeError as ve:\n",
    "        print(f\"Can't plot PIG for {predictor}. Error was: {ve}\")"
   ]
  }
 ],
 "metadata": {
  "kernelspec": {
   "display_name": "Python 3",
   "language": "python",
   "name": "python3"
  },
  "language_info": {
   "codemirror_mode": {
    "name": "ipython",
    "version": 3
   },
   "file_extension": ".py",
   "mimetype": "text/x-python",
   "name": "python",
   "nbconvert_exporter": "python",
   "pygments_lexer": "ipython3",
   "version": "3.8.8"
  }
 },
 "nbformat": 4,
 "nbformat_minor": 4
}
