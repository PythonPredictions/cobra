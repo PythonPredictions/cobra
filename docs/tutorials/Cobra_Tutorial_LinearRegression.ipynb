{
 "cells": [
  {
   "cell_type": "markdown",
   "metadata": {},
   "source": [
    "# Tutorial for Linear Regression"
   ]
  },
  {
   "cell_type": "markdown",
   "metadata": {},
   "source": [
    "Cobra requires the usual Python packages for data science:\n",
    "- numpy (>=1.19.4)\n",
    "- pandas (>=1.1.5)\n",
    "- scipy (>=1.5.4)\n",
    "- scikit-learn (>=0.23.1)\n",
    "- matplotlib (>=3.3.3)\n",
    "- seaborn (>=0.11.0)\n",
    "\n",
    "These packages, along with their versions are listed in requirements.txt and can be installed using pip.\n",
    "\n",
    "\n",
    "Note: if you want to install cobra with e.g. pip, you don't have to install all of these requirements as these are automatically installed with cobra itself."
   ]
  },
  {
   "cell_type": "code",
   "execution_count": null,
   "metadata": {},
   "outputs": [],
   "source": [
    "pip install -r requirements.txt"
   ]
  },
  {
   "cell_type": "markdown",
   "metadata": {},
   "source": [
    "The easiest way to install cobra is using pip:"
   ]
  },
  {
   "cell_type": "code",
   "execution_count": null,
   "metadata": {},
   "outputs": [],
   "source": [
    "pip install -U pythonpredictions-cobra"
   ]
  },
  {
   "cell_type": "markdown",
   "metadata": {},
   "source": [
    "*****"
   ]
  },
  {
   "cell_type": "markdown",
   "metadata": {},
   "source": [
    "This section we will walk you through all the required steps to build a predictive linear regression model using **Cobra**. All classes and functions used here are well-documented. In case you want more information on a class or function, run the next cell:"
   ]
  },
  {
   "cell_type": "code",
   "execution_count": null,
   "metadata": {},
   "outputs": [],
   "source": [
    "help(function_or_class_you_want_info_from)"
   ]
  },
  {
   "cell_type": "markdown",
   "metadata": {},
   "source": [
    "Building a good model involves three steps\n",
    "\n",
    "1. **Preprocessing**: properly prepare the predictors (a synonym for “feature” or variable that we use throughout this tutorial) for modelling.\n",
    "\n",
    "2. **Feature Selection**: automatically select a subset of predictors which contribute most to the target variable or output in which you are interested.\n",
    "\n",
    "3. **Model Evaluation**: once a model has been build, a detailed evaluation can be performed by computing all sorts of evaluation metrics.\n",
    "\n",
    "\n",
    "\n",
    "Let's dive in!!!\n",
    "***"
   ]
  },
  {
   "cell_type": "markdown",
   "metadata": {},
   "source": [
    "## Miles Per Gallon Prediction\n",
    "- GOAL : Predict the distance, measured in miles, that a car can travel per gallon of fuel\n",
    "- BASETABLE : seaborn dataset MPG"
   ]
  },
  {
   "cell_type": "markdown",
   "metadata": {},
   "source": [
    "import the necessary libraries"
   ]
  },
  {
   "cell_type": "code",
   "execution_count": 2,
   "metadata": {},
   "outputs": [],
   "source": [
    "import json\n",
    "import pandas as pd\n",
    "import numpy as np\n",
    "\n",
    "from pandas.api.types import is_datetime64_any_dtype\n",
    "\n",
    "pd.set_option('display.max_columns', 50)\n",
    "pd.set_option(\"display.max_rows\", 50)\n",
    "from cobra.preprocessing import PreProcessor\n",
    "from cobra.evaluation import generate_pig_tables, plot_incidence\n",
    "from cobra.evaluation import evaluator"
   ]
  },
  {
   "cell_type": "code",
   "execution_count": 3,
   "metadata": {},
   "outputs": [
    {
     "data": {
      "text/html": [
       "<div>\n",
       "<style scoped>\n",
       "    .dataframe tbody tr th:only-of-type {\n",
       "        vertical-align: middle;\n",
       "    }\n",
       "\n",
       "    .dataframe tbody tr th {\n",
       "        vertical-align: top;\n",
       "    }\n",
       "\n",
       "    .dataframe thead th {\n",
       "        text-align: right;\n",
       "    }\n",
       "</style>\n",
       "<table border=\"1\" class=\"dataframe\">\n",
       "  <thead>\n",
       "    <tr style=\"text-align: right;\">\n",
       "      <th></th>\n",
       "      <th>mpg</th>\n",
       "      <th>cylinders</th>\n",
       "      <th>displacement</th>\n",
       "      <th>horsepower</th>\n",
       "      <th>weight</th>\n",
       "      <th>acceleration</th>\n",
       "      <th>model_year</th>\n",
       "      <th>origin</th>\n",
       "      <th>name</th>\n",
       "    </tr>\n",
       "  </thead>\n",
       "  <tbody>\n",
       "    <tr>\n",
       "      <th>0</th>\n",
       "      <td>18.0</td>\n",
       "      <td>8</td>\n",
       "      <td>307.0</td>\n",
       "      <td>130.0</td>\n",
       "      <td>3504</td>\n",
       "      <td>12.0</td>\n",
       "      <td>70</td>\n",
       "      <td>usa</td>\n",
       "      <td>chevrolet chevelle malibu</td>\n",
       "    </tr>\n",
       "    <tr>\n",
       "      <th>1</th>\n",
       "      <td>15.0</td>\n",
       "      <td>8</td>\n",
       "      <td>350.0</td>\n",
       "      <td>165.0</td>\n",
       "      <td>3693</td>\n",
       "      <td>11.5</td>\n",
       "      <td>70</td>\n",
       "      <td>usa</td>\n",
       "      <td>buick skylark 320</td>\n",
       "    </tr>\n",
       "    <tr>\n",
       "      <th>2</th>\n",
       "      <td>18.0</td>\n",
       "      <td>8</td>\n",
       "      <td>318.0</td>\n",
       "      <td>150.0</td>\n",
       "      <td>3436</td>\n",
       "      <td>11.0</td>\n",
       "      <td>70</td>\n",
       "      <td>usa</td>\n",
       "      <td>plymouth satellite</td>\n",
       "    </tr>\n",
       "    <tr>\n",
       "      <th>3</th>\n",
       "      <td>16.0</td>\n",
       "      <td>8</td>\n",
       "      <td>304.0</td>\n",
       "      <td>150.0</td>\n",
       "      <td>3433</td>\n",
       "      <td>12.0</td>\n",
       "      <td>70</td>\n",
       "      <td>usa</td>\n",
       "      <td>amc rebel sst</td>\n",
       "    </tr>\n",
       "    <tr>\n",
       "      <th>4</th>\n",
       "      <td>17.0</td>\n",
       "      <td>8</td>\n",
       "      <td>302.0</td>\n",
       "      <td>140.0</td>\n",
       "      <td>3449</td>\n",
       "      <td>10.5</td>\n",
       "      <td>70</td>\n",
       "      <td>usa</td>\n",
       "      <td>ford torino</td>\n",
       "    </tr>\n",
       "  </tbody>\n",
       "</table>\n",
       "</div>"
      ],
      "text/plain": [
       "    mpg  cylinders  displacement  horsepower  weight  acceleration  \\\n",
       "0  18.0          8         307.0       130.0    3504          12.0   \n",
       "1  15.0          8         350.0       165.0    3693          11.5   \n",
       "2  18.0          8         318.0       150.0    3436          11.0   \n",
       "3  16.0          8         304.0       150.0    3433          12.0   \n",
       "4  17.0          8         302.0       140.0    3449          10.5   \n",
       "\n",
       "   model_year origin                       name  \n",
       "0          70    usa  chevrolet chevelle malibu  \n",
       "1          70    usa          buick skylark 320  \n",
       "2          70    usa         plymouth satellite  \n",
       "3          70    usa              amc rebel sst  \n",
       "4          70    usa                ford torino  "
      ]
     },
     "execution_count": 3,
     "metadata": {},
     "output_type": "execute_result"
    }
   ],
   "source": [
    "import seaborn as sns\n",
    "df=sns.load_dataset('mpg')\n",
    "df.head()"
   ]
  },
  {
   "cell_type": "markdown",
   "metadata": {},
   "source": [
    "In the example below, we assume the data for model building is available in a pandas DataFrame. This DataFrame should contain a an ID column, a target column (e.g. “**mpg**”) and a number of candidate predictors (features) to build a model with.\n",
    "\n",
    "***\n"
   ]
  },
  {
   "cell_type": "code",
   "execution_count": 4,
   "metadata": {},
   "outputs": [
    {
     "data": {
      "text/plain": [
       "mpg             float64\n",
       "cylinders         int64\n",
       "displacement    float64\n",
       "horsepower      float64\n",
       "weight            int64\n",
       "acceleration    float64\n",
       "model_year        int64\n",
       "origin           object\n",
       "name             object\n",
       "dtype: object"
      ]
     },
     "execution_count": 4,
     "metadata": {},
     "output_type": "execute_result"
    }
   ],
   "source": [
    "df.dtypes"
   ]
  },
  {
   "cell_type": "markdown",
   "metadata": {},
   "source": [
    "it is required to set all category vars to object dtype\n"
   ]
  },
  {
   "cell_type": "code",
   "execution_count": 5,
   "metadata": {},
   "outputs": [],
   "source": [
    "df.loc[:, df.dtypes == 'category'] =\\\n",
    "    df.select_dtypes(['category'])\\\n",
    "    .apply(lambda x: x.astype('object'))"
   ]
  },
  {
   "cell_type": "markdown",
   "metadata": {},
   "source": [
    "## Data preprocessing"
   ]
  },
  {
   "cell_type": "markdown",
   "metadata": {},
   "source": [
    "#### The first part focusses on preparing the predictors for modelling by:\n",
    "\n",
    "1. Defining the ID column, the target, discrete and contineous variables\n",
    "\n",
    "2. Splitting the dataset into training, selection and validation datasets.\n",
    "\n",
    "3. Binning continuous variables into discrete intervals\n",
    "\n",
    "4. Replacing missing values of both categorical and continuous variables (which are now binned) with an additional “Missing” bin/category\n",
    "\n",
    "5. Regrouping categories in new category “other”\n",
    "\n",
    "6. Replacing bins/categories with their corresponding average of the target values\n",
    "\n",
    "*Disclaimer*: Cobra's Preprocesser is valid only if the original data does not contain extreme irregularities, such as outliers or very skewed distributions. This should always be checked beforehand by its user."
   ]
  },
  {
   "cell_type": "markdown",
   "metadata": {},
   "source": [
    "In this toy dataset, the index will serve as ID,"
   ]
  },
  {
   "cell_type": "code",
   "execution_count": 6,
   "metadata": {},
   "outputs": [],
   "source": [
    "df[\"id\"] = df.index + 1\n",
    "id_col = \"id\""
   ]
  },
  {
   "cell_type": "markdown",
   "metadata": {},
   "source": [
    "and MPG is the target,\n"
   ]
  },
  {
   "cell_type": "code",
   "execution_count": 7,
   "metadata": {},
   "outputs": [
    {
     "data": {
      "text/plain": [
       "count    398.000000\n",
       "mean      23.514573\n",
       "std        7.815984\n",
       "min        9.000000\n",
       "25%       17.500000\n",
       "50%       23.000000\n",
       "75%       29.000000\n",
       "max       46.600000\n",
       "Name: mpg, dtype: float64"
      ]
     },
     "execution_count": 7,
     "metadata": {},
     "output_type": "execute_result"
    }
   ],
   "source": [
    "target_col = \"mpg\"\n",
    "df[target_col].describe()"
   ]
  },
  {
   "cell_type": "markdown",
   "metadata": {},
   "source": [
    "Finding out which variables are categorical (\"discrete\") and which are continous:\n",
    "\n",
    "\n",
    " => discrete are definitely those that contain strings:"
   ]
  },
  {
   "cell_type": "code",
   "execution_count": 8,
   "metadata": {},
   "outputs": [
    {
     "name": "stdout",
     "output_type": "stream",
     "text": [
      "['origin', 'name']\n",
      "\n",
      "origin\n",
      "usa       249\n",
      "japan      79\n",
      "europe     70\n",
      "Name: origin, dtype: int64\n",
      "\n",
      "name\n",
      "ford pinto                           6\n",
      "toyota corolla                       5\n",
      "amc matador                          5\n",
      "ford maverick                        5\n",
      "peugeot 504                          4\n",
      "                                    ..\n",
      "oldsmobile cutlass ciera (diesel)    1\n",
      "datsun 810 maxima                    1\n",
      "plymouth cricket                     1\n",
      "datsun 280-zx                        1\n",
      "volkswagen rabbit l                  1\n",
      "Name: name, Length: 305, dtype: int64\n",
      "\n"
     ]
    }
   ],
   "source": [
    "col_dtypes = df.dtypes\n",
    "discrete_vars = [col for col in col_dtypes[col_dtypes==object].index.tolist() if col not in [id_col, target_col]] \n",
    "print(discrete_vars)\n",
    "print()\n",
    "for col in discrete_vars:\n",
    "    print(col)\n",
    "    print(df[col].value_counts())\n",
    "    print()"
   ]
  },
  {
   "cell_type": "markdown",
   "metadata": {},
   "source": [
    "Next, we also check for numerical columns that only contain a few different values, thus to be interpreted as discrete, categorical variables\n"
   ]
  },
  {
   "cell_type": "code",
   "execution_count": 9,
   "metadata": {},
   "outputs": [
    {
     "name": "stdout",
     "output_type": "stream",
     "text": [
      "cylinders\n",
      "4    204\n",
      "8    103\n",
      "6     84\n",
      "3      4\n",
      "5      3\n",
      "Name: cylinders, dtype: int64\n",
      "\n"
     ]
    }
   ],
   "source": [
    "for col in df.columns:\n",
    "    if col not in discrete_vars and col not in [id_col, target_col]: # if we didn't mark it as discrete already because it was string typed, or also excluding it if it is the target:\n",
    "        val_counts = df[col].value_counts()\n",
    "        if len(val_counts) > 1 and len(val_counts) <= 10: # The column contains less than 10 different values. \n",
    "            print(col)\n",
    "            print(val_counts)\n",
    "            print()"
   ]
  },
  {
   "cell_type": "markdown",
   "metadata": {},
   "source": [
    "By taking a look at the printed variables, it is clear that we have to include those in the list of discrete variables. This can be done as follows:"
   ]
  },
  {
   "cell_type": "code",
   "execution_count": 10,
   "metadata": {},
   "outputs": [
    {
     "data": {
      "text/plain": [
       "['origin', 'name', 'cylinders']"
      ]
     },
     "execution_count": 10,
     "metadata": {},
     "output_type": "execute_result"
    }
   ],
   "source": [
    "discrete_vars.extend([\"cylinders\"])\n",
    "discrete_vars"
   ]
  },
  {
   "cell_type": "markdown",
   "metadata": {},
   "source": [
    "The remaining variables can be labelled continous predictors, without including the target variable.\n"
   ]
  },
  {
   "cell_type": "code",
   "execution_count": 11,
   "metadata": {},
   "outputs": [],
   "source": [
    "continuous_vars = list(set(df.columns)\n",
    "                       - set(discrete_vars) \n",
    "                       - set([id_col, target_col]))\n",
    "                       "
   ]
  },
  {
   "cell_type": "markdown",
   "metadata": {},
   "source": [
    "Now, we can prepare **Cobra's Preprocessor**"
   ]
  },
  {
   "cell_type": "code",
   "execution_count": 12,
   "metadata": {},
   "outputs": [
    {
     "name": "stderr",
     "output_type": "stream",
     "text": [
      "The target encoder's additive smoothing weight is set to 0. This disables smoothing and may make the encoding prone to overfitting.\n"
     ]
    },
    {
     "name": "stdout",
     "output_type": "stream",
     "text": [
      "Help on method from_params in module cobra.preprocessing.preprocessor:\n",
      "\n",
      "from_params(model_type: str = 'classification', n_bins: int = 10, strategy: str = 'quantile', closed: str = 'right', auto_adapt_bins: bool = False, starting_precision: int = 0, label_format: str = '{} - {}', change_endpoint_format: bool = False, regroup: bool = True, regroup_name: str = 'Other', keep_missing: bool = True, category_size_threshold: int = 5, p_value_threshold: float = 0.001, scale_contingency_table: bool = True, forced_categories: dict = {}, weight: float = 0.0, imputation_strategy: str = 'mean') method of builtins.type instance\n",
      "    Constructor to instantiate PreProcessor from all the parameters\n",
      "    that can be set in all its required (attribute) classes\n",
      "    along with good default values.\n",
      "    \n",
      "    Parameters\n",
      "    ----------\n",
      "    model_type : str\n",
      "        Model type (``classification`` or ``regression``).\n",
      "    n_bins : int, optional\n",
      "        Number of bins to produce. Raises ValueError if ``n_bins < 2``.\n",
      "    strategy : str, optional\n",
      "        Binning strategy. Currently only ``uniform`` and ``quantile``\n",
      "        e.g. equifrequency is supported.\n",
      "    closed : str, optional\n",
      "        Whether to close the bins (intervals) from the left or right.\n",
      "    auto_adapt_bins : bool, optional\n",
      "        Reduces the number of bins (starting from n_bins) as a function of\n",
      "        the number of missings.\n",
      "    starting_precision : int, optional\n",
      "        Initial precision for the bin edges to start from,\n",
      "        can also be negative. Given a list of bin edges, the class will\n",
      "        automatically choose the minimal precision required to have proper\n",
      "        bins e.g. ``[5.5555, 5.5744, ...]`` will be rounded\n",
      "        to ``[5.56, 5.57, ...]``. In case of a negative number, an attempt\n",
      "        will be made to round up the numbers of the bin edges\n",
      "        e.g. ``5.55 -> 10``, ``146 -> 100``, ...\n",
      "    label_format : str, optional\n",
      "        Format string to display the bin labels\n",
      "        e.g. ``min - max``, ``(min, max]``, ...\n",
      "    change_endpoint_format : bool, optional\n",
      "        Whether or not to change the format of the lower and upper bins\n",
      "        into ``< x`` and ``> y`` resp.\n",
      "    regroup : bool\n",
      "        Whether or not to regroup categories.\n",
      "    regroup_name : str\n",
      "        New name of the non-significant regrouped variables.\n",
      "    keep_missing : bool\n",
      "        Whether or not to keep missing as a separate category.\n",
      "    category_size_threshold : int\n",
      "        All categories with a size (corrected for incidence if applicable)\n",
      "        in the training set above this threshold are kept as a separate category,\n",
      "        if statistical significance w.r.t. target is detected. Remaining\n",
      "        categories are converted into ``Other`` (or else, cf. regroup_name).\n",
      "    p_value_threshold : float\n",
      "        Significance threshold for regrouping.\n",
      "    forced_categories : dict\n",
      "        Map to prevent certain categories from being grouped into ``Other``\n",
      "        for each column - dict of the form ``{col:[forced vars]}``.\n",
      "    scale_contingency_table : bool\n",
      "        Whether contingency table should be scaled before chi^2.\n",
      "    weight : float, optional\n",
      "        Smoothing parameters (non-negative). The higher the value of the\n",
      "        parameter, the bigger the contribution of the overall mean.\n",
      "        When set to zero, there is no smoothing (e.g. the pure target incidence is used).\n",
      "    imputation_strategy : str, optional\n",
      "        In case there is a particular column which contains new categories,\n",
      "        the encoding will lead to NULL values which should be imputed.\n",
      "        Valid strategies are to replace with the global mean of the train\n",
      "        set or the min (resp. max) incidence of the categories of that\n",
      "        particular variable.\n",
      "    \n",
      "    Returns\n",
      "    -------\n",
      "    PreProcessor\n",
      "        class encapsulating CategoricalDataProcessor,\n",
      "        KBinsDiscretizer, and TargetEncoder instances\n",
      "\n"
     ]
    }
   ],
   "source": [
    "preprocessor = PreProcessor.from_params(\n",
    "    model_type=\"regression\"\n",
    ")\n",
    "\n",
    "# These are the options though:\n",
    "help(PreProcessor.from_params)"
   ]
  },
  {
   "cell_type": "markdown",
   "metadata": {},
   "source": [
    "split data into train-selection-validation set:\n"
   ]
  },
  {
   "cell_type": "code",
   "execution_count": 13,
   "metadata": {},
   "outputs": [],
   "source": [
    "from cobra.preprocessing import PreProcessor\n",
    "basetable = preprocessor.train_selection_validation_split(\n",
    "                data=df,\n",
    "                train_prop=0.6,\n",
    "                selection_prop=0.2,\n",
    "                validation_prop=0.2)"
   ]
  },
  {
   "cell_type": "markdown",
   "metadata": {},
   "source": [
    "And fit the preprocessor pipeline:\n"
   ]
  },
  {
   "cell_type": "code",
   "execution_count": 14,
   "metadata": {},
   "outputs": [
    {
     "data": {
      "application/vnd.jupyter.widget-view+json": {
       "model_id": "99c1047224d84e13a26f49540fe830eb",
       "version_major": 2,
       "version_minor": 0
      },
      "text/plain": [
       "Computing discretization bins...:   0%|          | 0/5 [00:00<?, ?it/s]"
      ]
     },
     "metadata": {},
     "output_type": "display_data"
    },
    {
     "data": {
      "application/vnd.jupyter.widget-view+json": {
       "model_id": "74ef12def65b4801bc31b2d70f166f0e",
       "version_major": 2,
       "version_minor": 0
      },
      "text/plain": [
       "Discretizing columns...:   0%|          | 0/5 [00:00<?, ?it/s]"
      ]
     },
     "metadata": {},
     "output_type": "display_data"
    },
    {
     "data": {
      "application/vnd.jupyter.widget-view+json": {
       "model_id": "fb62d74b855a419c8455ad2676479a6b",
       "version_major": 2,
       "version_minor": 0
      },
      "text/plain": [
       "Fitting category regrouping...:   0%|          | 0/3 [00:00<?, ?it/s]"
      ]
     },
     "metadata": {},
     "output_type": "display_data"
    },
    {
     "data": {
      "application/vnd.jupyter.widget-view+json": {
       "model_id": "323c4678bd6541d9aac2ad5fde1b6aa9",
       "version_major": 2,
       "version_minor": 0
      },
      "text/plain": [
       "Fitting target encoding...:   0%|          | 0/8 [00:00<?, ?it/s]"
      ]
     },
     "metadata": {},
     "output_type": "display_data"
    }
   ],
   "source": [
    "# Fit the preprocessor pipeline:\n",
    "preprocessor.fit(basetable[basetable[\"split\"] == \"train\"],\n",
    "                 continuous_vars=continuous_vars,\n",
    "                 discrete_vars=discrete_vars,\n",
    "                 target_column_name=target_col)"
   ]
  },
  {
   "cell_type": "markdown",
   "metadata": {},
   "source": [
    "This pipeline can now be performed on the basetable!!\n"
   ]
  },
  {
   "cell_type": "code",
   "execution_count": 15,
   "metadata": {},
   "outputs": [
    {
     "data": {
      "application/vnd.jupyter.widget-view+json": {
       "model_id": "a7bec36d56704d89b990d306e8b5e4d6",
       "version_major": 2,
       "version_minor": 0
      },
      "text/plain": [
       "Discretizing columns...:   0%|          | 0/5 [00:00<?, ?it/s]"
      ]
     },
     "metadata": {},
     "output_type": "display_data"
    },
    {
     "data": {
      "application/vnd.jupyter.widget-view+json": {
       "model_id": "430ca88dd7c74de3b65aac47462de537",
       "version_major": 2,
       "version_minor": 0
      },
      "text/plain": [
       "Applying target encoding...:   0%|          | 0/8 [00:00<?, ?it/s]"
      ]
     },
     "metadata": {},
     "output_type": "display_data"
    },
    {
     "data": {
      "text/html": [
       "<div>\n",
       "<style scoped>\n",
       "    .dataframe tbody tr th:only-of-type {\n",
       "        vertical-align: middle;\n",
       "    }\n",
       "\n",
       "    .dataframe tbody tr th {\n",
       "        vertical-align: top;\n",
       "    }\n",
       "\n",
       "    .dataframe thead th {\n",
       "        text-align: right;\n",
       "    }\n",
       "</style>\n",
       "<table border=\"1\" class=\"dataframe\">\n",
       "  <thead>\n",
       "    <tr style=\"text-align: right;\">\n",
       "      <th></th>\n",
       "      <th>mpg</th>\n",
       "      <th>cylinders</th>\n",
       "      <th>displacement</th>\n",
       "      <th>horsepower</th>\n",
       "      <th>weight</th>\n",
       "      <th>acceleration</th>\n",
       "      <th>model_year</th>\n",
       "      <th>origin</th>\n",
       "      <th>name</th>\n",
       "      <th>id</th>\n",
       "      <th>split</th>\n",
       "      <th>model_year_bin</th>\n",
       "      <th>weight_bin</th>\n",
       "      <th>horsepower_bin</th>\n",
       "      <th>acceleration_bin</th>\n",
       "      <th>displacement_bin</th>\n",
       "      <th>origin_processed</th>\n",
       "      <th>name_processed</th>\n",
       "      <th>cylinders_processed</th>\n",
       "      <th>origin_enc</th>\n",
       "      <th>name_enc</th>\n",
       "      <th>cylinders_enc</th>\n",
       "      <th>model_year_enc</th>\n",
       "      <th>weight_enc</th>\n",
       "      <th>horsepower_enc</th>\n",
       "      <th>acceleration_enc</th>\n",
       "      <th>displacement_enc</th>\n",
       "    </tr>\n",
       "  </thead>\n",
       "  <tbody>\n",
       "    <tr>\n",
       "      <th>0</th>\n",
       "      <td>18.0</td>\n",
       "      <td>8</td>\n",
       "      <td>307.0</td>\n",
       "      <td>130.0</td>\n",
       "      <td>3504</td>\n",
       "      <td>12.0</td>\n",
       "      <td>70</td>\n",
       "      <td>usa</td>\n",
       "      <td>chevrolet chevelle malibu</td>\n",
       "      <td>1</td>\n",
       "      <td>train</td>\n",
       "      <td>70.0 - 71.0</td>\n",
       "      <td>3416.0 - 3726.0</td>\n",
       "      <td>110.0 - 141.0</td>\n",
       "      <td>8.0 - 12.0</td>\n",
       "      <td>304.0 - 350.0</td>\n",
       "      <td>usa</td>\n",
       "      <td>chevrolet chevelle malibu</td>\n",
       "      <td>8</td>\n",
       "      <td>20.07351</td>\n",
       "      <td>18.0</td>\n",
       "      <td>15.266129</td>\n",
       "      <td>19.875</td>\n",
       "      <td>18.1375</td>\n",
       "      <td>18.981818</td>\n",
       "      <td>15.973077</td>\n",
       "      <td>15.607692</td>\n",
       "    </tr>\n",
       "    <tr>\n",
       "      <th>1</th>\n",
       "      <td>15.0</td>\n",
       "      <td>8</td>\n",
       "      <td>350.0</td>\n",
       "      <td>165.0</td>\n",
       "      <td>3693</td>\n",
       "      <td>11.5</td>\n",
       "      <td>70</td>\n",
       "      <td>usa</td>\n",
       "      <td>buick skylark 320</td>\n",
       "      <td>2</td>\n",
       "      <td>train</td>\n",
       "      <td>70.0 - 71.0</td>\n",
       "      <td>3416.0 - 3726.0</td>\n",
       "      <td>153.0 - 230.0</td>\n",
       "      <td>8.0 - 12.0</td>\n",
       "      <td>304.0 - 350.0</td>\n",
       "      <td>usa</td>\n",
       "      <td>buick skylark 320</td>\n",
       "      <td>8</td>\n",
       "      <td>20.07351</td>\n",
       "      <td>15.0</td>\n",
       "      <td>15.266129</td>\n",
       "      <td>19.875</td>\n",
       "      <td>18.1375</td>\n",
       "      <td>13.439130</td>\n",
       "      <td>15.973077</td>\n",
       "      <td>15.607692</td>\n",
       "    </tr>\n",
       "    <tr>\n",
       "      <th>2</th>\n",
       "      <td>18.0</td>\n",
       "      <td>8</td>\n",
       "      <td>318.0</td>\n",
       "      <td>150.0</td>\n",
       "      <td>3436</td>\n",
       "      <td>11.0</td>\n",
       "      <td>70</td>\n",
       "      <td>usa</td>\n",
       "      <td>plymouth satellite</td>\n",
       "      <td>3</td>\n",
       "      <td>train</td>\n",
       "      <td>70.0 - 71.0</td>\n",
       "      <td>3416.0 - 3726.0</td>\n",
       "      <td>141.0 - 153.0</td>\n",
       "      <td>8.0 - 12.0</td>\n",
       "      <td>304.0 - 350.0</td>\n",
       "      <td>usa</td>\n",
       "      <td>plymouth satellite</td>\n",
       "      <td>8</td>\n",
       "      <td>20.07351</td>\n",
       "      <td>18.0</td>\n",
       "      <td>15.266129</td>\n",
       "      <td>19.875</td>\n",
       "      <td>18.1375</td>\n",
       "      <td>14.987500</td>\n",
       "      <td>15.973077</td>\n",
       "      <td>15.607692</td>\n",
       "    </tr>\n",
       "    <tr>\n",
       "      <th>3</th>\n",
       "      <td>16.0</td>\n",
       "      <td>8</td>\n",
       "      <td>304.0</td>\n",
       "      <td>150.0</td>\n",
       "      <td>3433</td>\n",
       "      <td>12.0</td>\n",
       "      <td>70</td>\n",
       "      <td>usa</td>\n",
       "      <td>amc rebel sst</td>\n",
       "      <td>4</td>\n",
       "      <td>train</td>\n",
       "      <td>70.0 - 71.0</td>\n",
       "      <td>3416.0 - 3726.0</td>\n",
       "      <td>141.0 - 153.0</td>\n",
       "      <td>8.0 - 12.0</td>\n",
       "      <td>250.0 - 304.0</td>\n",
       "      <td>usa</td>\n",
       "      <td>amc rebel sst</td>\n",
       "      <td>8</td>\n",
       "      <td>20.07351</td>\n",
       "      <td>16.0</td>\n",
       "      <td>15.266129</td>\n",
       "      <td>19.875</td>\n",
       "      <td>18.1375</td>\n",
       "      <td>14.987500</td>\n",
       "      <td>15.973077</td>\n",
       "      <td>16.726316</td>\n",
       "    </tr>\n",
       "    <tr>\n",
       "      <th>4</th>\n",
       "      <td>17.0</td>\n",
       "      <td>8</td>\n",
       "      <td>302.0</td>\n",
       "      <td>140.0</td>\n",
       "      <td>3449</td>\n",
       "      <td>10.5</td>\n",
       "      <td>70</td>\n",
       "      <td>usa</td>\n",
       "      <td>ford torino</td>\n",
       "      <td>5</td>\n",
       "      <td>train</td>\n",
       "      <td>70.0 - 71.0</td>\n",
       "      <td>3416.0 - 3726.0</td>\n",
       "      <td>110.0 - 141.0</td>\n",
       "      <td>8.0 - 12.0</td>\n",
       "      <td>250.0 - 304.0</td>\n",
       "      <td>usa</td>\n",
       "      <td>ford torino</td>\n",
       "      <td>8</td>\n",
       "      <td>20.07351</td>\n",
       "      <td>17.0</td>\n",
       "      <td>15.266129</td>\n",
       "      <td>19.875</td>\n",
       "      <td>18.1375</td>\n",
       "      <td>18.981818</td>\n",
       "      <td>15.973077</td>\n",
       "      <td>16.726316</td>\n",
       "    </tr>\n",
       "  </tbody>\n",
       "</table>\n",
       "</div>"
      ],
      "text/plain": [
       "    mpg  cylinders  displacement  horsepower  weight  acceleration  \\\n",
       "0  18.0          8         307.0       130.0    3504          12.0   \n",
       "1  15.0          8         350.0       165.0    3693          11.5   \n",
       "2  18.0          8         318.0       150.0    3436          11.0   \n",
       "3  16.0          8         304.0       150.0    3433          12.0   \n",
       "4  17.0          8         302.0       140.0    3449          10.5   \n",
       "\n",
       "   model_year origin                       name  id  split model_year_bin  \\\n",
       "0          70    usa  chevrolet chevelle malibu   1  train    70.0 - 71.0   \n",
       "1          70    usa          buick skylark 320   2  train    70.0 - 71.0   \n",
       "2          70    usa         plymouth satellite   3  train    70.0 - 71.0   \n",
       "3          70    usa              amc rebel sst   4  train    70.0 - 71.0   \n",
       "4          70    usa                ford torino   5  train    70.0 - 71.0   \n",
       "\n",
       "        weight_bin horsepower_bin acceleration_bin displacement_bin  \\\n",
       "0  3416.0 - 3726.0  110.0 - 141.0       8.0 - 12.0    304.0 - 350.0   \n",
       "1  3416.0 - 3726.0  153.0 - 230.0       8.0 - 12.0    304.0 - 350.0   \n",
       "2  3416.0 - 3726.0  141.0 - 153.0       8.0 - 12.0    304.0 - 350.0   \n",
       "3  3416.0 - 3726.0  141.0 - 153.0       8.0 - 12.0    250.0 - 304.0   \n",
       "4  3416.0 - 3726.0  110.0 - 141.0       8.0 - 12.0    250.0 - 304.0   \n",
       "\n",
       "  origin_processed             name_processed cylinders_processed  origin_enc  \\\n",
       "0              usa  chevrolet chevelle malibu                   8    20.07351   \n",
       "1              usa          buick skylark 320                   8    20.07351   \n",
       "2              usa         plymouth satellite                   8    20.07351   \n",
       "3              usa              amc rebel sst                   8    20.07351   \n",
       "4              usa                ford torino                   8    20.07351   \n",
       "\n",
       "   name_enc  cylinders_enc  model_year_enc  weight_enc  horsepower_enc  \\\n",
       "0      18.0      15.266129          19.875     18.1375       18.981818   \n",
       "1      15.0      15.266129          19.875     18.1375       13.439130   \n",
       "2      18.0      15.266129          19.875     18.1375       14.987500   \n",
       "3      16.0      15.266129          19.875     18.1375       14.987500   \n",
       "4      17.0      15.266129          19.875     18.1375       18.981818   \n",
       "\n",
       "   acceleration_enc  displacement_enc  \n",
       "0         15.973077         15.607692  \n",
       "1         15.973077         15.607692  \n",
       "2         15.973077         15.607692  \n",
       "3         15.973077         16.726316  \n",
       "4         15.973077         16.726316  "
      ]
     },
     "execution_count": 15,
     "metadata": {},
     "output_type": "execute_result"
    }
   ],
   "source": [
    "basetable = preprocessor.transform(basetable,\n",
    "                                   continuous_vars=continuous_vars,\n",
    "                                   discrete_vars=discrete_vars)\n",
    "\n",
    "\n",
    "basetable.head()"
   ]
  },
  {
   "cell_type": "markdown",
   "metadata": {},
   "source": [
    "## Feature selection"
   ]
  },
  {
   "cell_type": "markdown",
   "metadata": {},
   "source": [
    "Once the predictors are properly prepared, we can start building a predictive model, which boils down to selecting the right predictors from the dataset to train a model on.\n",
    "As a dataset typically contains many predictors, **we first perform a univariate preselection** to rule out any predictor with little to no predictive power. Later, using the list of preselected features, we build a multiple regression model using **forward feature selection** to choose the right set of predictors."
   ]
  },
  {
   "cell_type": "markdown",
   "metadata": {},
   "source": [
    "In previous steps, these were the predictors, as preprocessed so far:"
   ]
  },
  {
   "cell_type": "code",
   "execution_count": 16,
   "metadata": {},
   "outputs": [
    {
     "data": {
      "text/plain": [
       "['acceleration_bin',\n",
       " 'cylinders_processed',\n",
       " 'displacement_bin',\n",
       " 'horsepower_bin',\n",
       " 'model_year_bin',\n",
       " 'name_processed',\n",
       " 'origin_processed',\n",
       " 'weight_bin']"
      ]
     },
     "execution_count": 16,
     "metadata": {},
     "output_type": "execute_result"
    }
   ],
   "source": [
    "preprocessed_predictors = [\n",
    "    col for col in basetable.columns\n",
    "    if col.endswith(\"_bin\") or col.endswith(\"_processed\")\n",
    "]\n",
    "sorted(preprocessed_predictors)"
   ]
  },
  {
   "cell_type": "markdown",
   "metadata": {},
   "source": [
    "But for feature selection, we use the target encoded version of each of these."
   ]
  },
  {
   "cell_type": "code",
   "execution_count": 17,
   "metadata": {},
   "outputs": [
    {
     "data": {
      "text/plain": [
       "['acceleration_enc',\n",
       " 'cylinders_enc',\n",
       " 'displacement_enc',\n",
       " 'horsepower_enc',\n",
       " 'model_year_enc',\n",
       " 'name_enc',\n",
       " 'origin_enc',\n",
       " 'weight_enc']"
      ]
     },
     "execution_count": 17,
     "metadata": {},
     "output_type": "execute_result"
    }
   ],
   "source": [
    "preprocessed_predictors = [col for col in basetable.columns.tolist()\n",
    "                           if '_enc' in col]\n",
    "sorted(preprocessed_predictors)"
   ]
  },
  {
   "cell_type": "markdown",
   "metadata": {},
   "source": [
    "A univariate selection on the preprocessed predictors can be conducted. The thresholds for retaining a feature can be changed by the user, for instance both at 10 for now.\n"
   ]
  },
  {
   "cell_type": "code",
   "execution_count": 18,
   "metadata": {},
   "outputs": [
    {
     "data": {
      "text/html": [
       "<div>\n",
       "<style scoped>\n",
       "    .dataframe tbody tr th:only-of-type {\n",
       "        vertical-align: middle;\n",
       "    }\n",
       "\n",
       "    .dataframe tbody tr th {\n",
       "        vertical-align: top;\n",
       "    }\n",
       "\n",
       "    .dataframe thead th {\n",
       "        text-align: right;\n",
       "    }\n",
       "</style>\n",
       "<table border=\"1\" class=\"dataframe\">\n",
       "  <thead>\n",
       "    <tr style=\"text-align: right;\">\n",
       "      <th></th>\n",
       "      <th>predictor</th>\n",
       "      <th>RMSE train</th>\n",
       "      <th>RMSE selection</th>\n",
       "      <th>preselection</th>\n",
       "    </tr>\n",
       "  </thead>\n",
       "  <tbody>\n",
       "    <tr>\n",
       "      <th>0</th>\n",
       "      <td>weight</td>\n",
       "      <td>3.978571</td>\n",
       "      <td>4.650782</td>\n",
       "      <td>True</td>\n",
       "    </tr>\n",
       "    <tr>\n",
       "      <th>1</th>\n",
       "      <td>horsepower</td>\n",
       "      <td>4.275258</td>\n",
       "      <td>4.986643</td>\n",
       "      <td>True</td>\n",
       "    </tr>\n",
       "    <tr>\n",
       "      <th>2</th>\n",
       "      <td>displacement</td>\n",
       "      <td>3.965760</td>\n",
       "      <td>5.003450</td>\n",
       "      <td>True</td>\n",
       "    </tr>\n",
       "    <tr>\n",
       "      <th>3</th>\n",
       "      <td>cylinders</td>\n",
       "      <td>4.585594</td>\n",
       "      <td>5.071332</td>\n",
       "      <td>True</td>\n",
       "    </tr>\n",
       "    <tr>\n",
       "      <th>4</th>\n",
       "      <td>model_year</td>\n",
       "      <td>5.964573</td>\n",
       "      <td>6.193572</td>\n",
       "      <td>True</td>\n",
       "    </tr>\n",
       "    <tr>\n",
       "      <th>5</th>\n",
       "      <td>origin</td>\n",
       "      <td>6.261216</td>\n",
       "      <td>6.194451</td>\n",
       "      <td>True</td>\n",
       "    </tr>\n",
       "    <tr>\n",
       "      <th>6</th>\n",
       "      <td>acceleration</td>\n",
       "      <td>6.709101</td>\n",
       "      <td>6.855491</td>\n",
       "      <td>True</td>\n",
       "    </tr>\n",
       "    <tr>\n",
       "      <th>7</th>\n",
       "      <td>name</td>\n",
       "      <td>1.203140</td>\n",
       "      <td>6.984539</td>\n",
       "      <td>True</td>\n",
       "    </tr>\n",
       "  </tbody>\n",
       "</table>\n",
       "</div>"
      ],
      "text/plain": [
       "      predictor  RMSE train  RMSE selection  preselection\n",
       "0        weight    3.978571        4.650782          True\n",
       "1    horsepower    4.275258        4.986643          True\n",
       "2  displacement    3.965760        5.003450          True\n",
       "3     cylinders    4.585594        5.071332          True\n",
       "4    model_year    5.964573        6.193572          True\n",
       "5        origin    6.261216        6.194451          True\n",
       "6  acceleration    6.709101        6.855491          True\n",
       "7          name    1.203140        6.984539          True"
      ]
     },
     "execution_count": 18,
     "metadata": {},
     "output_type": "execute_result"
    }
   ],
   "source": [
    "from cobra.model_building import univariate_selection\n",
    "\n",
    "\n",
    "df_rmse = univariate_selection.compute_univariate_preselection(\n",
    "    target_enc_train_data=basetable[basetable[\"split\"] == \"train\"],\n",
    "    target_enc_selection_data=basetable[basetable[\"split\"] == \"selection\"],\n",
    "    predictors=preprocessed_predictors,\n",
    "    target_column=target_col,\n",
    "    model_type=\"regression\",\n",
    "    preselect_rmse_threshold = 10, #RMSE maximum for selection\n",
    "    preselect_overtrain_threshold = 10) #difference between RMSE on train and selection set\n",
    "df_rmse\n",
    "\n",
    "#As the square root of a variance, RMSE can be interpreted as the standard deviation of \n",
    "# the unexplained variance, and has the useful property of being in the same units as the response variable. \n",
    "#Lower values of RMSE indicate better fit."
   ]
  },
  {
   "cell_type": "code",
   "execution_count": 19,
   "metadata": {},
   "outputs": [
    {
     "data": {
      "image/png": "[encoded data removed]",
      "text/plain": [
       "<Figure size 864x576 with 1 Axes>"
      ]
     },
     "metadata": {},
     "output_type": "display_data"
    }
   ],
   "source": [
    "# TODO: this does not work yet for regression\n",
    "from cobra.evaluation import plot_univariate_predictor_quality\n",
    "\n",
    "# Plot df_rmse to get a horizontal barplot:\n",
    "plot_univariate_predictor_quality(df_rmse)"
   ]
  },
  {
   "cell_type": "markdown",
   "metadata": {},
   "source": [
    "Next, we compute correlations between the preprocessed predictors and plot it using a correlation matrix:\n"
   ]
  },
  {
   "cell_type": "code",
   "execution_count": 20,
   "metadata": {},
   "outputs": [
    {
     "name": "stdout",
     "output_type": "stream",
     "text": [
      "                origin      name  cylinders  model_year    weight  horsepower  \\\n",
      "origin        1.000000  0.576723   0.604526    0.155399  0.587738    0.512869   \n",
      "name          0.576723  1.000000   0.804062    0.606067  0.850256    0.816529   \n",
      "cylinders     0.604526  0.804062   1.000000    0.335477  0.868487    0.809844   \n",
      "model_year    0.155399  0.606067   0.335477    1.000000  0.298712    0.390358   \n",
      "weight        0.587738  0.850256   0.868487    0.298712  1.000000    0.853457   \n",
      "horsepower    0.512869  0.816529   0.809844    0.390358  0.853457    1.000000   \n",
      "acceleration  0.278023  0.475693   0.574013    0.307316  0.483994    0.631153   \n",
      "displacement  0.656741  0.848519   0.902841    0.363119  0.912103    0.883492   \n",
      "\n",
      "              acceleration  displacement  \n",
      "origin            0.278023      0.656741  \n",
      "name              0.475693      0.848519  \n",
      "cylinders         0.574013      0.902841  \n",
      "model_year        0.307316      0.363119  \n",
      "weight            0.483994      0.912103  \n",
      "horsepower        0.631153      0.883492  \n",
      "acceleration      1.000000      0.568432  \n",
      "displacement      0.568432      1.000000  \n"
     ]
    },
    {
     "data": {
      "image/png": "[encoded data removed]",
      "text/plain": [
       "<Figure size 864x576 with 2 Axes>"
      ]
     },
     "metadata": {
      "needs_background": "light"
     },
     "output_type": "display_data"
    }
   ],
   "source": [
    "from cobra.evaluation import plot_correlation_matrix\n",
    "\n",
    "# compute correlations between preprocessed predictors:\n",
    "df_corr = (univariate_selection\n",
    "           .compute_correlations(basetable[basetable[\"split\"] == \"train\"],\n",
    "                                 preprocessed_predictors))\n",
    "print(df_corr)\n",
    "\n",
    "# plot correlation matrix\n",
    "plot_correlation_matrix(df_corr)"
   ]
  },
  {
   "cell_type": "markdown",
   "metadata": {},
   "source": [
    "To get a list of the selected predictors after the univariate selection, run the following call:\n"
   ]
  },
  {
   "cell_type": "code",
   "execution_count": 21,
   "metadata": {},
   "outputs": [
    {
     "data": {
      "text/plain": [
       "['weight_enc',\n",
       " 'horsepower_enc',\n",
       " 'displacement_enc',\n",
       " 'cylinders_enc',\n",
       " 'model_year_enc',\n",
       " 'origin_enc',\n",
       " 'acceleration_enc',\n",
       " 'name_enc']"
      ]
     },
     "execution_count": 21,
     "metadata": {},
     "output_type": "execute_result"
    }
   ],
   "source": [
    "preselected_predictors = (univariate_selection\n",
    "                          .get_preselected_predictors(df_rmse))\n",
    "preselected_predictors"
   ]
  },
  {
   "cell_type": "markdown",
   "metadata": {},
   "source": [
    "After an initial preselection on the predictors, we can start building the model itself using forward feature selection to choose the right set of predictors. Since we use target encoding on all our predictors, we will only consider models with positive coefficients (no sign flip should occur) as this makes the model more interpretable."
   ]
  },
  {
   "cell_type": "markdown",
   "metadata": {},
   "source": [
    "## Modeling"
   ]
  },
  {
   "cell_type": "markdown",
   "metadata": {},
   "source": [
    "Based on the performance curves (AUC per model with a particular number of predictors in case of logistic regression), a final model can then be chosen and the variables importance can be plotted:\n",
    "Note: variable importance is based on correlation of the predictor with the model scores (and not the true labels!)."
   ]
  },
  {
   "cell_type": "code",
   "execution_count": 22,
   "metadata": {},
   "outputs": [
    {
     "data": {
      "application/vnd.jupyter.widget-view+json": {
       "model_id": "aba7455f139f439996d4680709767d93",
       "version_major": 2,
       "version_minor": 0
      },
      "text/plain": [
       "Sequentially adding best predictor...:   0%|          | 0/8 [00:00<?, ?it/s]"
      ]
     },
     "metadata": {},
     "output_type": "display_data"
    },
    {
     "data": {
      "text/html": [
       "<div>\n",
       "<style scoped>\n",
       "    .dataframe tbody tr th:only-of-type {\n",
       "        vertical-align: middle;\n",
       "    }\n",
       "\n",
       "    .dataframe tbody tr th {\n",
       "        vertical-align: top;\n",
       "    }\n",
       "\n",
       "    .dataframe thead th {\n",
       "        text-align: right;\n",
       "    }\n",
       "</style>\n",
       "<table border=\"1\" class=\"dataframe\">\n",
       "  <thead>\n",
       "    <tr style=\"text-align: right;\">\n",
       "      <th></th>\n",
       "      <th>predictors</th>\n",
       "      <th>last_added_predictor</th>\n",
       "      <th>train_performance</th>\n",
       "      <th>selection_performance</th>\n",
       "      <th>validation_performance</th>\n",
       "      <th>model_type</th>\n",
       "    </tr>\n",
       "  </thead>\n",
       "  <tbody>\n",
       "    <tr>\n",
       "      <th>0</th>\n",
       "      <td>[name_enc]</td>\n",
       "      <td>name_enc</td>\n",
       "      <td>1.203140</td>\n",
       "      <td>6.984539</td>\n",
       "      <td>8.094989</td>\n",
       "      <td>regression</td>\n",
       "    </tr>\n",
       "    <tr>\n",
       "      <th>1</th>\n",
       "      <td>[name_enc, horsepower_enc]</td>\n",
       "      <td>horsepower_enc</td>\n",
       "      <td>1.169700</td>\n",
       "      <td>6.667165</td>\n",
       "      <td>7.675902</td>\n",
       "      <td>regression</td>\n",
       "    </tr>\n",
       "    <tr>\n",
       "      <th>2</th>\n",
       "      <td>[horsepower_enc, name_enc, model_year_enc]</td>\n",
       "      <td>model_year_enc</td>\n",
       "      <td>1.131406</td>\n",
       "      <td>6.383855</td>\n",
       "      <td>7.352201</td>\n",
       "      <td>regression</td>\n",
       "    </tr>\n",
       "    <tr>\n",
       "      <th>3</th>\n",
       "      <td>[horsepower_enc, model_year_enc, name_enc, wei...</td>\n",
       "      <td>weight_enc</td>\n",
       "      <td>1.109842</td>\n",
       "      <td>6.087975</td>\n",
       "      <td>7.024830</td>\n",
       "      <td>regression</td>\n",
       "    </tr>\n",
       "    <tr>\n",
       "      <th>4</th>\n",
       "      <td>[horsepower_enc, model_year_enc, name_enc, wei...</td>\n",
       "      <td>acceleration_enc</td>\n",
       "      <td>1.098496</td>\n",
       "      <td>6.046030</td>\n",
       "      <td>6.962055</td>\n",
       "      <td>regression</td>\n",
       "    </tr>\n",
       "    <tr>\n",
       "      <th>5</th>\n",
       "      <td>[model_year_enc, name_enc, weight_enc, horsepo...</td>\n",
       "      <td>displacement_enc</td>\n",
       "      <td>1.094765</td>\n",
       "      <td>6.002588</td>\n",
       "      <td>6.907551</td>\n",
       "      <td>regression</td>\n",
       "    </tr>\n",
       "    <tr>\n",
       "      <th>6</th>\n",
       "      <td>[model_year_enc, name_enc, weight_enc, horsepo...</td>\n",
       "      <td>cylinders_enc</td>\n",
       "      <td>1.089267</td>\n",
       "      <td>6.021088</td>\n",
       "      <td>6.943424</td>\n",
       "      <td>regression</td>\n",
       "    </tr>\n",
       "  </tbody>\n",
       "</table>\n",
       "</div>"
      ],
      "text/plain": [
       "                                          predictors last_added_predictor  \\\n",
       "0                                         [name_enc]             name_enc   \n",
       "1                         [name_enc, horsepower_enc]       horsepower_enc   \n",
       "2         [horsepower_enc, name_enc, model_year_enc]       model_year_enc   \n",
       "3  [horsepower_enc, model_year_enc, name_enc, wei...           weight_enc   \n",
       "4  [horsepower_enc, model_year_enc, name_enc, wei...     acceleration_enc   \n",
       "5  [model_year_enc, name_enc, weight_enc, horsepo...     displacement_enc   \n",
       "6  [model_year_enc, name_enc, weight_enc, horsepo...        cylinders_enc   \n",
       "\n",
       "   train_performance  selection_performance  validation_performance  \\\n",
       "0           1.203140               6.984539                8.094989   \n",
       "1           1.169700               6.667165                7.675902   \n",
       "2           1.131406               6.383855                7.352201   \n",
       "3           1.109842               6.087975                7.024830   \n",
       "4           1.098496               6.046030                6.962055   \n",
       "5           1.094765               6.002588                6.907551   \n",
       "6           1.089267               6.021088                6.943424   \n",
       "\n",
       "   model_type  \n",
       "0  regression  \n",
       "1  regression  \n",
       "2  regression  \n",
       "3  regression  \n",
       "4  regression  \n",
       "5  regression  \n",
       "6  regression  "
      ]
     },
     "execution_count": 22,
     "metadata": {},
     "output_type": "execute_result"
    }
   ],
   "source": [
    "from cobra.model_building import ForwardFeatureSelection\n",
    "\n",
    "forward_selection = ForwardFeatureSelection(model_type=\"regression\",\n",
    "                                            #model_name=\"linear-regression\",\n",
    "                                            max_predictors=30,\n",
    "                                            pos_only=True)\n",
    "\n",
    "# fit the forward feature selection on the train data\n",
    "# has optional parameters to force and/or exclude certain predictors (see docs)\n",
    "forward_selection.fit(basetable[basetable[\"split\"] == \"train\"],\n",
    "                      target_column_name = target_col,\n",
    "                      predictors = preselected_predictors)\n",
    "                      #forced_predictors: list = [],\n",
    "                      #excluded_predictors: list = [])\n",
    "\n",
    "# compute model performance\n",
    "performances = (forward_selection\n",
    "                .compute_model_performances(basetable, target_column_name = target_col))\n",
    "performances"
   ]
  },
  {
   "cell_type": "markdown",
   "metadata": {},
   "source": [
    "As can be seen, we have completed 7 steps till no further improvement can be observed"
   ]
  },
  {
   "cell_type": "code",
   "execution_count": 23,
   "metadata": {},
   "outputs": [
    {
     "data": {
      "image/png": "[encoded data removed]",
      "text/plain": [
       "<Figure size 864x576 with 1 Axes>"
      ]
     },
     "metadata": {},
     "output_type": "display_data"
    }
   ],
   "source": [
    "from cobra.evaluation import plot_performance_curves\n",
    "\n",
    "# plot performance curves\n",
    "plot_performance_curves(performances)"
   ]
  },
  {
   "cell_type": "markdown",
   "metadata": {},
   "source": [
    "Based on the performance curves (AUC per model with a particular number of predictors in case of logistic regression), a final model can then be chosen and the variables importance can be plotted:\n"
   ]
  },
  {
   "cell_type": "code",
   "execution_count": 25,
   "metadata": {},
   "outputs": [
    {
     "data": {
      "image/png": "[encoded data removed]",
      "text/plain": [
       "<Figure size 864x576 with 1 Axes>"
      ]
     },
     "metadata": {},
     "output_type": "display_data"
    }
   ],
   "source": [
    "# look at the number of steps that were completed before stopping, fill that in between the brackets\n",
    "model = forward_selection.get_model_from_step(6)\n",
    "final_predictors = model.predictors\n",
    "final_predictors\n",
    "from cobra.evaluation import plot_variable_importance\n",
    "variable_importance = model.compute_variable_importance(\n",
    "    basetable[basetable[\"split\"] == \"selection\"])\n",
    "plot_variable_importance(variable_importance)"
   ]
  },
  {
   "cell_type": "markdown",
   "metadata": {},
   "source": [
    "Finally, we can again export the model to a dictionary to store it as JSON"
   ]
  },
  {
   "cell_type": "code",
   "execution_count": null,
   "metadata": {},
   "outputs": [],
   "source": [
    "model_dict = model.serialize()\n",
    "\n",
    "model_path = os.path.join(\"output\", \"model.json\")\n",
    "with open(model_path, \"w\") as file:\n",
    "    json.dump(model_dict, file)\n",
    "\n",
    "# To reload the model again from a JSON file, run the following snippet:\n",
    "# from cobra.model_building import LinearRegressionModel\n",
    "# with open(model_path, \"r\") as file:\n",
    "#     model_dict = json.load(file)\n",
    "# model = LinearRegressionModel()\n",
    "# model.deserialize(model_dict)"
   ]
  },
  {
   "cell_type": "markdown",
   "metadata": {},
   "source": [
    "## Evaluation"
   ]
  },
  {
   "cell_type": "markdown",
   "metadata": {},
   "source": [
    "Now that we have build and selected a final model, it is time to evaluate its predictions on the test set against various evaluation metrics. The used evaluation metrics are:\n",
    "1. Coefficient of Determination: R2\n",
    "2. Mean Absolute Error: MAE\n",
    "3. Mean Squared Error: MSE\n",
    "4. Root Mean Squared Error: RMSE\n",
    "\n",
    "Furthermore, plotting makes the evaluation of a linear regression model a lot easier. We will use a **prediction plot**, which presents predictions from the model against actual values and a **Q-Q plot** from the standardized prediction residuals."
   ]
  },
  {
   "cell_type": "code",
   "execution_count": 41,
   "metadata": {},
   "outputs": [],
   "source": [
    "from cobra.evaluation import RegressionEvaluator\n",
    "# get numpy array of True target labels and predicted scores:\n",
    "y_true = basetable[basetable[\"split\"] == \"selection\"][target_col].values\n",
    "y_pred = model.score_model(basetable[basetable[\"split\"] == \"selection\"])"
   ]
  },
  {
   "cell_type": "code",
   "execution_count": 53,
   "metadata": {},
   "outputs": [],
   "source": [
    "evaluator = RegressionEvaluator()\n",
    "evaluator.fit(y_true, y_pred)"
   ]
  },
  {
   "cell_type": "code",
   "execution_count": 54,
   "metadata": {},
   "outputs": [
    {
     "data": {
      "text/plain": [
       "R2       0.375386\n",
       "MAE      4.548273\n",
       "MSE     36.253497\n",
       "RMSE     6.021088\n",
       "dtype: float64"
      ]
     },
     "execution_count": 54,
     "metadata": {},
     "output_type": "execute_result"
    }
   ],
   "source": [
    "evaluator.scalar_metrics"
   ]
  },
  {
   "cell_type": "code",
   "execution_count": 55,
   "metadata": {},
   "outputs": [
    {
     "data": {
      "text/plain": [
       "quantiles    [-2.23653945714085, -1.9545779044793146, -1.77...\n",
       "residuals    [-1.974279544606567, -1.8600766985962418, -1.5...\n",
       "dtype: object"
      ]
     },
     "execution_count": 55,
     "metadata": {},
     "output_type": "execute_result"
    }
   ],
   "source": [
    "evaluator._compute_qq_residuals(y_true, y_pred)"
   ]
  },
  {
   "cell_type": "code",
   "execution_count": 59,
   "metadata": {},
   "outputs": [
    {
     "name": "stdout",
     "output_type": "stream",
     "text": [
      "[-1.97427954 -1.8600767  -1.59830383 -1.44372575 -1.25373616 -1.25373037\n",
      " -1.19348044 -1.15938781 -1.15716422 -1.13525388 -1.11768354 -1.07536969\n",
      " -1.0159266  -0.97357408 -0.86724359 -0.82727935 -0.81289048 -0.7402414\n",
      " -0.73578181 -0.71682768 -0.62913548 -0.6118987  -0.58166118 -0.55897854\n",
      " -0.54985383 -0.47923371 -0.45718626 -0.40374393 -0.3832924  -0.29816885\n",
      " -0.29412552 -0.27294069 -0.27161632 -0.22993283 -0.20321887 -0.19826864\n",
      " -0.191571   -0.15074404 -0.13687714 -0.11831811 -0.08495946 -0.0828561\n",
      " -0.06254967 -0.06058325 -0.03523337 -0.00850019  0.03486803  0.10285784\n",
      "  0.11822309  0.13682246  0.16080197  0.17653864  0.18307145  0.20141138\n",
      "  0.23743266  0.32320255  0.34387467  0.3842051   0.40446525  0.52303797\n",
      "  0.58606037  0.61709119  0.7676317   0.85185924  0.88129139  1.01823851\n",
      "  1.05563555  1.10608625  1.21576626  1.23532411  1.42124612  1.58351288\n",
      "  1.6795549   1.75494325  1.80696465  1.88722265  2.22581566  2.34851735\n",
      "  2.89382993]\n"
     ]
    }
   ],
   "source": [
    "residuals = evaluator.qq['residuals']\n",
    "print(residuals)"
   ]
  },
  {
   "cell_type": "code",
   "execution_count": 56,
   "metadata": {},
   "outputs": [
    {
     "name": "stderr",
     "output_type": "stream",
     "text": [
      "No handles with labels found to put in legend.\n"
     ]
    },
    {
     "data": {
      "image/png": "[encoded data removed]",
      "text/plain": [
       "<Figure size 864x576 with 1 Axes>"
      ]
     },
     "metadata": {},
     "output_type": "display_data"
    }
   ],
   "source": [
    "evaluator.plot_qq()"
   ]
  }
 ],
 "metadata": {
  "kernelspec": {
   "display_name": "Python 3",
   "language": "python",
   "name": "python3"
  },
  "language_info": {
   "codemirror_mode": {
    "name": "ipython",
    "version": 3
   },
   "file_extension": ".py",
   "mimetype": "text/x-python",
   "name": "python",
   "nbconvert_exporter": "python",
   "pygments_lexer": "ipython3",
   "version": "3.8.8"
  }
 },
 "nbformat": 4,
 "nbformat_minor": 4
}
