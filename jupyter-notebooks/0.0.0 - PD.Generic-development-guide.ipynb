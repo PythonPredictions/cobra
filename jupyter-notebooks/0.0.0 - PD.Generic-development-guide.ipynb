{
 "cells": [
  {
   "cell_type": "markdown",
   "id": "cb139d65",
   "metadata": {},
   "source": [
    "## Development with the notebook\n",
    "\n",
    "This notebook server can be used as a scratchpad. Work in progress code, algorithms, visualizations, tests, ...\n",
    "\n",
    "The ultimate goal here is to refactor these snippets in well documented and tested python classes and methods so they can be imported easily.\n",
    "\n",
    "The suggested workflow is as follows:\n",
    "\n",
    "1. Use the notebook to prototype and test drive your development\n",
    "2. Migrate your developed code into the project. Create a python file, organize it in classes,...\n",
    "3. Document your migrated code (docstring) so it's functionality is documented in the sphinx docs.\n",
    "4. Import the migrated code back into this notebook and develop tests around it.\n",
    "5. Include these tests in the project.\n",
    "6. Cleanup your notebook as the functionality is now in the python project and can be easily imported in the future.\n",
    "\n",
    "### Import the source code of the project\n",
    "\n",
    "Updates to the project's source need to be reflected here so it's possible to add new functionality and fix bugs which are directly \n",
    "reflected here. Jupyter supports this behaviour with the autoreload magic.\n",
    "\n",
    "The 2 cells below will setup this autoreload functionality (so the original import is not cached) and add the project path to the system path. Now the project source can be imported (without installing it as a python package)."
   ]
  },
  {
   "cell_type": "code",
   "execution_count": 1,
   "id": "b7917704",
   "metadata": {},
   "outputs": [],
   "source": [
    "%load_ext autoreload\n",
    "%autoreload 2\n",
    "# %matplotlib inline"
   ]
  },
  {
   "cell_type": "code",
   "execution_count": 2,
   "id": "d05ad465",
   "metadata": {},
   "outputs": [
    {
     "name": "stdout",
     "output_type": "stream",
     "text": [
      "PROJECT_PATH = /Users/pietro.dantuono/Python/Packages/cobra\n",
      "Platform: macOS-13.2-x86_64-i386-64bit\n",
      "Python version: 3.10.9 (main, Feb 16 2023, 11:50:01) [Clang 14.0.0 (clang-1400.0.29.202)]\n",
      "numpy version: 1.24.2\n",
      "pandas version: 1.5.3\n",
      "scikit-learn version: 1.2.2\n"
     ]
    }
   ],
   "source": [
    "import datetime as dt\n",
    "import os\n",
    "import platform\n",
    "import sys\n",
    "import numpy as np\n",
    "import pandas as pd\n",
    "import matplotlib.pyplot as plt\n",
    "import sklearn\n",
    "\n",
    "PROJECT_PATH = os.path.dirname(os.getcwd())\n",
    "print(f'PROJECT_PATH = {PROJECT_PATH}')\n",
    "\n",
    "if not PROJECT_PATH in sys.path:\n",
    "    sys.path.append(PROJECT_PATH)\n",
    "    \n",
    "print('Platform:', platform.platform())\n",
    "print('Python version:', sys.version)\n",
    "print('numpy version:', np.__version__)\n",
    "print('pandas version:', pd.__version__)\n",
    "print('scikit-learn version:', sklearn.__version__)\n",
    "np.set_printoptions(threshold=sys.maxsize)"
   ]
  },
  {
   "cell_type": "code",
   "execution_count": 3,
   "id": "64e9dc85",
   "metadata": {},
   "outputs": [
    {
     "name": "stderr",
     "output_type": "stream",
     "text": [
      "\n",
      "    Hi, welcome to Cobra!\n",
      "    You can find some tutorials that explain the functioning of cobra on the PythonPredictions GitHub:\n",
      "    https://github.com/PythonPredictions/cobra/tree/master/tutorials\n",
      "        \n"
     ]
    }
   ],
   "source": [
    "import cobra"
   ]
  },
  {
   "cell_type": "code",
   "execution_count": null,
   "id": "5e0e1c68",
   "metadata": {},
   "outputs": [],
   "source": []
  }
 ],
 "metadata": {
  "kernelspec": {
   "display_name": "Python 3 (ipykernel)",
   "language": "python",
   "name": "python3"
  },
  "language_info": {
   "codemirror_mode": {
    "name": "ipython",
    "version": 3
   },
   "file_extension": ".py",
   "mimetype": "text/x-python",
   "name": "python",
   "nbconvert_exporter": "python",
   "pygments_lexer": "ipython3",
   "version": "3.10.9"
  }
 },
 "nbformat": 4,
 "nbformat_minor": 5
}
