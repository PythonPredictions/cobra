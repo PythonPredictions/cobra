{
 "cells": [
  {
   "cell_type": "markdown",
   "metadata": {},
   "source": [
    "# Cobra's approach to linear regression"
   ]
  },
  {
   "cell_type": "code",
   "execution_count": 167,
   "metadata": {},
   "outputs": [
    {
     "name": "stdout",
     "output_type": "stream",
     "text": [
      "The autoreload extension is already loaded. To reload it, use:\n",
      "  %reload_ext autoreload\n"
     ]
    }
   ],
   "source": [
    "import sys\n",
    "sys.path.insert(0, \"C:/Users/samuel.borms/Desktop/code/cobra\")\n",
    "%load_ext autoreload\n",
    "%autoreload 2"
   ]
  },
  {
   "cell_type": "markdown",
   "metadata": {},
   "source": [
    "Cobra requires the usual Python packages for data science, such as numpy, pandas and scikit-learn. These packages, along with their versions are listed in requirements.txt and can be installed using pip."
   ]
  },
  {
   "cell_type": "code",
   "execution_count": 168,
   "metadata": {},
   "outputs": [],
   "source": [
    "# pip install -r requirements.txt"
   ]
  },
  {
   "cell_type": "markdown",
   "metadata": {},
   "source": [
    "If you want to install Cobra with e.g. pip, you don't have to install all of these requirements as these are automatically installed with Cobra itself. Hence, the easiest way to install Cobra is using pip:"
   ]
  },
  {
   "cell_type": "code",
   "execution_count": 169,
   "metadata": {},
   "outputs": [],
   "source": [
    "# pip install -U pythonpredictions-cobra"
   ]
  },
  {
   "cell_type": "markdown",
   "metadata": {},
   "source": [
    "*****"
   ]
  },
  {
   "cell_type": "markdown",
   "metadata": {},
   "source": [
    "This section we will walk you through all the required steps to build a predictive linear regression model using **Cobra**. All classes and functions used here are well-documented. In case you want more information on a class or function, run `help(function_or_class_you_want_info_from)`."
   ]
  },
  {
   "cell_type": "markdown",
   "metadata": {},
   "source": [
    "Building a good model involves three steps:\n",
    "\n",
    "1. **Preprocessing**: properly prepare the predictors (a synonym for “feature” or variable that we use throughout this tutorial) for modelling.\n",
    "\n",
    "2. **Feature selection**: automatically select a subset of predictors which contribute most to the target variable or output in which you are interested.\n",
    "\n",
    "3. **Model evaluation**: once a model has been build, a detailed evaluation can be performed by computing all sorts of evaluation metrics.\n",
    "\n",
    "Let's dive in!\n",
    "***"
   ]
  },
  {
   "cell_type": "markdown",
   "metadata": {},
   "source": [
    "## Miles per gallon prediction\n",
    "\n",
    "- BASETABLE: seaborn dataset MPG.\n",
    "- GOAL: Predict the distance (measured in miles) that a car can travel per gallon of fuel."
   ]
  },
  {
   "cell_type": "markdown",
   "metadata": {},
   "source": [
    "Import the necessary libraries first."
   ]
  },
  {
   "cell_type": "code",
   "execution_count": 170,
   "metadata": {},
   "outputs": [],
   "source": [
    "import json\n",
    "import os\n",
    "import random\n",
    "import pandas as pd\n",
    "import numpy as np\n",
    "import seaborn as sns\n",
    "from pandas.api.types import is_datetime64_any_dtype\n",
    "from sklearn import metrics\n",
    "\n",
    "pd.set_option(\"display.max_columns\", 50)\n",
    "pd.set_option(\"display.max_rows\", 50)"
   ]
  },
  {
   "cell_type": "code",
   "execution_count": 171,
   "metadata": {},
   "outputs": [],
   "source": [
    "from cobra import __version__\n",
    "\n",
    "from cobra.preprocessing import PreProcessor\n",
    "\n",
    "from cobra.model_building import univariate_selection\n",
    "from cobra.model_building import ForwardFeatureSelection\n",
    "# from cobra.model_building import LinearRegressionModel\n",
    "\n",
    "from cobra.evaluation import RegressionEvaluator\n",
    "from cobra.evaluation import generate_pig_tables\n",
    "from cobra.evaluation import plot_univariate_predictor_quality\n",
    "from cobra.evaluation import plot_correlation_matrix\n",
    "from cobra.evaluation import plot_performance_curves\n",
    "from cobra.evaluation import plot_variable_importance\n",
    "from cobra.evaluation import plot_incidence"
   ]
  },
  {
   "cell_type": "code",
   "execution_count": 172,
   "metadata": {},
   "outputs": [
    {
     "name": "stdout",
     "output_type": "stream",
     "text": [
      "The version of Cobra being used is 1.1.1.\n"
     ]
    }
   ],
   "source": [
    "print(f\"The version of Cobra being used is {__version__}.\")"
   ]
  },
  {
   "cell_type": "code",
   "execution_count": 173,
   "metadata": {},
   "outputs": [
    {
     "data": {
      "text/html": [
       "<div>\n",
       "<style scoped>\n",
       "    .dataframe tbody tr th:only-of-type {\n",
       "        vertical-align: middle;\n",
       "    }\n",
       "\n",
       "    .dataframe tbody tr th {\n",
       "        vertical-align: top;\n",
       "    }\n",
       "\n",
       "    .dataframe thead th {\n",
       "        text-align: right;\n",
       "    }\n",
       "</style>\n",
       "<table border=\"1\" class=\"dataframe\">\n",
       "  <thead>\n",
       "    <tr style=\"text-align: right;\">\n",
       "      <th></th>\n",
       "      <th>mpg</th>\n",
       "      <th>cylinders</th>\n",
       "      <th>displacement</th>\n",
       "      <th>horsepower</th>\n",
       "      <th>weight</th>\n",
       "      <th>acceleration</th>\n",
       "      <th>model_year</th>\n",
       "      <th>origin</th>\n",
       "      <th>name</th>\n",
       "    </tr>\n",
       "  </thead>\n",
       "  <tbody>\n",
       "    <tr>\n",
       "      <th>0</th>\n",
       "      <td>18.0</td>\n",
       "      <td>8</td>\n",
       "      <td>307.0</td>\n",
       "      <td>130.0</td>\n",
       "      <td>3504</td>\n",
       "      <td>12.0</td>\n",
       "      <td>70</td>\n",
       "      <td>usa</td>\n",
       "      <td>chevrolet chevelle malibu</td>\n",
       "    </tr>\n",
       "    <tr>\n",
       "      <th>1</th>\n",
       "      <td>15.0</td>\n",
       "      <td>8</td>\n",
       "      <td>350.0</td>\n",
       "      <td>165.0</td>\n",
       "      <td>3693</td>\n",
       "      <td>11.5</td>\n",
       "      <td>70</td>\n",
       "      <td>usa</td>\n",
       "      <td>buick skylark 320</td>\n",
       "    </tr>\n",
       "    <tr>\n",
       "      <th>2</th>\n",
       "      <td>18.0</td>\n",
       "      <td>8</td>\n",
       "      <td>318.0</td>\n",
       "      <td>150.0</td>\n",
       "      <td>3436</td>\n",
       "      <td>11.0</td>\n",
       "      <td>70</td>\n",
       "      <td>usa</td>\n",
       "      <td>plymouth satellite</td>\n",
       "    </tr>\n",
       "    <tr>\n",
       "      <th>3</th>\n",
       "      <td>16.0</td>\n",
       "      <td>8</td>\n",
       "      <td>304.0</td>\n",
       "      <td>150.0</td>\n",
       "      <td>3433</td>\n",
       "      <td>12.0</td>\n",
       "      <td>70</td>\n",
       "      <td>usa</td>\n",
       "      <td>amc rebel sst</td>\n",
       "    </tr>\n",
       "    <tr>\n",
       "      <th>4</th>\n",
       "      <td>17.0</td>\n",
       "      <td>8</td>\n",
       "      <td>302.0</td>\n",
       "      <td>140.0</td>\n",
       "      <td>3449</td>\n",
       "      <td>10.5</td>\n",
       "      <td>70</td>\n",
       "      <td>usa</td>\n",
       "      <td>ford torino</td>\n",
       "    </tr>\n",
       "  </tbody>\n",
       "</table>\n",
       "</div>"
      ],
      "text/plain": [
       "    mpg  cylinders  displacement  horsepower  weight  acceleration  \\\n",
       "0  18.0          8         307.0       130.0    3504          12.0   \n",
       "1  15.0          8         350.0       165.0    3693          11.5   \n",
       "2  18.0          8         318.0       150.0    3436          11.0   \n",
       "3  16.0          8         304.0       150.0    3433          12.0   \n",
       "4  17.0          8         302.0       140.0    3449          10.5   \n",
       "\n",
       "   model_year origin                       name  \n",
       "0          70    usa  chevrolet chevelle malibu  \n",
       "1          70    usa          buick skylark 320  \n",
       "2          70    usa         plymouth satellite  \n",
       "3          70    usa              amc rebel sst  \n",
       "4          70    usa                ford torino  "
      ]
     },
     "execution_count": 173,
     "metadata": {},
     "output_type": "execute_result"
    }
   ],
   "source": [
    "df = sns.load_dataset(\"mpg\")\n",
    "df.head()"
   ]
  },
  {
   "cell_type": "markdown",
   "metadata": {},
   "source": [
    "In the example below, we assume the data for model building is available in a pandas DataFrame. This DataFrame should contain an ID column, a target column (e.g. “**mpg**”) and a number of candidate predictors (features) to build a model with.\n",
    "\n",
    "***"
   ]
  },
  {
   "cell_type": "code",
   "execution_count": 174,
   "metadata": {},
   "outputs": [
    {
     "data": {
      "text/plain": [
       "mpg             float64\n",
       "cylinders         int64\n",
       "displacement    float64\n",
       "horsepower      float64\n",
       "weight            int64\n",
       "acceleration    float64\n",
       "model_year        int64\n",
       "origin           object\n",
       "name             object\n",
       "dtype: object"
      ]
     },
     "execution_count": 174,
     "metadata": {},
     "output_type": "execute_result"
    }
   ],
   "source": [
    "df.dtypes"
   ]
  },
  {
   "cell_type": "markdown",
   "metadata": {},
   "source": [
    "It is required to set all category vars to object dtype."
   ]
  },
  {
   "cell_type": "code",
   "execution_count": 175,
   "metadata": {},
   "outputs": [],
   "source": [
    "df.loc[:, df.dtypes==\"category\"] = (df.select_dtypes([\"category\"]).apply(lambda x: x.astype(\"object\")))"
   ]
  },
  {
   "cell_type": "markdown",
   "metadata": {},
   "source": [
    "## Data preprocessing"
   ]
  },
  {
   "cell_type": "markdown",
   "metadata": {},
   "source": [
    "#### The first part focuses on preparing the predictors for modelling by:\n",
    "\n",
    "1. Defining the ID column, the target, discrete and continuous variables.\n",
    "\n",
    "2. Splitting the dataset into training, selection and validation datasets.\n",
    "\n",
    "3. Binning continuous variables into discrete intervals.\n",
    "\n",
    "4. Replacing missing values of both categorical and continuous variables (which are now binned) with an additional “Missing” bin/category.\n",
    "\n",
    "5. Regrouping categories in new category “other”.\n",
    "\n",
    "6. Replacing bins/categories with their corresponding average of the target values.\n",
    "\n",
    "*Note to user*: as any good data scientist knows, you still need to deal in your data with irregularities, such as outliers or very skewed distributions."
   ]
  },
  {
   "cell_type": "markdown",
   "metadata": {},
   "source": [
    "In this toy dataset, the index will serve as ID."
   ]
  },
  {
   "cell_type": "code",
   "execution_count": 176,
   "metadata": {},
   "outputs": [],
   "source": [
    "df[\"id\"] = df.index + 1\n",
    "id_col = \"id\""
   ]
  },
  {
   "cell_type": "markdown",
   "metadata": {},
   "source": [
    "The target is the \"MPG\" column."
   ]
  },
  {
   "cell_type": "code",
   "execution_count": 177,
   "metadata": {},
   "outputs": [
    {
     "data": {
      "text/plain": [
       "count    398.000000\n",
       "mean      23.514573\n",
       "std        7.815984\n",
       "min        9.000000\n",
       "25%       17.500000\n",
       "50%       23.000000\n",
       "75%       29.000000\n",
       "max       46.600000\n",
       "Name: mpg, dtype: float64"
      ]
     },
     "execution_count": 177,
     "metadata": {},
     "output_type": "execute_result"
    }
   ],
   "source": [
    "target_col = \"mpg\"\n",
    "df[target_col].describe()"
   ]
  },
  {
   "cell_type": "code",
   "execution_count": 178,
   "metadata": {},
   "outputs": [
    {
     "data": {
      "text/plain": [
       "(398, 10)"
      ]
     },
     "execution_count": 178,
     "metadata": {},
     "output_type": "execute_result"
    }
   ],
   "source": [
    "df.shape"
   ]
  },
  {
   "cell_type": "markdown",
   "metadata": {},
   "source": [
    "We need to find out which variables are categorical (discrete) and which are continuous.\n",
    "\n",
    "Discrete variables are definitely those that contain strings."
   ]
  },
  {
   "cell_type": "code",
   "execution_count": 179,
   "metadata": {},
   "outputs": [
    {
     "name": "stdout",
     "output_type": "stream",
     "text": [
      "['origin', 'name']\n"
     ]
    }
   ],
   "source": [
    "col_dtypes = df.dtypes\n",
    "discrete_vars = [col for col in col_dtypes[col_dtypes==object].index.tolist() if col not in [id_col, target_col]]\n",
    "print(discrete_vars)"
   ]
  },
  {
   "cell_type": "markdown",
   "metadata": {},
   "source": [
    "Next, we also check for numerical columns that only contain a few different values, thus to be interpreted as discrete, categorical variables."
   ]
  },
  {
   "cell_type": "code",
   "execution_count": 180,
   "metadata": {},
   "outputs": [
    {
     "name": "stdout",
     "output_type": "stream",
     "text": [
      "cylinders\n"
     ]
    }
   ],
   "source": [
    "for col in df.columns:\n",
    "    if col not in discrete_vars and col not in [id_col, target_col]: # omit discrete because a string, and target\n",
    "        val_counts = df[col].nunique()\n",
    "        if val_counts > 1 and val_counts <= 10: # the column contains less than 10 different values\n",
    "            print(col)"
   ]
  },
  {
   "cell_type": "markdown",
   "metadata": {},
   "source": [
    "By taking a look at the printed variables, it is clear that we have to include those in the list of discrete variables."
   ]
  },
  {
   "cell_type": "code",
   "execution_count": 181,
   "metadata": {},
   "outputs": [
    {
     "data": {
      "text/plain": [
       "['origin', 'name', 'cylinders']"
      ]
     },
     "execution_count": 181,
     "metadata": {},
     "output_type": "execute_result"
    }
   ],
   "source": [
    "discrete_vars.extend([\"cylinders\"])\n",
    "discrete_vars"
   ]
  },
  {
   "cell_type": "markdown",
   "metadata": {},
   "source": [
    "The remaining variables can be labeled continous predictors, without including the target variable."
   ]
  },
  {
   "cell_type": "code",
   "execution_count": 182,
   "metadata": {},
   "outputs": [
    {
     "data": {
      "text/plain": [
       "['horsepower', 'acceleration', 'weight', 'displacement', 'model_year']"
      ]
     },
     "execution_count": 182,
     "metadata": {},
     "output_type": "execute_result"
    }
   ],
   "source": [
    "continuous_vars = list(set(df.columns)\n",
    "                       - set(discrete_vars) \n",
    "                       - set([id_col, target_col]))\n",
    "continuous_vars                "
   ]
  },
  {
   "cell_type": "markdown",
   "metadata": {},
   "source": [
    "Now, we can prepare **Cobra's PreProcessor** object."
   ]
  },
  {
   "cell_type": "code",
   "execution_count": 183,
   "metadata": {},
   "outputs": [],
   "source": [
    "model_type = \"regression\""
   ]
  },
  {
   "cell_type": "code",
   "execution_count": 184,
   "metadata": {},
   "outputs": [
    {
     "name": "stderr",
     "output_type": "stream",
     "text": [
      "WARNING:cobra.preprocessing.target_encoder:The target encoder's additive smoothing weight is set to 0. This disables smoothing and may make the encoding prone to overfitting. Increase the weight if needed.\n"
     ]
    }
   ],
   "source": [
    "# using all Cobra's default parameters for preprocessing here\n",
    "preprocessor = PreProcessor.from_params(\n",
    "    model_type=model_type\n",
    ")\n",
    "\n",
    "# these are all available options: help(PreProcessor.from_params)"
   ]
  },
  {
   "cell_type": "markdown",
   "metadata": {},
   "source": [
    "Split the data into train-selection-validation sets."
   ]
  },
  {
   "cell_type": "code",
   "execution_count": 185,
   "metadata": {},
   "outputs": [],
   "source": [
    "random.seed(1212)\n",
    "basetable = preprocessor.train_selection_validation_split(data=df,\n",
    "                                                          train_prop=0.6,\n",
    "                                                          selection_prop=0.25,\n",
    "                                                          validation_prop=0.15)"
   ]
  },
  {
   "cell_type": "markdown",
   "metadata": {},
   "source": [
    "Fit the preprocessor pipeline."
   ]
  },
  {
   "cell_type": "code",
   "execution_count": 186,
   "metadata": {},
   "outputs": [
    {
     "name": "stderr",
     "output_type": "stream",
     "text": [
      "WARNING:root:\n",
      "Percentage of missing values per variable:\n",
      "horsepower   1.25%\n",
      "Computing discretization bins...: 100%|██████████| 5/5 [00:00<00:00, 496.58it/s]\n",
      "Discretizing columns...: 100%|██████████| 5/5 [00:00<00:00, 342.14it/s]\n",
      "Fitting category regrouping...: 100%|██████████| 3/3 [00:00<00:00, 89.97it/s]\n",
      "Fitting target encoding...:   0%|          | 0/8 [00:00<?, ?it/s]/home/patrick/github_projects/work/cobra/tutorials/../cobra/preprocessing/target_encoder.py:196: FutureWarning: The default of observed=False is deprecated and will be changed to True in a future version of pandas. Pass observed=False to retain current behavior or observed=True to adopt the future default and silence this warning.\n",
      "  stats = y.groupby(X).agg([\"mean\", \"count\"])\n",
      "/home/patrick/github_projects/work/cobra/tutorials/../cobra/preprocessing/target_encoder.py:196: FutureWarning: The default of observed=False is deprecated and will be changed to True in a future version of pandas. Pass observed=False to retain current behavior or observed=True to adopt the future default and silence this warning.\n",
      "  stats = y.groupby(X).agg([\"mean\", \"count\"])\n",
      "Fitting target encoding...: 100%|██████████| 8/8 [00:00<00:00, 390.25it/s]\n"
     ]
    }
   ],
   "source": [
    "preprocessor.fit(basetable[basetable[\"split\"]==\"train\"],\n",
    "                 continuous_vars=continuous_vars,\n",
    "                 discrete_vars=discrete_vars,\n",
    "                 target_column_name=target_col)"
   ]
  },
  {
   "cell_type": "markdown",
   "metadata": {},
   "source": [
    "This pipeline can now be performed on the basetable!"
   ]
  },
  {
   "cell_type": "code",
   "execution_count": 187,
   "metadata": {},
   "outputs": [
    {
     "name": "stderr",
     "output_type": "stream",
     "text": [
      "Discretizing columns...: 100%|██████████| 5/5 [00:00<00:00, 262.46it/s]\n",
      "Applying target encoding...: 100%|██████████| 8/8 [00:00<00:00, 474.13it/s]\n"
     ]
    },
    {
     "data": {
      "text/html": [
       "<div>\n",
       "<style scoped>\n",
       "    .dataframe tbody tr th:only-of-type {\n",
       "        vertical-align: middle;\n",
       "    }\n",
       "\n",
       "    .dataframe tbody tr th {\n",
       "        vertical-align: top;\n",
       "    }\n",
       "\n",
       "    .dataframe thead th {\n",
       "        text-align: right;\n",
       "    }\n",
       "</style>\n",
       "<table border=\"1\" class=\"dataframe\">\n",
       "  <thead>\n",
       "    <tr style=\"text-align: right;\">\n",
       "      <th></th>\n",
       "      <th>mpg</th>\n",
       "      <th>cylinders</th>\n",
       "      <th>displacement</th>\n",
       "      <th>horsepower</th>\n",
       "      <th>weight</th>\n",
       "      <th>acceleration</th>\n",
       "      <th>model_year</th>\n",
       "      <th>origin</th>\n",
       "      <th>name</th>\n",
       "      <th>id</th>\n",
       "      <th>split</th>\n",
       "      <th>horsepower_bin</th>\n",
       "      <th>acceleration_bin</th>\n",
       "      <th>weight_bin</th>\n",
       "      <th>displacement_bin</th>\n",
       "      <th>model_year_bin</th>\n",
       "      <th>origin_processed</th>\n",
       "      <th>name_processed</th>\n",
       "      <th>cylinders_processed</th>\n",
       "      <th>origin_enc</th>\n",
       "      <th>name_enc</th>\n",
       "      <th>cylinders_enc</th>\n",
       "      <th>horsepower_enc</th>\n",
       "      <th>acceleration_enc</th>\n",
       "      <th>weight_enc</th>\n",
       "      <th>displacement_enc</th>\n",
       "      <th>model_year_enc</th>\n",
       "    </tr>\n",
       "  </thead>\n",
       "  <tbody>\n",
       "    <tr>\n",
       "      <th>0</th>\n",
       "      <td>18.0</td>\n",
       "      <td>8</td>\n",
       "      <td>307.0</td>\n",
       "      <td>130.0</td>\n",
       "      <td>3504</td>\n",
       "      <td>12.0</td>\n",
       "      <td>70</td>\n",
       "      <td>usa</td>\n",
       "      <td>chevrolet chevelle malibu</td>\n",
       "      <td>1</td>\n",
       "      <td>validation</td>\n",
       "      <td>113.0 - 145.0</td>\n",
       "      <td>8.0 - 12.0</td>\n",
       "      <td>3432.0 - 3883.0</td>\n",
       "      <td>250.0 - 318.0</td>\n",
       "      <td>70.0 - 71.0</td>\n",
       "      <td>usa</td>\n",
       "      <td>chevrolet chevelle malibu</td>\n",
       "      <td>8</td>\n",
       "      <td>20.35871</td>\n",
       "      <td>17.0</td>\n",
       "      <td>15.051515</td>\n",
       "      <td>18.769231</td>\n",
       "      <td>16.185185</td>\n",
       "      <td>17.129167</td>\n",
       "      <td>16.793333</td>\n",
       "      <td>19.057143</td>\n",
       "    </tr>\n",
       "    <tr>\n",
       "      <th>1</th>\n",
       "      <td>15.0</td>\n",
       "      <td>8</td>\n",
       "      <td>350.0</td>\n",
       "      <td>165.0</td>\n",
       "      <td>3693</td>\n",
       "      <td>11.5</td>\n",
       "      <td>70</td>\n",
       "      <td>usa</td>\n",
       "      <td>buick skylark 320</td>\n",
       "      <td>2</td>\n",
       "      <td>train</td>\n",
       "      <td>162.0 - 230.0</td>\n",
       "      <td>8.0 - 12.0</td>\n",
       "      <td>3432.0 - 3883.0</td>\n",
       "      <td>318.0 - 350.0</td>\n",
       "      <td>70.0 - 71.0</td>\n",
       "      <td>usa</td>\n",
       "      <td>buick skylark 320</td>\n",
       "      <td>8</td>\n",
       "      <td>20.35871</td>\n",
       "      <td>15.0</td>\n",
       "      <td>15.051515</td>\n",
       "      <td>13.612500</td>\n",
       "      <td>16.185185</td>\n",
       "      <td>17.129167</td>\n",
       "      <td>15.035294</td>\n",
       "      <td>19.057143</td>\n",
       "    </tr>\n",
       "    <tr>\n",
       "      <th>2</th>\n",
       "      <td>18.0</td>\n",
       "      <td>8</td>\n",
       "      <td>318.0</td>\n",
       "      <td>150.0</td>\n",
       "      <td>3436</td>\n",
       "      <td>11.0</td>\n",
       "      <td>70</td>\n",
       "      <td>usa</td>\n",
       "      <td>plymouth satellite</td>\n",
       "      <td>3</td>\n",
       "      <td>train</td>\n",
       "      <td>145.0 - 162.0</td>\n",
       "      <td>8.0 - 12.0</td>\n",
       "      <td>3432.0 - 3883.0</td>\n",
       "      <td>250.0 - 318.0</td>\n",
       "      <td>70.0 - 71.0</td>\n",
       "      <td>usa</td>\n",
       "      <td>plymouth satellite</td>\n",
       "      <td>8</td>\n",
       "      <td>20.35871</td>\n",
       "      <td>18.0</td>\n",
       "      <td>15.051515</td>\n",
       "      <td>14.380952</td>\n",
       "      <td>16.185185</td>\n",
       "      <td>17.129167</td>\n",
       "      <td>16.793333</td>\n",
       "      <td>19.057143</td>\n",
       "    </tr>\n",
       "    <tr>\n",
       "      <th>3</th>\n",
       "      <td>16.0</td>\n",
       "      <td>8</td>\n",
       "      <td>304.0</td>\n",
       "      <td>150.0</td>\n",
       "      <td>3433</td>\n",
       "      <td>12.0</td>\n",
       "      <td>70</td>\n",
       "      <td>usa</td>\n",
       "      <td>amc rebel sst</td>\n",
       "      <td>4</td>\n",
       "      <td>train</td>\n",
       "      <td>145.0 - 162.0</td>\n",
       "      <td>8.0 - 12.0</td>\n",
       "      <td>3432.0 - 3883.0</td>\n",
       "      <td>250.0 - 318.0</td>\n",
       "      <td>70.0 - 71.0</td>\n",
       "      <td>usa</td>\n",
       "      <td>amc rebel sst</td>\n",
       "      <td>8</td>\n",
       "      <td>20.35871</td>\n",
       "      <td>16.0</td>\n",
       "      <td>15.051515</td>\n",
       "      <td>14.380952</td>\n",
       "      <td>16.185185</td>\n",
       "      <td>17.129167</td>\n",
       "      <td>16.793333</td>\n",
       "      <td>19.057143</td>\n",
       "    </tr>\n",
       "    <tr>\n",
       "      <th>4</th>\n",
       "      <td>17.0</td>\n",
       "      <td>8</td>\n",
       "      <td>302.0</td>\n",
       "      <td>140.0</td>\n",
       "      <td>3449</td>\n",
       "      <td>10.5</td>\n",
       "      <td>70</td>\n",
       "      <td>usa</td>\n",
       "      <td>ford torino</td>\n",
       "      <td>5</td>\n",
       "      <td>train</td>\n",
       "      <td>113.0 - 145.0</td>\n",
       "      <td>8.0 - 12.0</td>\n",
       "      <td>3432.0 - 3883.0</td>\n",
       "      <td>250.0 - 318.0</td>\n",
       "      <td>70.0 - 71.0</td>\n",
       "      <td>usa</td>\n",
       "      <td>ford torino</td>\n",
       "      <td>8</td>\n",
       "      <td>20.35871</td>\n",
       "      <td>17.0</td>\n",
       "      <td>15.051515</td>\n",
       "      <td>18.769231</td>\n",
       "      <td>16.185185</td>\n",
       "      <td>17.129167</td>\n",
       "      <td>16.793333</td>\n",
       "      <td>19.057143</td>\n",
       "    </tr>\n",
       "  </tbody>\n",
       "</table>\n",
       "</div>"
      ],
      "text/plain": [
       "    mpg  cylinders  displacement  horsepower  weight  acceleration  \\\n",
       "0  18.0          8         307.0       130.0    3504          12.0   \n",
       "1  15.0          8         350.0       165.0    3693          11.5   \n",
       "2  18.0          8         318.0       150.0    3436          11.0   \n",
       "3  16.0          8         304.0       150.0    3433          12.0   \n",
       "4  17.0          8         302.0       140.0    3449          10.5   \n",
       "\n",
       "   model_year origin                       name  id       split  \\\n",
       "0          70    usa  chevrolet chevelle malibu   1  validation   \n",
       "1          70    usa          buick skylark 320   2       train   \n",
       "2          70    usa         plymouth satellite   3       train   \n",
       "3          70    usa              amc rebel sst   4       train   \n",
       "4          70    usa                ford torino   5       train   \n",
       "\n",
       "  horsepower_bin acceleration_bin       weight_bin displacement_bin  \\\n",
       "0  113.0 - 145.0       8.0 - 12.0  3432.0 - 3883.0    250.0 - 318.0   \n",
       "1  162.0 - 230.0       8.0 - 12.0  3432.0 - 3883.0    318.0 - 350.0   \n",
       "2  145.0 - 162.0       8.0 - 12.0  3432.0 - 3883.0    250.0 - 318.0   \n",
       "3  145.0 - 162.0       8.0 - 12.0  3432.0 - 3883.0    250.0 - 318.0   \n",
       "4  113.0 - 145.0       8.0 - 12.0  3432.0 - 3883.0    250.0 - 318.0   \n",
       "\n",
       "  model_year_bin origin_processed             name_processed  \\\n",
       "0    70.0 - 71.0              usa  chevrolet chevelle malibu   \n",
       "1    70.0 - 71.0              usa          buick skylark 320   \n",
       "2    70.0 - 71.0              usa         plymouth satellite   \n",
       "3    70.0 - 71.0              usa              amc rebel sst   \n",
       "4    70.0 - 71.0              usa                ford torino   \n",
       "\n",
       "  cylinders_processed  origin_enc  name_enc  cylinders_enc  horsepower_enc  \\\n",
       "0                   8    20.35871      17.0      15.051515       18.769231   \n",
       "1                   8    20.35871      15.0      15.051515       13.612500   \n",
       "2                   8    20.35871      18.0      15.051515       14.380952   \n",
       "3                   8    20.35871      16.0      15.051515       14.380952   \n",
       "4                   8    20.35871      17.0      15.051515       18.769231   \n",
       "\n",
       "   acceleration_enc  weight_enc  displacement_enc  model_year_enc  \n",
       "0         16.185185   17.129167         16.793333       19.057143  \n",
       "1         16.185185   17.129167         15.035294       19.057143  \n",
       "2         16.185185   17.129167         16.793333       19.057143  \n",
       "3         16.185185   17.129167         16.793333       19.057143  \n",
       "4         16.185185   17.129167         16.793333       19.057143  "
      ]
     },
     "execution_count": 187,
     "metadata": {},
     "output_type": "execute_result"
    }
   ],
   "source": [
    "basetable = preprocessor.transform(basetable,\n",
    "                                   continuous_vars=continuous_vars,\n",
    "                                   discrete_vars=discrete_vars)\n",
    "basetable.head()"
   ]
  },
  {
   "cell_type": "markdown",
   "metadata": {},
   "source": [
    "## Predictor Insights Graphs"
   ]
  },
  {
   "cell_type": "markdown",
   "metadata": {},
   "source": [
    "Next, we can the create the so-called Predictor Insights Graphs (PIGs in short). These are graphs that represents the insights of the relationship between a single predictor and the target. More specifically, the predictor is binned into groups, and we represent group size in bars and group target mean in a colored line. Moreover, we have the option to force order of predictor values. First, we compute the output needed to plot the PIG."
   ]
  },
  {
   "cell_type": "code",
   "execution_count": 188,
   "metadata": {},
   "outputs": [
    {
     "name": "stderr",
     "output_type": "stream",
     "text": [
      "/home/patrick/github_projects/work/cobra/tutorials/../cobra/evaluation/pigs_tables.py:80: FutureWarning: The default of observed=False is deprecated and will be changed to True in a future version of pandas. Pass observed=False to retain current behavior or observed=True to adopt the future default and silence this warning.\n",
      "  res = (basetable.groupby(predictor_column_name)\n",
      "/home/patrick/github_projects/work/cobra/tutorials/../cobra/evaluation/pigs_tables.py:80: FutureWarning: The default of observed=False is deprecated and will be changed to True in a future version of pandas. Pass observed=False to retain current behavior or observed=True to adopt the future default and silence this warning.\n",
      "  res = (basetable.groupby(predictor_column_name)\n",
      "/home/patrick/github_projects/work/cobra/tutorials/../cobra/evaluation/pigs_tables.py:80: FutureWarning: The default of observed=False is deprecated and will be changed to True in a future version of pandas. Pass observed=False to retain current behavior or observed=True to adopt the future default and silence this warning.\n",
      "  res = (basetable.groupby(predictor_column_name)\n",
      "/home/patrick/github_projects/work/cobra/tutorials/../cobra/evaluation/pigs_tables.py:80: FutureWarning: The default of observed=False is deprecated and will be changed to True in a future version of pandas. Pass observed=False to retain current behavior or observed=True to adopt the future default and silence this warning.\n",
      "  res = (basetable.groupby(predictor_column_name)\n",
      "/home/patrick/github_projects/work/cobra/tutorials/../cobra/evaluation/pigs_tables.py:80: FutureWarning: The default of observed=False is deprecated and will be changed to True in a future version of pandas. Pass observed=False to retain current behavior or observed=True to adopt the future default and silence this warning.\n",
      "  res = (basetable.groupby(predictor_column_name)\n",
      "/home/patrick/github_projects/work/cobra/tutorials/../cobra/evaluation/pigs_tables.py:80: FutureWarning: The default of observed=False is deprecated and will be changed to True in a future version of pandas. Pass observed=False to retain current behavior or observed=True to adopt the future default and silence this warning.\n",
      "  res = (basetable.groupby(predictor_column_name)\n",
      "/home/patrick/github_projects/work/cobra/tutorials/../cobra/evaluation/pigs_tables.py:80: FutureWarning: The default of observed=False is deprecated and will be changed to True in a future version of pandas. Pass observed=False to retain current behavior or observed=True to adopt the future default and silence this warning.\n",
      "  res = (basetable.groupby(predictor_column_name)\n"
     ]
    },
    {
     "data": {
      "text/html": [
       "<div>\n",
       "<style scoped>\n",
       "    .dataframe tbody tr th:only-of-type {\n",
       "        vertical-align: middle;\n",
       "    }\n",
       "\n",
       "    .dataframe tbody tr th {\n",
       "        vertical-align: top;\n",
       "    }\n",
       "\n",
       "    .dataframe thead th {\n",
       "        text-align: right;\n",
       "    }\n",
       "</style>\n",
       "<table border=\"1\" class=\"dataframe\">\n",
       "  <thead>\n",
       "    <tr style=\"text-align: right;\">\n",
       "      <th></th>\n",
       "      <th>variable</th>\n",
       "      <th>label</th>\n",
       "      <th>pop_size</th>\n",
       "      <th>global_avg_target</th>\n",
       "      <th>avg_target</th>\n",
       "    </tr>\n",
       "  </thead>\n",
       "  <tbody>\n",
       "    <tr>\n",
       "      <th>0</th>\n",
       "      <td>acceleration</td>\n",
       "      <td>8.0 - 12.0</td>\n",
       "      <td>0.112500</td>\n",
       "      <td>23.540833</td>\n",
       "      <td>16.185185</td>\n",
       "    </tr>\n",
       "    <tr>\n",
       "      <th>1</th>\n",
       "      <td>acceleration</td>\n",
       "      <td>12.0 - 13.4</td>\n",
       "      <td>0.095833</td>\n",
       "      <td>23.540833</td>\n",
       "      <td>18.069565</td>\n",
       "    </tr>\n",
       "    <tr>\n",
       "      <th>2</th>\n",
       "      <td>acceleration</td>\n",
       "      <td>13.4 - 14.0</td>\n",
       "      <td>0.095833</td>\n",
       "      <td>23.540833</td>\n",
       "      <td>17.560870</td>\n",
       "    </tr>\n",
       "    <tr>\n",
       "      <th>3</th>\n",
       "      <td>acceleration</td>\n",
       "      <td>14.0 - 14.8</td>\n",
       "      <td>0.104167</td>\n",
       "      <td>23.540833</td>\n",
       "      <td>26.832000</td>\n",
       "    </tr>\n",
       "    <tr>\n",
       "      <th>4</th>\n",
       "      <td>acceleration</td>\n",
       "      <td>14.8 - 15.5</td>\n",
       "      <td>0.129167</td>\n",
       "      <td>23.540833</td>\n",
       "      <td>23.645161</td>\n",
       "    </tr>\n",
       "    <tr>\n",
       "      <th>...</th>\n",
       "      <td>...</td>\n",
       "      <td>...</td>\n",
       "      <td>...</td>\n",
       "      <td>...</td>\n",
       "      <td>...</td>\n",
       "    </tr>\n",
       "    <tr>\n",
       "      <th>249</th>\n",
       "      <td>weight</td>\n",
       "      <td>2792.0 - 3076.0</td>\n",
       "      <td>0.100000</td>\n",
       "      <td>23.540833</td>\n",
       "      <td>22.729167</td>\n",
       "    </tr>\n",
       "    <tr>\n",
       "      <th>250</th>\n",
       "      <td>weight</td>\n",
       "      <td>3076.0 - 3432.0</td>\n",
       "      <td>0.100000</td>\n",
       "      <td>23.540833</td>\n",
       "      <td>19.800000</td>\n",
       "    </tr>\n",
       "    <tr>\n",
       "      <th>251</th>\n",
       "      <td>weight</td>\n",
       "      <td>3432.0 - 3883.0</td>\n",
       "      <td>0.100000</td>\n",
       "      <td>23.540833</td>\n",
       "      <td>17.129167</td>\n",
       "    </tr>\n",
       "    <tr>\n",
       "      <th>252</th>\n",
       "      <td>weight</td>\n",
       "      <td>3883.0 - 4280.0</td>\n",
       "      <td>0.100000</td>\n",
       "      <td>23.540833</td>\n",
       "      <td>15.250000</td>\n",
       "    </tr>\n",
       "    <tr>\n",
       "      <th>253</th>\n",
       "      <td>weight</td>\n",
       "      <td>4280.0 - 5140.0</td>\n",
       "      <td>0.100000</td>\n",
       "      <td>23.540833</td>\n",
       "      <td>13.229167</td>\n",
       "    </tr>\n",
       "  </tbody>\n",
       "</table>\n",
       "<p>254 rows × 5 columns</p>\n",
       "</div>"
      ],
      "text/plain": [
       "         variable            label  pop_size  global_avg_target  avg_target\n",
       "0    acceleration       8.0 - 12.0  0.112500          23.540833   16.185185\n",
       "1    acceleration      12.0 - 13.4  0.095833          23.540833   18.069565\n",
       "2    acceleration      13.4 - 14.0  0.095833          23.540833   17.560870\n",
       "3    acceleration      14.0 - 14.8  0.104167          23.540833   26.832000\n",
       "4    acceleration      14.8 - 15.5  0.129167          23.540833   23.645161\n",
       "..            ...              ...       ...                ...         ...\n",
       "249        weight  2792.0 - 3076.0  0.100000          23.540833   22.729167\n",
       "250        weight  3076.0 - 3432.0  0.100000          23.540833   19.800000\n",
       "251        weight  3432.0 - 3883.0  0.100000          23.540833   17.129167\n",
       "252        weight  3883.0 - 4280.0  0.100000          23.540833   15.250000\n",
       "253        weight  4280.0 - 5140.0  0.100000          23.540833   13.229167\n",
       "\n",
       "[254 rows x 5 columns]"
      ]
     },
     "execution_count": 188,
     "metadata": {},
     "output_type": "execute_result"
    }
   ],
   "source": [
    "predictor_list = [col for col in basetable.columns if col.endswith(\"_bin\") or col.endswith(\"_processed\")]\n",
    "pig_tables = generate_pig_tables(basetable[basetable[\"split\"]==\"train\"],\n",
    "                                 id_column_name=id_col,\n",
    "                                 target_column_name=target_col,\n",
    "                                 preprocessed_predictors=predictor_list)\n",
    "pig_tables"
   ]
  },
  {
   "cell_type": "markdown",
   "metadata": {},
   "source": [
    "Then, we can plot a PIG graph for each of the predictors in the basetable. For instance, for the variable \"acceleration\"."
   ]
  },
  {
   "cell_type": "code",
   "execution_count": 189,
   "metadata": {
    "scrolled": true
   },
   "outputs": [
    {
     "ename": "TypeError",
     "evalue": "Categorical.reorder_categories() got an unexpected keyword argument 'inplace'",
     "output_type": "error",
     "traceback": [
      "\u001b[0;31m---------------------------------------------------------------------------\u001b[0m",
      "\u001b[0;31mTypeError\u001b[0m                                 Traceback (most recent call last)",
      "\u001b[1;32m/home/patrick/github_projects/work/cobra/tutorials/tutorial_Cobra_linear_regression.ipynb Cell 48\u001b[0m line \u001b[0;36m2\n\u001b[1;32m      <a href='vscode-notebook-cell://wsl%2Bubuntu/home/patrick/github_projects/work/cobra/tutorials/tutorial_Cobra_linear_regression.ipynb#Y251sdnNjb2RlLXJlbW90ZQ%3D%3D?line=0'>1</a>\u001b[0m col_order \u001b[39m=\u001b[39m \u001b[39mlist\u001b[39m(basetable[\u001b[39m\"\u001b[39m\u001b[39mhorsepower_bin\u001b[39m\u001b[39m\"\u001b[39m]\u001b[39m.\u001b[39munique()\u001b[39m.\u001b[39msort_values())\n\u001b[0;32m----> <a href='vscode-notebook-cell://wsl%2Bubuntu/home/patrick/github_projects/work/cobra/tutorials/tutorial_Cobra_linear_regression.ipynb#Y251sdnNjb2RlLXJlbW90ZQ%3D%3D?line=1'>2</a>\u001b[0m plot_incidence(pig_tables, variable\u001b[39m=\u001b[39;49m\u001b[39m\"\u001b[39;49m\u001b[39mhorsepower\u001b[39;49m\u001b[39m\"\u001b[39;49m, model_type\u001b[39m=\u001b[39;49mmodel_type, column_order\u001b[39m=\u001b[39;49mcol_order)\n",
      "File \u001b[0;32m~/github_projects/work/cobra/tutorials/../cobra/evaluation/pigs_tables.py:148\u001b[0m, in \u001b[0;36mplot_incidence\u001b[0;34m(pig_tables, variable, model_type, column_order, dim)\u001b[0m\n\u001b[1;32m    143\u001b[0m     \u001b[39mraise\u001b[39;00m \u001b[39mValueError\u001b[39;00m(\n\u001b[1;32m    144\u001b[0m         \u001b[39m'\u001b[39m\u001b[39mThe column_order and pig_tables parameters do not contain \u001b[39m\u001b[39m'\u001b[39m\n\u001b[1;32m    145\u001b[0m         \u001b[39m'\u001b[39m\u001b[39mthe same set of variables.\u001b[39m\u001b[39m'\u001b[39m)\n\u001b[1;32m    147\u001b[0m df_plot[\u001b[39m'\u001b[39m\u001b[39mlabel\u001b[39m\u001b[39m'\u001b[39m] \u001b[39m=\u001b[39m df_plot[\u001b[39m'\u001b[39m\u001b[39mlabel\u001b[39m\u001b[39m'\u001b[39m]\u001b[39m.\u001b[39mastype(\u001b[39m'\u001b[39m\u001b[39mcategory\u001b[39m\u001b[39m'\u001b[39m)\n\u001b[0;32m--> 148\u001b[0m df_plot[\u001b[39m'\u001b[39;49m\u001b[39mlabel\u001b[39;49m\u001b[39m'\u001b[39;49m]\u001b[39m.\u001b[39;49mcat\u001b[39m.\u001b[39;49mreorder_categories(column_order,\n\u001b[1;32m    149\u001b[0m                                         inplace\u001b[39m=\u001b[39;49m\u001b[39mTrue\u001b[39;49;00m)\n\u001b[1;32m    151\u001b[0m df_plot\u001b[39m.\u001b[39msort_values(by\u001b[39m=\u001b[39m[\u001b[39m'\u001b[39m\u001b[39mlabel\u001b[39m\u001b[39m'\u001b[39m], ascending\u001b[39m=\u001b[39m\u001b[39mTrue\u001b[39;00m, inplace\u001b[39m=\u001b[39m\u001b[39mTrue\u001b[39;00m)\n\u001b[1;32m    152\u001b[0m df_plot\u001b[39m.\u001b[39mreset_index(inplace\u001b[39m=\u001b[39m\u001b[39mTrue\u001b[39;00m)\n",
      "File \u001b[0;32m~/miniconda3/envs/cobra_dev/lib/python3.11/site-packages/pandas/core/accessor.py:112\u001b[0m, in \u001b[0;36mPandasDelegate._add_delegate_accessors.<locals>._create_delegator_method.<locals>.f\u001b[0;34m(self, *args, **kwargs)\u001b[0m\n\u001b[1;32m    111\u001b[0m \u001b[39mdef\u001b[39;00m \u001b[39mf\u001b[39m(\u001b[39mself\u001b[39m, \u001b[39m*\u001b[39margs, \u001b[39m*\u001b[39m\u001b[39m*\u001b[39mkwargs):\n\u001b[0;32m--> 112\u001b[0m     \u001b[39mreturn\u001b[39;00m \u001b[39mself\u001b[39;49m\u001b[39m.\u001b[39;49m_delegate_method(name, \u001b[39m*\u001b[39;49margs, \u001b[39m*\u001b[39;49m\u001b[39m*\u001b[39;49mkwargs)\n",
      "File \u001b[0;32m~/miniconda3/envs/cobra_dev/lib/python3.11/site-packages/pandas/core/arrays/categorical.py:2893\u001b[0m, in \u001b[0;36mCategoricalAccessor._delegate_method\u001b[0;34m(self, name, *args, **kwargs)\u001b[0m\n\u001b[1;32m   2890\u001b[0m \u001b[39mfrom\u001b[39;00m \u001b[39mpandas\u001b[39;00m \u001b[39mimport\u001b[39;00m Series\n\u001b[1;32m   2892\u001b[0m method \u001b[39m=\u001b[39m \u001b[39mgetattr\u001b[39m(\u001b[39mself\u001b[39m\u001b[39m.\u001b[39m_parent, name)\n\u001b[0;32m-> 2893\u001b[0m res \u001b[39m=\u001b[39m method(\u001b[39m*\u001b[39;49margs, \u001b[39m*\u001b[39;49m\u001b[39m*\u001b[39;49mkwargs)\n\u001b[1;32m   2894\u001b[0m \u001b[39mif\u001b[39;00m res \u001b[39mis\u001b[39;00m \u001b[39mnot\u001b[39;00m \u001b[39mNone\u001b[39;00m:\n\u001b[1;32m   2895\u001b[0m     \u001b[39mreturn\u001b[39;00m Series(res, index\u001b[39m=\u001b[39m\u001b[39mself\u001b[39m\u001b[39m.\u001b[39m_index, name\u001b[39m=\u001b[39m\u001b[39mself\u001b[39m\u001b[39m.\u001b[39m_name)\n",
      "\u001b[0;31mTypeError\u001b[0m: Categorical.reorder_categories() got an unexpected keyword argument 'inplace'"
     ]
    }
   ],
   "source": [
    "col_order = list(basetable[\"horsepower_bin\"].unique().sort_values())\n",
    "plot_incidence(pig_tables, variable=\"horsepower\", model_type=model_type, column_order=col_order)"
   ]
  },
  {
   "cell_type": "code",
   "execution_count": null,
   "metadata": {},
   "outputs": [
    {
     "data": {
      "text/plain": [
       "array(['validation', 'train', 'selection'], dtype=object)"
      ]
     },
     "execution_count": 24,
     "metadata": {},
     "output_type": "execute_result"
    }
   ],
   "source": [
    "basetable[\"split\"].unique()"
   ]
  },
  {
   "cell_type": "markdown",
   "metadata": {},
   "source": [
    "## Feature selection"
   ]
  },
  {
   "cell_type": "markdown",
   "metadata": {},
   "source": [
    "Once the predictors are properly prepared, we can start building a predictive model, which boils down to selecting the right predictors from the dataset to train a model on.\n",
    "\n",
    "As a dataset typically contains many predictors, **we first perform a univariate preselection** to rule out any predictor with little to no predictive power. \n",
    "\n",
    "Later, using the list of preselected features, we build a multiple regression model using **forward feature selection** to choose the right set of predictors."
   ]
  },
  {
   "cell_type": "markdown",
   "metadata": {},
   "source": [
    "In previous steps, these were the predictors, as preprocessed so far:"
   ]
  },
  {
   "cell_type": "code",
   "execution_count": null,
   "metadata": {},
   "outputs": [
    {
     "data": {
      "text/plain": [
       "['acceleration_bin',\n",
       " 'cylinders_processed',\n",
       " 'displacement_bin',\n",
       " 'horsepower_bin',\n",
       " 'model_year_bin',\n",
       " 'name_processed',\n",
       " 'origin_processed',\n",
       " 'weight_bin']"
      ]
     },
     "execution_count": 25,
     "metadata": {},
     "output_type": "execute_result"
    }
   ],
   "source": [
    "preprocessed_predictors = [\n",
    "    col for col in basetable.columns\n",
    "    if col.endswith(\"_bin\") or col.endswith(\"_processed\")\n",
    "]\n",
    "sorted(preprocessed_predictors)"
   ]
  },
  {
   "cell_type": "markdown",
   "metadata": {},
   "source": [
    "But for feature selection, we use the target encoded version of each of these."
   ]
  },
  {
   "cell_type": "code",
   "execution_count": null,
   "metadata": {},
   "outputs": [],
   "source": [
    "preprocessed_predictors = [col for col in basetable.columns.tolist() if \"_enc\" in col]"
   ]
  },
  {
   "cell_type": "markdown",
   "metadata": {},
   "source": [
    "A univariate selection on the preprocessed predictors is conducted. The thresholds for retaining a feature can be changed by the user, for instance both at 10 for now."
   ]
  },
  {
   "cell_type": "code",
   "execution_count": null,
   "metadata": {},
   "outputs": [
    {
     "data": {
      "image/png": "[encoded data removed]",
      "text/plain": [
       "<Figure size 864x576 with 1 Axes>"
      ]
     },
     "metadata": {},
     "output_type": "display_data"
    }
   ],
   "source": [
    "df_rmse = univariate_selection.compute_univariate_preselection(\n",
    "    target_enc_train_data=basetable[basetable[\"split\"]==\"train\"],\n",
    "    target_enc_selection_data=basetable[basetable[\"split\"]==\"selection\"],\n",
    "    predictors=preprocessed_predictors,\n",
    "    target_column=target_col,\n",
    "    model_type=model_type,\n",
    "    preselect_rmse_threshold=10, # max. RMSE for selection\n",
    "    preselect_overtrain_threshold=10) # difference between RMSE on train and selection set\n",
    "\n",
    "# as the square root of a variance, RMSE can be interpreted as the standard deviation of \n",
    "# the unexplained variance, and has the useful property of being in the same unit as the response variable\n",
    "# lower values of RMSE indicate better fit\n",
    "\n",
    "plot_univariate_predictor_quality(df_rmse)"
   ]
  },
  {
   "cell_type": "markdown",
   "metadata": {},
   "source": [
    "Next, we compute correlations between the preprocessed predictors and plot it using a correlation matrix."
   ]
  },
  {
   "cell_type": "code",
   "execution_count": null,
   "metadata": {},
   "outputs": [
    {
     "name": "stdout",
     "output_type": "stream",
     "text": [
      "                origin      name  cylinders    weight  model_year  \\\n",
      "origin        1.000000  0.562702   0.550413  0.592037    0.169058   \n",
      "name          0.562702  1.000000   0.798929  0.854352    0.591282   \n",
      "cylinders     0.550413  0.798929   1.000000  0.876777    0.344348   \n",
      "weight        0.592037  0.854352   0.876777  1.000000    0.300008   \n",
      "model_year    0.169058  0.591282   0.344348  0.300008    1.000000   \n",
      "displacement  0.654441  0.835537   0.895527  0.941594    0.334152   \n",
      "horsepower    0.517409  0.832600   0.812487  0.878684    0.397575   \n",
      "acceleration  0.292586  0.561621   0.640407  0.550888    0.347110   \n",
      "\n",
      "              displacement  horsepower  acceleration  \n",
      "origin            0.654441    0.517409      0.292586  \n",
      "name              0.835537    0.832600      0.561621  \n",
      "cylinders         0.895527    0.812487      0.640407  \n",
      "weight            0.941594    0.878684      0.550888  \n",
      "model_year        0.334152    0.397575      0.347110  \n",
      "displacement      1.000000    0.879012      0.586090  \n",
      "horsepower        0.879012    1.000000      0.695982  \n",
      "acceleration      0.586090    0.695982      1.000000  \n"
     ]
    }
   ],
   "source": [
    "# compute correlations between preprocessed predictors\n",
    "df_corr = (univariate_selection\n",
    "           .compute_correlations(basetable[basetable[\"split\"]==\"train\"],\n",
    "                                 preprocessed_predictors))\n",
    "print(df_corr)"
   ]
  },
  {
   "cell_type": "code",
   "execution_count": null,
   "metadata": {},
   "outputs": [
    {
     "data": {
      "image/png": "[encoded data removed]",
      "text/plain": [
       "<Figure size 864x576 with 2 Axes>"
      ]
     },
     "metadata": {
      "needs_background": "light"
     },
     "output_type": "display_data"
    }
   ],
   "source": [
    "# plot correlation matrix\n",
    "plot_correlation_matrix(df_corr)"
   ]
  },
  {
   "cell_type": "markdown",
   "metadata": {},
   "source": [
    "To get a list of the selected predictors after the univariate selection, run the following cell."
   ]
  },
  {
   "cell_type": "code",
   "execution_count": null,
   "metadata": {},
   "outputs": [
    {
     "data": {
      "text/plain": [
       "['weight_enc',\n",
       " 'displacement_enc',\n",
       " 'horsepower_enc',\n",
       " 'cylinders_enc',\n",
       " 'origin_enc',\n",
       " 'model_year_enc',\n",
       " 'name_enc',\n",
       " 'acceleration_enc']"
      ]
     },
     "execution_count": 30,
     "metadata": {},
     "output_type": "execute_result"
    }
   ],
   "source": [
    "preselected_predictors = univariate_selection.get_preselected_predictors(df_rmse)\n",
    "preselected_predictors"
   ]
  },
  {
   "cell_type": "markdown",
   "metadata": {},
   "source": [
    "After an initial preselection on the predictors, we can start building the model itself using forward feature selection to choose the right set of predictors. Since we use target encoding on all our predictors, we will only consider models with positive coefficients (no sign flip should occur) as this makes the model more interpretable."
   ]
  },
  {
   "cell_type": "markdown",
   "metadata": {},
   "source": [
    "## Modelling"
   ]
  },
  {
   "cell_type": "code",
   "execution_count": null,
   "metadata": {},
   "outputs": [
    {
     "data": {
      "application/vnd.jupyter.widget-view+json": {
       "model_id": "083107d2da854d5cb5e28549ff1629a7",
       "version_major": 2,
       "version_minor": 0
      },
      "text/plain": [
       "Sequentially adding best predictor...:   0%|          | 0/8 [00:00<?, ?it/s]"
      ]
     },
     "metadata": {},
     "output_type": "display_data"
    },
    {
     "data": {
      "text/html": [
       "<div>\n",
       "<style scoped>\n",
       "    .dataframe tbody tr th:only-of-type {\n",
       "        vertical-align: middle;\n",
       "    }\n",
       "\n",
       "    .dataframe tbody tr th {\n",
       "        vertical-align: top;\n",
       "    }\n",
       "\n",
       "    .dataframe thead th {\n",
       "        text-align: right;\n",
       "    }\n",
       "</style>\n",
       "<table border=\"1\" class=\"dataframe\">\n",
       "  <thead>\n",
       "    <tr style=\"text-align: right;\">\n",
       "      <th></th>\n",
       "      <th>predictors</th>\n",
       "      <th>last_added_predictor</th>\n",
       "      <th>train_performance</th>\n",
       "      <th>selection_performance</th>\n",
       "      <th>validation_performance</th>\n",
       "      <th>model_type</th>\n",
       "    </tr>\n",
       "  </thead>\n",
       "  <tbody>\n",
       "    <tr>\n",
       "      <th>0</th>\n",
       "      <td>[weight_enc]</td>\n",
       "      <td>weight_enc</td>\n",
       "      <td>4.225088</td>\n",
       "      <td>4.006856</td>\n",
       "      <td>4.348181</td>\n",
       "      <td>regression</td>\n",
       "    </tr>\n",
       "    <tr>\n",
       "      <th>1</th>\n",
       "      <td>[weight_enc, model_year_enc]</td>\n",
       "      <td>model_year_enc</td>\n",
       "      <td>3.000421</td>\n",
       "      <td>2.963771</td>\n",
       "      <td>3.132604</td>\n",
       "      <td>regression</td>\n",
       "    </tr>\n",
       "    <tr>\n",
       "      <th>2</th>\n",
       "      <td>[weight_enc, model_year_enc, horsepower_enc]</td>\n",
       "      <td>horsepower_enc</td>\n",
       "      <td>2.910080</td>\n",
       "      <td>2.850227</td>\n",
       "      <td>3.044059</td>\n",
       "      <td>regression</td>\n",
       "    </tr>\n",
       "    <tr>\n",
       "      <th>3</th>\n",
       "      <td>[horsepower_enc, weight_enc, model_year_enc, o...</td>\n",
       "      <td>origin_enc</td>\n",
       "      <td>2.859103</td>\n",
       "      <td>2.737770</td>\n",
       "      <td>2.937309</td>\n",
       "      <td>regression</td>\n",
       "    </tr>\n",
       "    <tr>\n",
       "      <th>4</th>\n",
       "      <td>[horsepower_enc, origin_enc, weight_enc, model...</td>\n",
       "      <td>cylinders_enc</td>\n",
       "      <td>2.857995</td>\n",
       "      <td>2.713305</td>\n",
       "      <td>2.934307</td>\n",
       "      <td>regression</td>\n",
       "    </tr>\n",
       "  </tbody>\n",
       "</table>\n",
       "</div>"
      ],
      "text/plain": [
       "                                          predictors last_added_predictor  \\\n",
       "0                                       [weight_enc]           weight_enc   \n",
       "1                       [weight_enc, model_year_enc]       model_year_enc   \n",
       "2       [weight_enc, model_year_enc, horsepower_enc]       horsepower_enc   \n",
       "3  [horsepower_enc, weight_enc, model_year_enc, o...           origin_enc   \n",
       "4  [horsepower_enc, origin_enc, weight_enc, model...        cylinders_enc   \n",
       "\n",
       "   train_performance  selection_performance  validation_performance  \\\n",
       "0           4.225088               4.006856                4.348181   \n",
       "1           3.000421               2.963771                3.132604   \n",
       "2           2.910080               2.850227                3.044059   \n",
       "3           2.859103               2.737770                2.937309   \n",
       "4           2.857995               2.713305                2.934307   \n",
       "\n",
       "   model_type  \n",
       "0  regression  \n",
       "1  regression  \n",
       "2  regression  \n",
       "3  regression  \n",
       "4  regression  "
      ]
     },
     "execution_count": 31,
     "metadata": {},
     "output_type": "execute_result"
    }
   ],
   "source": [
    "forward_selection = ForwardFeatureSelection(model_type=model_type,\n",
    "                                            # model_name=\"my-linear-regression\",\n",
    "                                            pos_only=True)\n",
    "\n",
    "# fit the forward feature selection on the train and selection data\n",
    "# there are optional parameters to force and/or exclude certain predictors (see docs)\n",
    "forward_selection.fit(basetable[basetable[\"split\"]!=\"validation\"],\n",
    "                      target_column_name=target_col,\n",
    "                      predictors=preselected_predictors)\n",
    "\n",
    "# compute model performance\n",
    "performances = (forward_selection\n",
    "                .compute_model_performances(basetable, target_column_name=target_col))\n",
    "performances"
   ]
  },
  {
   "cell_type": "markdown",
   "metadata": {},
   "source": [
    "As can be seen, model improvement gradually flattens when more variables are added."
   ]
  },
  {
   "cell_type": "code",
   "execution_count": null,
   "metadata": {},
   "outputs": [
    {
     "data": {
      "image/png": "[encoded data removed]",
      "text/plain": [
       "<Figure size 864x576 with 1 Axes>"
      ]
     },
     "metadata": {},
     "output_type": "display_data"
    }
   ],
   "source": [
    "# plot performance curves\n",
    "plot_performance_curves(performances)"
   ]
  },
  {
   "cell_type": "code",
   "execution_count": null,
   "metadata": {},
   "outputs": [
    {
     "data": {
      "image/png": "[encoded data removed]",
      "text/plain": [
       "<Figure size 864x576 with 1 Axes>"
      ]
     },
     "metadata": {},
     "output_type": "display_data"
    }
   ],
   "source": [
    "# one can also compute using another metric function and plot the according performance curves\n",
    "performances_ = (forward_selection\n",
    "                .compute_model_performances(basetable, target_column_name=target_col, \n",
    "                                            metric=metrics.r2_score))\n",
    "plot_performance_curves(performances_, metric_name=\"R\\N{SUPERSCRIPT TWO} coefficient\")"
   ]
  },
  {
   "cell_type": "markdown",
   "metadata": {},
   "source": [
    "Based on the performance curves (RMSE per model with a particular number of predictors in case of linear regression), a final model can then be chosen and the variable importance can be plotted."
   ]
  },
  {
   "cell_type": "code",
   "execution_count": null,
   "metadata": {},
   "outputs": [
    {
     "data": {
      "text/plain": [
       "['horsepower_enc', 'weight_enc', 'model_year_enc', 'origin_enc']"
      ]
     },
     "execution_count": 34,
     "metadata": {},
     "output_type": "execute_result"
    }
   ],
   "source": [
    "# pick the optimal step based on visual inspection in the plot above (try to find a knee point in the selection curve)\n",
    "model = forward_selection.get_model_from_step(3)\n",
    "\n",
    "final_predictors = model.predictors\n",
    "final_predictors"
   ]
  },
  {
   "cell_type": "code",
   "execution_count": null,
   "metadata": {},
   "outputs": [
    {
     "data": {
      "text/plain": [
       "{'horsepower_enc': 0.23995291830303586,\n",
       " 'weight_enc': 0.6043307579612885,\n",
       " 'model_year_enc': 0.5934134477782862,\n",
       " 'origin_enc': 0.1525062273428473}"
      ]
     },
     "execution_count": 35,
     "metadata": {},
     "output_type": "execute_result"
    }
   ],
   "source": [
    "model.get_coef_by_predictor()"
   ]
  },
  {
   "cell_type": "code",
   "execution_count": null,
   "metadata": {},
   "outputs": [
    {
     "data": {
      "image/png": "[encoded data removed]",
      "text/plain": [
       "<Figure size 864x576 with 1 Axes>"
      ]
     },
     "metadata": {},
     "output_type": "display_data"
    }
   ],
   "source": [
    "variable_importance = model.compute_variable_importance(\n",
    "    basetable[basetable[\"split\"]==\"selection\"])\n",
    "plot_variable_importance(variable_importance)"
   ]
  },
  {
   "cell_type": "markdown",
   "metadata": {},
   "source": [
    "**Note**: variable importance is based on correlation of the predictor with the model predictions (and not the true values!)."
   ]
  },
  {
   "cell_type": "markdown",
   "metadata": {},
   "source": [
    "Finally, if wanted, we can convert the model to a dictionary to store it as JSON."
   ]
  },
  {
   "cell_type": "code",
   "execution_count": null,
   "metadata": {},
   "outputs": [
    {
     "data": {
      "text/plain": [
       "{'meta': 'linear-regression',\n",
       " 'predictors': ['horsepower_enc',\n",
       "  'weight_enc',\n",
       "  'model_year_enc',\n",
       "  'origin_enc'],\n",
       " '_eval_metrics_by_split': {'selection': 2.7377702963941557,\n",
       "  'train': 2.859102895087039,\n",
       "  'validation': 2.9373087153532134},\n",
       " 'params': {'copy_X': True,\n",
       "  'fit_intercept': True,\n",
       "  'n_jobs': None,\n",
       "  'normalize': 'deprecated',\n",
       "  'positive': False},\n",
       " 'coef_': [0.23995291830303586,\n",
       "  0.6043307579612885,\n",
       "  0.5934134477782862,\n",
       "  0.1525062273428473],\n",
       " 'intercept_': -13.893878727739835}"
      ]
     },
     "execution_count": 37,
     "metadata": {},
     "output_type": "execute_result"
    }
   ],
   "source": [
    "model_dict = model.serialize()\n",
    "model_dict"
   ]
  },
  {
   "cell_type": "code",
   "execution_count": null,
   "metadata": {},
   "outputs": [],
   "source": [
    "if False:\n",
    "    # to save the model as a JSON file, run the following snippet\n",
    "    model_path = os.path.join(\"output\", \"model.json\")\n",
    "    with open(model_path, \"w\") as file:\n",
    "        json.dump(model_dict, file)\n",
    "\n",
    "    # to reload the model again from a JSON file, run the following snippet\n",
    "    with open(model_path, \"r\") as file:\n",
    "        model_dict = json.load(file)\n",
    "    model = LinearRegressionModel()\n",
    "    model.deserialize(model_dict)"
   ]
  },
  {
   "cell_type": "markdown",
   "metadata": {},
   "source": [
    "## Evaluation"
   ]
  },
  {
   "cell_type": "markdown",
   "metadata": {},
   "source": [
    "Now that we have build and selected a final model, it is time to evaluate its predictions on the test set against various evaluation metrics. The used evaluation metrics are:\n",
    "\n",
    "1. Coefficient of Determination (R2)\n",
    "2. Mean Absolute Error (MAE)\n",
    "3. Mean Squared Error (MSE)\n",
    "4. Root Mean Squared Error (RMSE)\n",
    "\n",
    "Furthermore, plotting makes the evaluation of a linear regression model a lot easier. We will use a **prediction plot**, which presents predictions from the model against actual values and a **Q-Q plot** from the standardized prediction residuals."
   ]
  },
  {
   "cell_type": "code",
   "execution_count": null,
   "metadata": {},
   "outputs": [],
   "source": [
    "# get numpy array of True target labels and predicted values\n",
    "y_true = basetable[basetable[\"split\"]==\"validation\"][target_col].values\n",
    "y_pred = model.score_model(basetable[basetable[\"split\"]==\"validation\"])"
   ]
  },
  {
   "cell_type": "code",
   "execution_count": null,
   "metadata": {},
   "outputs": [],
   "source": [
    "evaluator = RegressionEvaluator()\n",
    "evaluator.fit(y_true, y_pred)"
   ]
  },
  {
   "cell_type": "code",
   "execution_count": null,
   "metadata": {},
   "outputs": [
    {
     "data": {
      "text/plain": [
       "R2      0.849835\n",
       "MAE     2.068583\n",
       "MSE     8.627782\n",
       "RMSE    2.937309\n",
       "dtype: float64"
      ]
     },
     "execution_count": 41,
     "metadata": {},
     "output_type": "execute_result"
    }
   ],
   "source": [
    "evaluator.scalar_metrics"
   ]
  },
  {
   "cell_type": "code",
   "execution_count": null,
   "metadata": {},
   "outputs": [
    {
     "data": {
      "image/png": "[encoded data removed]",
      "text/plain": [
       "<Figure size 864x576 with 1 Axes>"
      ]
     },
     "metadata": {},
     "output_type": "display_data"
    }
   ],
   "source": [
    "evaluator.plot_predictions()"
   ]
  },
  {
   "cell_type": "code",
   "execution_count": null,
   "metadata": {},
   "outputs": [
    {
     "data": {
      "text/plain": [
       "quantiles    [-2.128045234184984, -1.8339146358159146, -1.6...\n",
       "residuals    [-1.8528672099028296, -1.830647894988804, -1.7...\n",
       "dtype: object"
      ]
     },
     "execution_count": 43,
     "metadata": {},
     "output_type": "execute_result"
    }
   ],
   "source": [
    "evaluator.qq"
   ]
  },
  {
   "cell_type": "code",
   "execution_count": null,
   "metadata": {},
   "outputs": [
    {
     "data": {
      "image/png": "[encoded data removed]",
      "text/plain": [
       "<Figure size 864x576 with 1 Axes>"
      ]
     },
     "metadata": {},
     "output_type": "display_data"
    }
   ],
   "source": [
    "evaluator.plot_qq()"
   ]
  }
 ],
 "metadata": {
  "kernelspec": {
   "display_name": "Python 3",
   "language": "python",
   "name": "python3"
  },
  "language_info": {
   "codemirror_mode": {
    "name": "ipython",
    "version": 3
   },
   "file_extension": ".py",
   "mimetype": "text/x-python",
   "name": "python",
   "nbconvert_exporter": "python",
   "pygments_lexer": "ipython3",
   "version": "3.8.3"
  }
 },
 "nbformat": 4,
 "nbformat_minor": 4
}
